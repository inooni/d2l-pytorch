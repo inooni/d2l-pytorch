{
  "nbformat": 4,
  "nbformat_minor": 0,
  "metadata": {
    "colab": {
      "provenance": [],
      "collapsed_sections": []
    },
    "kernelspec": {
      "name": "python3",
      "display_name": "Python 3"
    },
    "language_info": {
      "name": "python"
    },
    "accelerator": "GPU",
    "widgets": {
      "application/vnd.jupyter.widget-state+json": {
        "0f747da0ba9945ed9549502ab939d72b": {
          "model_module": "@jupyter-widgets/controls",
          "model_name": "HBoxModel",
          "model_module_version": "1.5.0",
          "state": {
            "_dom_classes": [],
            "_model_module": "@jupyter-widgets/controls",
            "_model_module_version": "1.5.0",
            "_model_name": "HBoxModel",
            "_view_count": null,
            "_view_module": "@jupyter-widgets/controls",
            "_view_module_version": "1.5.0",
            "_view_name": "HBoxView",
            "box_style": "",
            "children": [
              "IPY_MODEL_0b188be7333d4426a3051f8060f4ac4f",
              "IPY_MODEL_c9f0c3777a81464f95949aa52473ace3",
              "IPY_MODEL_3886c93b146b42f186621f06927a816b"
            ],
            "layout": "IPY_MODEL_215715ec14004c0da5755a6ce39c657b"
          }
        },
        "0b188be7333d4426a3051f8060f4ac4f": {
          "model_module": "@jupyter-widgets/controls",
          "model_name": "HTMLModel",
          "model_module_version": "1.5.0",
          "state": {
            "_dom_classes": [],
            "_model_module": "@jupyter-widgets/controls",
            "_model_module_version": "1.5.0",
            "_model_name": "HTMLModel",
            "_view_count": null,
            "_view_module": "@jupyter-widgets/controls",
            "_view_module_version": "1.5.0",
            "_view_name": "HTMLView",
            "description": "",
            "description_tooltip": null,
            "layout": "IPY_MODEL_213fcafc73504e3e86b5c2b0e7f8c1cc",
            "placeholder": "​",
            "style": "IPY_MODEL_3a9b4e12821e43d89e595206db22d772",
            "value": "100%"
          }
        },
        "c9f0c3777a81464f95949aa52473ace3": {
          "model_module": "@jupyter-widgets/controls",
          "model_name": "FloatProgressModel",
          "model_module_version": "1.5.0",
          "state": {
            "_dom_classes": [],
            "_model_module": "@jupyter-widgets/controls",
            "_model_module_version": "1.5.0",
            "_model_name": "FloatProgressModel",
            "_view_count": null,
            "_view_module": "@jupyter-widgets/controls",
            "_view_module_version": "1.5.0",
            "_view_name": "ProgressView",
            "bar_style": "success",
            "description": "",
            "description_tooltip": null,
            "layout": "IPY_MODEL_cb16a1ace2644c8584cd4d3ddc2b20c1",
            "max": 26421880,
            "min": 0,
            "orientation": "horizontal",
            "style": "IPY_MODEL_a0a5e9bb06fc4d3f8087ad8344fe3917",
            "value": 26421880
          }
        },
        "3886c93b146b42f186621f06927a816b": {
          "model_module": "@jupyter-widgets/controls",
          "model_name": "HTMLModel",
          "model_module_version": "1.5.0",
          "state": {
            "_dom_classes": [],
            "_model_module": "@jupyter-widgets/controls",
            "_model_module_version": "1.5.0",
            "_model_name": "HTMLModel",
            "_view_count": null,
            "_view_module": "@jupyter-widgets/controls",
            "_view_module_version": "1.5.0",
            "_view_name": "HTMLView",
            "description": "",
            "description_tooltip": null,
            "layout": "IPY_MODEL_9deda2bdf28444248fe0c8af3304ac7e",
            "placeholder": "​",
            "style": "IPY_MODEL_a9f0992bad4c40dd92a48ad82aba7401",
            "value": " 26421880/26421880 [00:01&lt;00:00, 29031962.66it/s]"
          }
        },
        "215715ec14004c0da5755a6ce39c657b": {
          "model_module": "@jupyter-widgets/base",
          "model_name": "LayoutModel",
          "model_module_version": "1.2.0",
          "state": {
            "_model_module": "@jupyter-widgets/base",
            "_model_module_version": "1.2.0",
            "_model_name": "LayoutModel",
            "_view_count": null,
            "_view_module": "@jupyter-widgets/base",
            "_view_module_version": "1.2.0",
            "_view_name": "LayoutView",
            "align_content": null,
            "align_items": null,
            "align_self": null,
            "border": null,
            "bottom": null,
            "display": null,
            "flex": null,
            "flex_flow": null,
            "grid_area": null,
            "grid_auto_columns": null,
            "grid_auto_flow": null,
            "grid_auto_rows": null,
            "grid_column": null,
            "grid_gap": null,
            "grid_row": null,
            "grid_template_areas": null,
            "grid_template_columns": null,
            "grid_template_rows": null,
            "height": null,
            "justify_content": null,
            "justify_items": null,
            "left": null,
            "margin": null,
            "max_height": null,
            "max_width": null,
            "min_height": null,
            "min_width": null,
            "object_fit": null,
            "object_position": null,
            "order": null,
            "overflow": null,
            "overflow_x": null,
            "overflow_y": null,
            "padding": null,
            "right": null,
            "top": null,
            "visibility": null,
            "width": null
          }
        },
        "213fcafc73504e3e86b5c2b0e7f8c1cc": {
          "model_module": "@jupyter-widgets/base",
          "model_name": "LayoutModel",
          "model_module_version": "1.2.0",
          "state": {
            "_model_module": "@jupyter-widgets/base",
            "_model_module_version": "1.2.0",
            "_model_name": "LayoutModel",
            "_view_count": null,
            "_view_module": "@jupyter-widgets/base",
            "_view_module_version": "1.2.0",
            "_view_name": "LayoutView",
            "align_content": null,
            "align_items": null,
            "align_self": null,
            "border": null,
            "bottom": null,
            "display": null,
            "flex": null,
            "flex_flow": null,
            "grid_area": null,
            "grid_auto_columns": null,
            "grid_auto_flow": null,
            "grid_auto_rows": null,
            "grid_column": null,
            "grid_gap": null,
            "grid_row": null,
            "grid_template_areas": null,
            "grid_template_columns": null,
            "grid_template_rows": null,
            "height": null,
            "justify_content": null,
            "justify_items": null,
            "left": null,
            "margin": null,
            "max_height": null,
            "max_width": null,
            "min_height": null,
            "min_width": null,
            "object_fit": null,
            "object_position": null,
            "order": null,
            "overflow": null,
            "overflow_x": null,
            "overflow_y": null,
            "padding": null,
            "right": null,
            "top": null,
            "visibility": null,
            "width": null
          }
        },
        "3a9b4e12821e43d89e595206db22d772": {
          "model_module": "@jupyter-widgets/controls",
          "model_name": "DescriptionStyleModel",
          "model_module_version": "1.5.0",
          "state": {
            "_model_module": "@jupyter-widgets/controls",
            "_model_module_version": "1.5.0",
            "_model_name": "DescriptionStyleModel",
            "_view_count": null,
            "_view_module": "@jupyter-widgets/base",
            "_view_module_version": "1.2.0",
            "_view_name": "StyleView",
            "description_width": ""
          }
        },
        "cb16a1ace2644c8584cd4d3ddc2b20c1": {
          "model_module": "@jupyter-widgets/base",
          "model_name": "LayoutModel",
          "model_module_version": "1.2.0",
          "state": {
            "_model_module": "@jupyter-widgets/base",
            "_model_module_version": "1.2.0",
            "_model_name": "LayoutModel",
            "_view_count": null,
            "_view_module": "@jupyter-widgets/base",
            "_view_module_version": "1.2.0",
            "_view_name": "LayoutView",
            "align_content": null,
            "align_items": null,
            "align_self": null,
            "border": null,
            "bottom": null,
            "display": null,
            "flex": null,
            "flex_flow": null,
            "grid_area": null,
            "grid_auto_columns": null,
            "grid_auto_flow": null,
            "grid_auto_rows": null,
            "grid_column": null,
            "grid_gap": null,
            "grid_row": null,
            "grid_template_areas": null,
            "grid_template_columns": null,
            "grid_template_rows": null,
            "height": null,
            "justify_content": null,
            "justify_items": null,
            "left": null,
            "margin": null,
            "max_height": null,
            "max_width": null,
            "min_height": null,
            "min_width": null,
            "object_fit": null,
            "object_position": null,
            "order": null,
            "overflow": null,
            "overflow_x": null,
            "overflow_y": null,
            "padding": null,
            "right": null,
            "top": null,
            "visibility": null,
            "width": null
          }
        },
        "a0a5e9bb06fc4d3f8087ad8344fe3917": {
          "model_module": "@jupyter-widgets/controls",
          "model_name": "ProgressStyleModel",
          "model_module_version": "1.5.0",
          "state": {
            "_model_module": "@jupyter-widgets/controls",
            "_model_module_version": "1.5.0",
            "_model_name": "ProgressStyleModel",
            "_view_count": null,
            "_view_module": "@jupyter-widgets/base",
            "_view_module_version": "1.2.0",
            "_view_name": "StyleView",
            "bar_color": null,
            "description_width": ""
          }
        },
        "9deda2bdf28444248fe0c8af3304ac7e": {
          "model_module": "@jupyter-widgets/base",
          "model_name": "LayoutModel",
          "model_module_version": "1.2.0",
          "state": {
            "_model_module": "@jupyter-widgets/base",
            "_model_module_version": "1.2.0",
            "_model_name": "LayoutModel",
            "_view_count": null,
            "_view_module": "@jupyter-widgets/base",
            "_view_module_version": "1.2.0",
            "_view_name": "LayoutView",
            "align_content": null,
            "align_items": null,
            "align_self": null,
            "border": null,
            "bottom": null,
            "display": null,
            "flex": null,
            "flex_flow": null,
            "grid_area": null,
            "grid_auto_columns": null,
            "grid_auto_flow": null,
            "grid_auto_rows": null,
            "grid_column": null,
            "grid_gap": null,
            "grid_row": null,
            "grid_template_areas": null,
            "grid_template_columns": null,
            "grid_template_rows": null,
            "height": null,
            "justify_content": null,
            "justify_items": null,
            "left": null,
            "margin": null,
            "max_height": null,
            "max_width": null,
            "min_height": null,
            "min_width": null,
            "object_fit": null,
            "object_position": null,
            "order": null,
            "overflow": null,
            "overflow_x": null,
            "overflow_y": null,
            "padding": null,
            "right": null,
            "top": null,
            "visibility": null,
            "width": null
          }
        },
        "a9f0992bad4c40dd92a48ad82aba7401": {
          "model_module": "@jupyter-widgets/controls",
          "model_name": "DescriptionStyleModel",
          "model_module_version": "1.5.0",
          "state": {
            "_model_module": "@jupyter-widgets/controls",
            "_model_module_version": "1.5.0",
            "_model_name": "DescriptionStyleModel",
            "_view_count": null,
            "_view_module": "@jupyter-widgets/base",
            "_view_module_version": "1.2.0",
            "_view_name": "StyleView",
            "description_width": ""
          }
        },
        "bddb1a44bf4f46adae97451423956281": {
          "model_module": "@jupyter-widgets/controls",
          "model_name": "HBoxModel",
          "model_module_version": "1.5.0",
          "state": {
            "_dom_classes": [],
            "_model_module": "@jupyter-widgets/controls",
            "_model_module_version": "1.5.0",
            "_model_name": "HBoxModel",
            "_view_count": null,
            "_view_module": "@jupyter-widgets/controls",
            "_view_module_version": "1.5.0",
            "_view_name": "HBoxView",
            "box_style": "",
            "children": [
              "IPY_MODEL_ad02e6a8d56d400880c6453f2033b0af",
              "IPY_MODEL_4a795f3753664f7cb0684502773766ba",
              "IPY_MODEL_cfb2fb983b2744288ceb7665ea2a04e0"
            ],
            "layout": "IPY_MODEL_a6076bec7a1c4d90b532f74b07d29534"
          }
        },
        "ad02e6a8d56d400880c6453f2033b0af": {
          "model_module": "@jupyter-widgets/controls",
          "model_name": "HTMLModel",
          "model_module_version": "1.5.0",
          "state": {
            "_dom_classes": [],
            "_model_module": "@jupyter-widgets/controls",
            "_model_module_version": "1.5.0",
            "_model_name": "HTMLModel",
            "_view_count": null,
            "_view_module": "@jupyter-widgets/controls",
            "_view_module_version": "1.5.0",
            "_view_name": "HTMLView",
            "description": "",
            "description_tooltip": null,
            "layout": "IPY_MODEL_0e553f1d1f654a1ea1763aed3156a30d",
            "placeholder": "​",
            "style": "IPY_MODEL_2a85001836fb4dc09745342a5ab62530",
            "value": "100%"
          }
        },
        "4a795f3753664f7cb0684502773766ba": {
          "model_module": "@jupyter-widgets/controls",
          "model_name": "FloatProgressModel",
          "model_module_version": "1.5.0",
          "state": {
            "_dom_classes": [],
            "_model_module": "@jupyter-widgets/controls",
            "_model_module_version": "1.5.0",
            "_model_name": "FloatProgressModel",
            "_view_count": null,
            "_view_module": "@jupyter-widgets/controls",
            "_view_module_version": "1.5.0",
            "_view_name": "ProgressView",
            "bar_style": "success",
            "description": "",
            "description_tooltip": null,
            "layout": "IPY_MODEL_2f04a1b2305447d3a1bc0911adb814dd",
            "max": 29515,
            "min": 0,
            "orientation": "horizontal",
            "style": "IPY_MODEL_38ca146ddb6a4b42b4ca057ba76fe690",
            "value": 29515
          }
        },
        "cfb2fb983b2744288ceb7665ea2a04e0": {
          "model_module": "@jupyter-widgets/controls",
          "model_name": "HTMLModel",
          "model_module_version": "1.5.0",
          "state": {
            "_dom_classes": [],
            "_model_module": "@jupyter-widgets/controls",
            "_model_module_version": "1.5.0",
            "_model_name": "HTMLModel",
            "_view_count": null,
            "_view_module": "@jupyter-widgets/controls",
            "_view_module_version": "1.5.0",
            "_view_name": "HTMLView",
            "description": "",
            "description_tooltip": null,
            "layout": "IPY_MODEL_5abe03aafe854a15882f5f683718d73c",
            "placeholder": "​",
            "style": "IPY_MODEL_a2695d8024bd4be0a3f6ff3875591a69",
            "value": " 29515/29515 [00:00&lt;00:00, 326098.67it/s]"
          }
        },
        "a6076bec7a1c4d90b532f74b07d29534": {
          "model_module": "@jupyter-widgets/base",
          "model_name": "LayoutModel",
          "model_module_version": "1.2.0",
          "state": {
            "_model_module": "@jupyter-widgets/base",
            "_model_module_version": "1.2.0",
            "_model_name": "LayoutModel",
            "_view_count": null,
            "_view_module": "@jupyter-widgets/base",
            "_view_module_version": "1.2.0",
            "_view_name": "LayoutView",
            "align_content": null,
            "align_items": null,
            "align_self": null,
            "border": null,
            "bottom": null,
            "display": null,
            "flex": null,
            "flex_flow": null,
            "grid_area": null,
            "grid_auto_columns": null,
            "grid_auto_flow": null,
            "grid_auto_rows": null,
            "grid_column": null,
            "grid_gap": null,
            "grid_row": null,
            "grid_template_areas": null,
            "grid_template_columns": null,
            "grid_template_rows": null,
            "height": null,
            "justify_content": null,
            "justify_items": null,
            "left": null,
            "margin": null,
            "max_height": null,
            "max_width": null,
            "min_height": null,
            "min_width": null,
            "object_fit": null,
            "object_position": null,
            "order": null,
            "overflow": null,
            "overflow_x": null,
            "overflow_y": null,
            "padding": null,
            "right": null,
            "top": null,
            "visibility": null,
            "width": null
          }
        },
        "0e553f1d1f654a1ea1763aed3156a30d": {
          "model_module": "@jupyter-widgets/base",
          "model_name": "LayoutModel",
          "model_module_version": "1.2.0",
          "state": {
            "_model_module": "@jupyter-widgets/base",
            "_model_module_version": "1.2.0",
            "_model_name": "LayoutModel",
            "_view_count": null,
            "_view_module": "@jupyter-widgets/base",
            "_view_module_version": "1.2.0",
            "_view_name": "LayoutView",
            "align_content": null,
            "align_items": null,
            "align_self": null,
            "border": null,
            "bottom": null,
            "display": null,
            "flex": null,
            "flex_flow": null,
            "grid_area": null,
            "grid_auto_columns": null,
            "grid_auto_flow": null,
            "grid_auto_rows": null,
            "grid_column": null,
            "grid_gap": null,
            "grid_row": null,
            "grid_template_areas": null,
            "grid_template_columns": null,
            "grid_template_rows": null,
            "height": null,
            "justify_content": null,
            "justify_items": null,
            "left": null,
            "margin": null,
            "max_height": null,
            "max_width": null,
            "min_height": null,
            "min_width": null,
            "object_fit": null,
            "object_position": null,
            "order": null,
            "overflow": null,
            "overflow_x": null,
            "overflow_y": null,
            "padding": null,
            "right": null,
            "top": null,
            "visibility": null,
            "width": null
          }
        },
        "2a85001836fb4dc09745342a5ab62530": {
          "model_module": "@jupyter-widgets/controls",
          "model_name": "DescriptionStyleModel",
          "model_module_version": "1.5.0",
          "state": {
            "_model_module": "@jupyter-widgets/controls",
            "_model_module_version": "1.5.0",
            "_model_name": "DescriptionStyleModel",
            "_view_count": null,
            "_view_module": "@jupyter-widgets/base",
            "_view_module_version": "1.2.0",
            "_view_name": "StyleView",
            "description_width": ""
          }
        },
        "2f04a1b2305447d3a1bc0911adb814dd": {
          "model_module": "@jupyter-widgets/base",
          "model_name": "LayoutModel",
          "model_module_version": "1.2.0",
          "state": {
            "_model_module": "@jupyter-widgets/base",
            "_model_module_version": "1.2.0",
            "_model_name": "LayoutModel",
            "_view_count": null,
            "_view_module": "@jupyter-widgets/base",
            "_view_module_version": "1.2.0",
            "_view_name": "LayoutView",
            "align_content": null,
            "align_items": null,
            "align_self": null,
            "border": null,
            "bottom": null,
            "display": null,
            "flex": null,
            "flex_flow": null,
            "grid_area": null,
            "grid_auto_columns": null,
            "grid_auto_flow": null,
            "grid_auto_rows": null,
            "grid_column": null,
            "grid_gap": null,
            "grid_row": null,
            "grid_template_areas": null,
            "grid_template_columns": null,
            "grid_template_rows": null,
            "height": null,
            "justify_content": null,
            "justify_items": null,
            "left": null,
            "margin": null,
            "max_height": null,
            "max_width": null,
            "min_height": null,
            "min_width": null,
            "object_fit": null,
            "object_position": null,
            "order": null,
            "overflow": null,
            "overflow_x": null,
            "overflow_y": null,
            "padding": null,
            "right": null,
            "top": null,
            "visibility": null,
            "width": null
          }
        },
        "38ca146ddb6a4b42b4ca057ba76fe690": {
          "model_module": "@jupyter-widgets/controls",
          "model_name": "ProgressStyleModel",
          "model_module_version": "1.5.0",
          "state": {
            "_model_module": "@jupyter-widgets/controls",
            "_model_module_version": "1.5.0",
            "_model_name": "ProgressStyleModel",
            "_view_count": null,
            "_view_module": "@jupyter-widgets/base",
            "_view_module_version": "1.2.0",
            "_view_name": "StyleView",
            "bar_color": null,
            "description_width": ""
          }
        },
        "5abe03aafe854a15882f5f683718d73c": {
          "model_module": "@jupyter-widgets/base",
          "model_name": "LayoutModel",
          "model_module_version": "1.2.0",
          "state": {
            "_model_module": "@jupyter-widgets/base",
            "_model_module_version": "1.2.0",
            "_model_name": "LayoutModel",
            "_view_count": null,
            "_view_module": "@jupyter-widgets/base",
            "_view_module_version": "1.2.0",
            "_view_name": "LayoutView",
            "align_content": null,
            "align_items": null,
            "align_self": null,
            "border": null,
            "bottom": null,
            "display": null,
            "flex": null,
            "flex_flow": null,
            "grid_area": null,
            "grid_auto_columns": null,
            "grid_auto_flow": null,
            "grid_auto_rows": null,
            "grid_column": null,
            "grid_gap": null,
            "grid_row": null,
            "grid_template_areas": null,
            "grid_template_columns": null,
            "grid_template_rows": null,
            "height": null,
            "justify_content": null,
            "justify_items": null,
            "left": null,
            "margin": null,
            "max_height": null,
            "max_width": null,
            "min_height": null,
            "min_width": null,
            "object_fit": null,
            "object_position": null,
            "order": null,
            "overflow": null,
            "overflow_x": null,
            "overflow_y": null,
            "padding": null,
            "right": null,
            "top": null,
            "visibility": null,
            "width": null
          }
        },
        "a2695d8024bd4be0a3f6ff3875591a69": {
          "model_module": "@jupyter-widgets/controls",
          "model_name": "DescriptionStyleModel",
          "model_module_version": "1.5.0",
          "state": {
            "_model_module": "@jupyter-widgets/controls",
            "_model_module_version": "1.5.0",
            "_model_name": "DescriptionStyleModel",
            "_view_count": null,
            "_view_module": "@jupyter-widgets/base",
            "_view_module_version": "1.2.0",
            "_view_name": "StyleView",
            "description_width": ""
          }
        },
        "ebe34d16db204caaa17a16588aadb09d": {
          "model_module": "@jupyter-widgets/controls",
          "model_name": "HBoxModel",
          "model_module_version": "1.5.0",
          "state": {
            "_dom_classes": [],
            "_model_module": "@jupyter-widgets/controls",
            "_model_module_version": "1.5.0",
            "_model_name": "HBoxModel",
            "_view_count": null,
            "_view_module": "@jupyter-widgets/controls",
            "_view_module_version": "1.5.0",
            "_view_name": "HBoxView",
            "box_style": "",
            "children": [
              "IPY_MODEL_66f7255c8f3048a886c311c492aa1f7b",
              "IPY_MODEL_00775fa379244dbdbf8e9f4b60d6be07",
              "IPY_MODEL_824e0ab411024b4badb63a9174043aa5"
            ],
            "layout": "IPY_MODEL_7ae98d1789fc4090a09a0b33c9d80e31"
          }
        },
        "66f7255c8f3048a886c311c492aa1f7b": {
          "model_module": "@jupyter-widgets/controls",
          "model_name": "HTMLModel",
          "model_module_version": "1.5.0",
          "state": {
            "_dom_classes": [],
            "_model_module": "@jupyter-widgets/controls",
            "_model_module_version": "1.5.0",
            "_model_name": "HTMLModel",
            "_view_count": null,
            "_view_module": "@jupyter-widgets/controls",
            "_view_module_version": "1.5.0",
            "_view_name": "HTMLView",
            "description": "",
            "description_tooltip": null,
            "layout": "IPY_MODEL_bf0d2f5fa50844d8b2ba81dc9c62fefb",
            "placeholder": "​",
            "style": "IPY_MODEL_0e9af7167ec24148b45d9ffebbc48167",
            "value": "100%"
          }
        },
        "00775fa379244dbdbf8e9f4b60d6be07": {
          "model_module": "@jupyter-widgets/controls",
          "model_name": "FloatProgressModel",
          "model_module_version": "1.5.0",
          "state": {
            "_dom_classes": [],
            "_model_module": "@jupyter-widgets/controls",
            "_model_module_version": "1.5.0",
            "_model_name": "FloatProgressModel",
            "_view_count": null,
            "_view_module": "@jupyter-widgets/controls",
            "_view_module_version": "1.5.0",
            "_view_name": "ProgressView",
            "bar_style": "success",
            "description": "",
            "description_tooltip": null,
            "layout": "IPY_MODEL_dfcd0ca3bb9542e3aa20bd2ce8a2fe76",
            "max": 4422102,
            "min": 0,
            "orientation": "horizontal",
            "style": "IPY_MODEL_2ff73b9ef97640a296c350727cd48f52",
            "value": 4422102
          }
        },
        "824e0ab411024b4badb63a9174043aa5": {
          "model_module": "@jupyter-widgets/controls",
          "model_name": "HTMLModel",
          "model_module_version": "1.5.0",
          "state": {
            "_dom_classes": [],
            "_model_module": "@jupyter-widgets/controls",
            "_model_module_version": "1.5.0",
            "_model_name": "HTMLModel",
            "_view_count": null,
            "_view_module": "@jupyter-widgets/controls",
            "_view_module_version": "1.5.0",
            "_view_name": "HTMLView",
            "description": "",
            "description_tooltip": null,
            "layout": "IPY_MODEL_3b0d2dc1a2b04825b03f6a1a6d5c0d5f",
            "placeholder": "​",
            "style": "IPY_MODEL_26c1e25c3dbe46f8ad8fabe7d78972f6",
            "value": " 4422102/4422102 [00:00&lt;00:00, 4162406.38it/s]"
          }
        },
        "7ae98d1789fc4090a09a0b33c9d80e31": {
          "model_module": "@jupyter-widgets/base",
          "model_name": "LayoutModel",
          "model_module_version": "1.2.0",
          "state": {
            "_model_module": "@jupyter-widgets/base",
            "_model_module_version": "1.2.0",
            "_model_name": "LayoutModel",
            "_view_count": null,
            "_view_module": "@jupyter-widgets/base",
            "_view_module_version": "1.2.0",
            "_view_name": "LayoutView",
            "align_content": null,
            "align_items": null,
            "align_self": null,
            "border": null,
            "bottom": null,
            "display": null,
            "flex": null,
            "flex_flow": null,
            "grid_area": null,
            "grid_auto_columns": null,
            "grid_auto_flow": null,
            "grid_auto_rows": null,
            "grid_column": null,
            "grid_gap": null,
            "grid_row": null,
            "grid_template_areas": null,
            "grid_template_columns": null,
            "grid_template_rows": null,
            "height": null,
            "justify_content": null,
            "justify_items": null,
            "left": null,
            "margin": null,
            "max_height": null,
            "max_width": null,
            "min_height": null,
            "min_width": null,
            "object_fit": null,
            "object_position": null,
            "order": null,
            "overflow": null,
            "overflow_x": null,
            "overflow_y": null,
            "padding": null,
            "right": null,
            "top": null,
            "visibility": null,
            "width": null
          }
        },
        "bf0d2f5fa50844d8b2ba81dc9c62fefb": {
          "model_module": "@jupyter-widgets/base",
          "model_name": "LayoutModel",
          "model_module_version": "1.2.0",
          "state": {
            "_model_module": "@jupyter-widgets/base",
            "_model_module_version": "1.2.0",
            "_model_name": "LayoutModel",
            "_view_count": null,
            "_view_module": "@jupyter-widgets/base",
            "_view_module_version": "1.2.0",
            "_view_name": "LayoutView",
            "align_content": null,
            "align_items": null,
            "align_self": null,
            "border": null,
            "bottom": null,
            "display": null,
            "flex": null,
            "flex_flow": null,
            "grid_area": null,
            "grid_auto_columns": null,
            "grid_auto_flow": null,
            "grid_auto_rows": null,
            "grid_column": null,
            "grid_gap": null,
            "grid_row": null,
            "grid_template_areas": null,
            "grid_template_columns": null,
            "grid_template_rows": null,
            "height": null,
            "justify_content": null,
            "justify_items": null,
            "left": null,
            "margin": null,
            "max_height": null,
            "max_width": null,
            "min_height": null,
            "min_width": null,
            "object_fit": null,
            "object_position": null,
            "order": null,
            "overflow": null,
            "overflow_x": null,
            "overflow_y": null,
            "padding": null,
            "right": null,
            "top": null,
            "visibility": null,
            "width": null
          }
        },
        "0e9af7167ec24148b45d9ffebbc48167": {
          "model_module": "@jupyter-widgets/controls",
          "model_name": "DescriptionStyleModel",
          "model_module_version": "1.5.0",
          "state": {
            "_model_module": "@jupyter-widgets/controls",
            "_model_module_version": "1.5.0",
            "_model_name": "DescriptionStyleModel",
            "_view_count": null,
            "_view_module": "@jupyter-widgets/base",
            "_view_module_version": "1.2.0",
            "_view_name": "StyleView",
            "description_width": ""
          }
        },
        "dfcd0ca3bb9542e3aa20bd2ce8a2fe76": {
          "model_module": "@jupyter-widgets/base",
          "model_name": "LayoutModel",
          "model_module_version": "1.2.0",
          "state": {
            "_model_module": "@jupyter-widgets/base",
            "_model_module_version": "1.2.0",
            "_model_name": "LayoutModel",
            "_view_count": null,
            "_view_module": "@jupyter-widgets/base",
            "_view_module_version": "1.2.0",
            "_view_name": "LayoutView",
            "align_content": null,
            "align_items": null,
            "align_self": null,
            "border": null,
            "bottom": null,
            "display": null,
            "flex": null,
            "flex_flow": null,
            "grid_area": null,
            "grid_auto_columns": null,
            "grid_auto_flow": null,
            "grid_auto_rows": null,
            "grid_column": null,
            "grid_gap": null,
            "grid_row": null,
            "grid_template_areas": null,
            "grid_template_columns": null,
            "grid_template_rows": null,
            "height": null,
            "justify_content": null,
            "justify_items": null,
            "left": null,
            "margin": null,
            "max_height": null,
            "max_width": null,
            "min_height": null,
            "min_width": null,
            "object_fit": null,
            "object_position": null,
            "order": null,
            "overflow": null,
            "overflow_x": null,
            "overflow_y": null,
            "padding": null,
            "right": null,
            "top": null,
            "visibility": null,
            "width": null
          }
        },
        "2ff73b9ef97640a296c350727cd48f52": {
          "model_module": "@jupyter-widgets/controls",
          "model_name": "ProgressStyleModel",
          "model_module_version": "1.5.0",
          "state": {
            "_model_module": "@jupyter-widgets/controls",
            "_model_module_version": "1.5.0",
            "_model_name": "ProgressStyleModel",
            "_view_count": null,
            "_view_module": "@jupyter-widgets/base",
            "_view_module_version": "1.2.0",
            "_view_name": "StyleView",
            "bar_color": null,
            "description_width": ""
          }
        },
        "3b0d2dc1a2b04825b03f6a1a6d5c0d5f": {
          "model_module": "@jupyter-widgets/base",
          "model_name": "LayoutModel",
          "model_module_version": "1.2.0",
          "state": {
            "_model_module": "@jupyter-widgets/base",
            "_model_module_version": "1.2.0",
            "_model_name": "LayoutModel",
            "_view_count": null,
            "_view_module": "@jupyter-widgets/base",
            "_view_module_version": "1.2.0",
            "_view_name": "LayoutView",
            "align_content": null,
            "align_items": null,
            "align_self": null,
            "border": null,
            "bottom": null,
            "display": null,
            "flex": null,
            "flex_flow": null,
            "grid_area": null,
            "grid_auto_columns": null,
            "grid_auto_flow": null,
            "grid_auto_rows": null,
            "grid_column": null,
            "grid_gap": null,
            "grid_row": null,
            "grid_template_areas": null,
            "grid_template_columns": null,
            "grid_template_rows": null,
            "height": null,
            "justify_content": null,
            "justify_items": null,
            "left": null,
            "margin": null,
            "max_height": null,
            "max_width": null,
            "min_height": null,
            "min_width": null,
            "object_fit": null,
            "object_position": null,
            "order": null,
            "overflow": null,
            "overflow_x": null,
            "overflow_y": null,
            "padding": null,
            "right": null,
            "top": null,
            "visibility": null,
            "width": null
          }
        },
        "26c1e25c3dbe46f8ad8fabe7d78972f6": {
          "model_module": "@jupyter-widgets/controls",
          "model_name": "DescriptionStyleModel",
          "model_module_version": "1.5.0",
          "state": {
            "_model_module": "@jupyter-widgets/controls",
            "_model_module_version": "1.5.0",
            "_model_name": "DescriptionStyleModel",
            "_view_count": null,
            "_view_module": "@jupyter-widgets/base",
            "_view_module_version": "1.2.0",
            "_view_name": "StyleView",
            "description_width": ""
          }
        },
        "a4733370fd97420fb35311e46934e297": {
          "model_module": "@jupyter-widgets/controls",
          "model_name": "HBoxModel",
          "model_module_version": "1.5.0",
          "state": {
            "_dom_classes": [],
            "_model_module": "@jupyter-widgets/controls",
            "_model_module_version": "1.5.0",
            "_model_name": "HBoxModel",
            "_view_count": null,
            "_view_module": "@jupyter-widgets/controls",
            "_view_module_version": "1.5.0",
            "_view_name": "HBoxView",
            "box_style": "",
            "children": [
              "IPY_MODEL_445ee223a3704b09aaf35673ad772ec8",
              "IPY_MODEL_f9c77f61389a4357be25ea8efcdfb062",
              "IPY_MODEL_299d30cddc7743ec9c02f47b292a7910"
            ],
            "layout": "IPY_MODEL_51e943890e1b4a7d93bcd48e953495b1"
          }
        },
        "445ee223a3704b09aaf35673ad772ec8": {
          "model_module": "@jupyter-widgets/controls",
          "model_name": "HTMLModel",
          "model_module_version": "1.5.0",
          "state": {
            "_dom_classes": [],
            "_model_module": "@jupyter-widgets/controls",
            "_model_module_version": "1.5.0",
            "_model_name": "HTMLModel",
            "_view_count": null,
            "_view_module": "@jupyter-widgets/controls",
            "_view_module_version": "1.5.0",
            "_view_name": "HTMLView",
            "description": "",
            "description_tooltip": null,
            "layout": "IPY_MODEL_ed7da82b82b3410aac46ce26377ea53a",
            "placeholder": "​",
            "style": "IPY_MODEL_b62d4b3009464953b180180ba117bfaa",
            "value": "100%"
          }
        },
        "f9c77f61389a4357be25ea8efcdfb062": {
          "model_module": "@jupyter-widgets/controls",
          "model_name": "FloatProgressModel",
          "model_module_version": "1.5.0",
          "state": {
            "_dom_classes": [],
            "_model_module": "@jupyter-widgets/controls",
            "_model_module_version": "1.5.0",
            "_model_name": "FloatProgressModel",
            "_view_count": null,
            "_view_module": "@jupyter-widgets/controls",
            "_view_module_version": "1.5.0",
            "_view_name": "ProgressView",
            "bar_style": "success",
            "description": "",
            "description_tooltip": null,
            "layout": "IPY_MODEL_e90a9dc0318a405a8775929c75cfa587",
            "max": 5148,
            "min": 0,
            "orientation": "horizontal",
            "style": "IPY_MODEL_a3a9d5b90ba647bcae7f155c57ed8e43",
            "value": 5148
          }
        },
        "299d30cddc7743ec9c02f47b292a7910": {
          "model_module": "@jupyter-widgets/controls",
          "model_name": "HTMLModel",
          "model_module_version": "1.5.0",
          "state": {
            "_dom_classes": [],
            "_model_module": "@jupyter-widgets/controls",
            "_model_module_version": "1.5.0",
            "_model_name": "HTMLModel",
            "_view_count": null,
            "_view_module": "@jupyter-widgets/controls",
            "_view_module_version": "1.5.0",
            "_view_name": "HTMLView",
            "description": "",
            "description_tooltip": null,
            "layout": "IPY_MODEL_08dd7a49a605413ab77399c886593db0",
            "placeholder": "​",
            "style": "IPY_MODEL_344bd8b3c02c4011aecf1df360332c83",
            "value": " 5148/5148 [00:00&lt;00:00, 175542.69it/s]"
          }
        },
        "51e943890e1b4a7d93bcd48e953495b1": {
          "model_module": "@jupyter-widgets/base",
          "model_name": "LayoutModel",
          "model_module_version": "1.2.0",
          "state": {
            "_model_module": "@jupyter-widgets/base",
            "_model_module_version": "1.2.0",
            "_model_name": "LayoutModel",
            "_view_count": null,
            "_view_module": "@jupyter-widgets/base",
            "_view_module_version": "1.2.0",
            "_view_name": "LayoutView",
            "align_content": null,
            "align_items": null,
            "align_self": null,
            "border": null,
            "bottom": null,
            "display": null,
            "flex": null,
            "flex_flow": null,
            "grid_area": null,
            "grid_auto_columns": null,
            "grid_auto_flow": null,
            "grid_auto_rows": null,
            "grid_column": null,
            "grid_gap": null,
            "grid_row": null,
            "grid_template_areas": null,
            "grid_template_columns": null,
            "grid_template_rows": null,
            "height": null,
            "justify_content": null,
            "justify_items": null,
            "left": null,
            "margin": null,
            "max_height": null,
            "max_width": null,
            "min_height": null,
            "min_width": null,
            "object_fit": null,
            "object_position": null,
            "order": null,
            "overflow": null,
            "overflow_x": null,
            "overflow_y": null,
            "padding": null,
            "right": null,
            "top": null,
            "visibility": null,
            "width": null
          }
        },
        "ed7da82b82b3410aac46ce26377ea53a": {
          "model_module": "@jupyter-widgets/base",
          "model_name": "LayoutModel",
          "model_module_version": "1.2.0",
          "state": {
            "_model_module": "@jupyter-widgets/base",
            "_model_module_version": "1.2.0",
            "_model_name": "LayoutModel",
            "_view_count": null,
            "_view_module": "@jupyter-widgets/base",
            "_view_module_version": "1.2.0",
            "_view_name": "LayoutView",
            "align_content": null,
            "align_items": null,
            "align_self": null,
            "border": null,
            "bottom": null,
            "display": null,
            "flex": null,
            "flex_flow": null,
            "grid_area": null,
            "grid_auto_columns": null,
            "grid_auto_flow": null,
            "grid_auto_rows": null,
            "grid_column": null,
            "grid_gap": null,
            "grid_row": null,
            "grid_template_areas": null,
            "grid_template_columns": null,
            "grid_template_rows": null,
            "height": null,
            "justify_content": null,
            "justify_items": null,
            "left": null,
            "margin": null,
            "max_height": null,
            "max_width": null,
            "min_height": null,
            "min_width": null,
            "object_fit": null,
            "object_position": null,
            "order": null,
            "overflow": null,
            "overflow_x": null,
            "overflow_y": null,
            "padding": null,
            "right": null,
            "top": null,
            "visibility": null,
            "width": null
          }
        },
        "b62d4b3009464953b180180ba117bfaa": {
          "model_module": "@jupyter-widgets/controls",
          "model_name": "DescriptionStyleModel",
          "model_module_version": "1.5.0",
          "state": {
            "_model_module": "@jupyter-widgets/controls",
            "_model_module_version": "1.5.0",
            "_model_name": "DescriptionStyleModel",
            "_view_count": null,
            "_view_module": "@jupyter-widgets/base",
            "_view_module_version": "1.2.0",
            "_view_name": "StyleView",
            "description_width": ""
          }
        },
        "e90a9dc0318a405a8775929c75cfa587": {
          "model_module": "@jupyter-widgets/base",
          "model_name": "LayoutModel",
          "model_module_version": "1.2.0",
          "state": {
            "_model_module": "@jupyter-widgets/base",
            "_model_module_version": "1.2.0",
            "_model_name": "LayoutModel",
            "_view_count": null,
            "_view_module": "@jupyter-widgets/base",
            "_view_module_version": "1.2.0",
            "_view_name": "LayoutView",
            "align_content": null,
            "align_items": null,
            "align_self": null,
            "border": null,
            "bottom": null,
            "display": null,
            "flex": null,
            "flex_flow": null,
            "grid_area": null,
            "grid_auto_columns": null,
            "grid_auto_flow": null,
            "grid_auto_rows": null,
            "grid_column": null,
            "grid_gap": null,
            "grid_row": null,
            "grid_template_areas": null,
            "grid_template_columns": null,
            "grid_template_rows": null,
            "height": null,
            "justify_content": null,
            "justify_items": null,
            "left": null,
            "margin": null,
            "max_height": null,
            "max_width": null,
            "min_height": null,
            "min_width": null,
            "object_fit": null,
            "object_position": null,
            "order": null,
            "overflow": null,
            "overflow_x": null,
            "overflow_y": null,
            "padding": null,
            "right": null,
            "top": null,
            "visibility": null,
            "width": null
          }
        },
        "a3a9d5b90ba647bcae7f155c57ed8e43": {
          "model_module": "@jupyter-widgets/controls",
          "model_name": "ProgressStyleModel",
          "model_module_version": "1.5.0",
          "state": {
            "_model_module": "@jupyter-widgets/controls",
            "_model_module_version": "1.5.0",
            "_model_name": "ProgressStyleModel",
            "_view_count": null,
            "_view_module": "@jupyter-widgets/base",
            "_view_module_version": "1.2.0",
            "_view_name": "StyleView",
            "bar_color": null,
            "description_width": ""
          }
        },
        "08dd7a49a605413ab77399c886593db0": {
          "model_module": "@jupyter-widgets/base",
          "model_name": "LayoutModel",
          "model_module_version": "1.2.0",
          "state": {
            "_model_module": "@jupyter-widgets/base",
            "_model_module_version": "1.2.0",
            "_model_name": "LayoutModel",
            "_view_count": null,
            "_view_module": "@jupyter-widgets/base",
            "_view_module_version": "1.2.0",
            "_view_name": "LayoutView",
            "align_content": null,
            "align_items": null,
            "align_self": null,
            "border": null,
            "bottom": null,
            "display": null,
            "flex": null,
            "flex_flow": null,
            "grid_area": null,
            "grid_auto_columns": null,
            "grid_auto_flow": null,
            "grid_auto_rows": null,
            "grid_column": null,
            "grid_gap": null,
            "grid_row": null,
            "grid_template_areas": null,
            "grid_template_columns": null,
            "grid_template_rows": null,
            "height": null,
            "justify_content": null,
            "justify_items": null,
            "left": null,
            "margin": null,
            "max_height": null,
            "max_width": null,
            "min_height": null,
            "min_width": null,
            "object_fit": null,
            "object_position": null,
            "order": null,
            "overflow": null,
            "overflow_x": null,
            "overflow_y": null,
            "padding": null,
            "right": null,
            "top": null,
            "visibility": null,
            "width": null
          }
        },
        "344bd8b3c02c4011aecf1df360332c83": {
          "model_module": "@jupyter-widgets/controls",
          "model_name": "DescriptionStyleModel",
          "model_module_version": "1.5.0",
          "state": {
            "_model_module": "@jupyter-widgets/controls",
            "_model_module_version": "1.5.0",
            "_model_name": "DescriptionStyleModel",
            "_view_count": null,
            "_view_module": "@jupyter-widgets/base",
            "_view_module_version": "1.2.0",
            "_view_name": "StyleView",
            "description_width": ""
          }
        }
      }
    }
  },
  "cells": [
    {
      "cell_type": "markdown",
      "source": [
        "# HW 1. \n",
        "\n",
        "Student ID: 2018320207 \n",
        "\n",
        "Name: 공인호"
      ],
      "metadata": {
        "id": "8fP-MdyojN-V"
      }
    },
    {
      "cell_type": "code",
      "source": [
        "from google.colab import drive\n",
        "drive.mount('/content/drive')"
      ],
      "metadata": {
        "colab": {
          "base_uri": "https://localhost:8080/",
          "height": 0
        },
        "id": "Qgo9ztRdOlAc",
        "outputId": "b2e5f1a6-cc21-4214-80e3-744667d126ab"
      },
      "execution_count": 1,
      "outputs": [
        {
          "output_type": "stream",
          "name": "stdout",
          "text": [
            "Mounted at /content/drive\n"
          ]
        }
      ]
    },
    {
      "cell_type": "code",
      "source": [
        "cd /content/drive/MyDrive/COSE474-01"
      ],
      "metadata": {
        "colab": {
          "base_uri": "https://localhost:8080/",
          "height": 0
        },
        "id": "8IeyWS4GPMEn",
        "outputId": "e57ddf95-0930-48f2-ccd6-48055705e00b"
      },
      "execution_count": 2,
      "outputs": [
        {
          "output_type": "stream",
          "name": "stdout",
          "text": [
            "/content/drive/MyDrive/COSE474-01\n"
          ]
        }
      ]
    },
    {
      "cell_type": "code",
      "source": [
        "!git clone https://github.com/inooni/d2l-pytorch.git"
      ],
      "metadata": {
        "colab": {
          "base_uri": "https://localhost:8080/",
          "height": 0
        },
        "id": "kJLW_q81PQU1",
        "outputId": "dcf1d15d-46b5-42fc-8f50-935ff58eb721"
      },
      "execution_count": 3,
      "outputs": [
        {
          "output_type": "stream",
          "name": "stdout",
          "text": [
            "fatal: destination path 'd2l-pytorch' already exists and is not an empty directory.\n"
          ]
        }
      ]
    },
    {
      "cell_type": "code",
      "source": [
        "cd d2l-pytorch"
      ],
      "metadata": {
        "colab": {
          "base_uri": "https://localhost:8080/",
          "height": 0
        },
        "id": "ijfTGChHPkZ4",
        "outputId": "3e9823e5-b2f1-409a-fb5d-f41fd73d34d7"
      },
      "execution_count": 4,
      "outputs": [
        {
          "output_type": "stream",
          "name": "stdout",
          "text": [
            "/content/drive/MyDrive/COSE474-01/d2l-pytorch\n"
          ]
        }
      ]
    },
    {
      "cell_type": "markdown",
      "source": [
        "# 4.1 Data Manipulation"
      ],
      "metadata": {
        "id": "2Te8q0-uiuR5"
      }
    },
    {
      "cell_type": "code",
      "execution_count": 5,
      "metadata": {
        "id": "1FaCDS7BgXlh"
      },
      "outputs": [],
      "source": [
        "import torch"
      ]
    },
    {
      "cell_type": "code",
      "source": [
        "x = torch.arange(12, dtype = torch.float64)\n",
        "x"
      ],
      "metadata": {
        "colab": {
          "base_uri": "https://localhost:8080/",
          "height": 0
        },
        "id": "KtnOIlk_gmz7",
        "outputId": "40f9ebd8-4d1d-42c6-f224-0e277a5919e2"
      },
      "execution_count": 6,
      "outputs": [
        {
          "output_type": "execute_result",
          "data": {
            "text/plain": [
              "tensor([ 0.,  1.,  2.,  3.,  4.,  5.,  6.,  7.,  8.,  9., 10., 11.],\n",
              "       dtype=torch.float64)"
            ]
          },
          "metadata": {},
          "execution_count": 6
        }
      ]
    },
    {
      "cell_type": "code",
      "source": [
        "x.shape"
      ],
      "metadata": {
        "colab": {
          "base_uri": "https://localhost:8080/",
          "height": 0
        },
        "id": "HWtKkKNfgvbu",
        "outputId": "fd27f2e2-258b-4658-dcc1-77550cc7956c"
      },
      "execution_count": 7,
      "outputs": [
        {
          "output_type": "execute_result",
          "data": {
            "text/plain": [
              "torch.Size([12])"
            ]
          },
          "metadata": {},
          "execution_count": 7
        }
      ]
    },
    {
      "cell_type": "code",
      "source": [
        "x.size()"
      ],
      "metadata": {
        "colab": {
          "base_uri": "https://localhost:8080/",
          "height": 0
        },
        "id": "PRXGgbF1gylB",
        "outputId": "bbe89d76-e1ca-4e53-ad95-3c11e7436573"
      },
      "execution_count": 8,
      "outputs": [
        {
          "output_type": "execute_result",
          "data": {
            "text/plain": [
              "torch.Size([12])"
            ]
          },
          "metadata": {},
          "execution_count": 8
        }
      ]
    },
    {
      "cell_type": "code",
      "source": [
        "x = x.reshape((3,4))\n",
        "x"
      ],
      "metadata": {
        "colab": {
          "base_uri": "https://localhost:8080/",
          "height": 0
        },
        "id": "rTs7kQ1qg8Rm",
        "outputId": "9da7d804-117c-4078-a10c-ec52ffb57309"
      },
      "execution_count": 9,
      "outputs": [
        {
          "output_type": "execute_result",
          "data": {
            "text/plain": [
              "tensor([[ 0.,  1.,  2.,  3.],\n",
              "        [ 4.,  5.,  6.,  7.],\n",
              "        [ 8.,  9., 10., 11.]], dtype=torch.float64)"
            ]
          },
          "metadata": {},
          "execution_count": 9
        }
      ]
    },
    {
      "cell_type": "code",
      "source": [
        "torch.FloatTensor(2, 3)"
      ],
      "metadata": {
        "id": "A_yBaIYhhAF5",
        "colab": {
          "base_uri": "https://localhost:8080/",
          "height": 0
        },
        "outputId": "5bf03796-3bcb-4694-9d04-0145d9efc3d8"
      },
      "execution_count": 10,
      "outputs": [
        {
          "output_type": "execute_result",
          "data": {
            "text/plain": [
              "tensor([[1.5898e-34, 0.0000e+00, 3.7835e-44],\n",
              "        [0.0000e+00,        nan, 0.0000e+00]])"
            ]
          },
          "metadata": {},
          "execution_count": 10
        }
      ]
    },
    {
      "cell_type": "code",
      "source": [
        "torch.Tensor(2, 3)"
      ],
      "metadata": {
        "colab": {
          "base_uri": "https://localhost:8080/",
          "height": 0
        },
        "id": "cF0ZIi-npSrw",
        "outputId": "d3902039-41ff-40f8-b45e-351c72d6354e"
      },
      "execution_count": 11,
      "outputs": [
        {
          "output_type": "execute_result",
          "data": {
            "text/plain": [
              "tensor([[1.5898e-34, 0.0000e+00, 3.7835e-44],\n",
              "        [0.0000e+00,        nan, 0.0000e+00]])"
            ]
          },
          "metadata": {},
          "execution_count": 11
        }
      ]
    },
    {
      "cell_type": "code",
      "source": [
        "torch.empty(2, 3)"
      ],
      "metadata": {
        "colab": {
          "base_uri": "https://localhost:8080/",
          "height": 0
        },
        "id": "qAYK_xLNpULw",
        "outputId": "7cda400b-5b3f-4f67-bd83-089558540318"
      },
      "execution_count": 12,
      "outputs": [
        {
          "output_type": "execute_result",
          "data": {
            "text/plain": [
              "tensor([[1.5898e-34, 0.0000e+00, 3.3631e-44],\n",
              "        [0.0000e+00,        nan, 0.0000e+00]])"
            ]
          },
          "metadata": {},
          "execution_count": 12
        }
      ]
    },
    {
      "cell_type": "code",
      "source": [
        "torch.zeros((2, 3, 4))"
      ],
      "metadata": {
        "colab": {
          "base_uri": "https://localhost:8080/",
          "height": 0
        },
        "id": "dyz6qgtopUOK",
        "outputId": "5c4a8679-a8e7-40ac-8a41-6badd7785440"
      },
      "execution_count": 13,
      "outputs": [
        {
          "output_type": "execute_result",
          "data": {
            "text/plain": [
              "tensor([[[0., 0., 0., 0.],\n",
              "         [0., 0., 0., 0.],\n",
              "         [0., 0., 0., 0.]],\n",
              "\n",
              "        [[0., 0., 0., 0.],\n",
              "         [0., 0., 0., 0.],\n",
              "         [0., 0., 0., 0.]]])"
            ]
          },
          "metadata": {},
          "execution_count": 13
        }
      ]
    },
    {
      "cell_type": "code",
      "source": [
        "torch.ones((2, 3, 4))"
      ],
      "metadata": {
        "colab": {
          "base_uri": "https://localhost:8080/",
          "height": 0
        },
        "id": "vwQ6MpQipUQh",
        "outputId": "3ef39671-ec8e-41f3-85e3-2073f6960a2e"
      },
      "execution_count": 14,
      "outputs": [
        {
          "output_type": "execute_result",
          "data": {
            "text/plain": [
              "tensor([[[1., 1., 1., 1.],\n",
              "         [1., 1., 1., 1.],\n",
              "         [1., 1., 1., 1.]],\n",
              "\n",
              "        [[1., 1., 1., 1.],\n",
              "         [1., 1., 1., 1.],\n",
              "         [1., 1., 1., 1.]]])"
            ]
          },
          "metadata": {},
          "execution_count": 14
        }
      ]
    },
    {
      "cell_type": "code",
      "source": [
        "y = torch.tensor([[2, 1, 4, 3], [1, 2, 3, 4], [4, 3, 2, 1]])\n",
        "y"
      ],
      "metadata": {
        "colab": {
          "base_uri": "https://localhost:8080/",
          "height": 0
        },
        "id": "6DKaod89pUVi",
        "outputId": "844770ad-f0e5-431e-ad42-15df0c81d86e"
      },
      "execution_count": 15,
      "outputs": [
        {
          "output_type": "execute_result",
          "data": {
            "text/plain": [
              "tensor([[2, 1, 4, 3],\n",
              "        [1, 2, 3, 4],\n",
              "        [4, 3, 2, 1]])"
            ]
          },
          "metadata": {},
          "execution_count": 15
        }
      ]
    },
    {
      "cell_type": "code",
      "source": [
        "torch.randn(3, 4)"
      ],
      "metadata": {
        "colab": {
          "base_uri": "https://localhost:8080/",
          "height": 0
        },
        "id": "nMOzlvoJpUYC",
        "outputId": "3aed12f6-8a06-47c0-ac86-84486f01d9f0"
      },
      "execution_count": 16,
      "outputs": [
        {
          "output_type": "execute_result",
          "data": {
            "text/plain": [
              "tensor([[-2.7960,  1.2284,  0.4949,  1.0209],\n",
              "        [-1.1908, -0.1073, -0.1133, -0.8928],\n",
              "        [ 0.6314, -0.8818, -1.4146,  0.4822]])"
            ]
          },
          "metadata": {},
          "execution_count": 16
        }
      ]
    },
    {
      "cell_type": "code",
      "source": [
        "x = torch.tensor([1, 2, 4, 8], dtype=torch.float32)\n",
        "y = torch.ones_like(x) * 2\n",
        "print('x =', x)\n",
        "print('x + y', x + y)\n",
        "print('x - y', x - y)\n",
        "print('x * y', x * y)\n",
        "print('x / y', x / y)"
      ],
      "metadata": {
        "colab": {
          "base_uri": "https://localhost:8080/",
          "height": 0
        },
        "id": "1wyTjKuPpUar",
        "outputId": "b5db0e7a-f5b0-44e2-d0d0-2f6a1fba8aaa"
      },
      "execution_count": 17,
      "outputs": [
        {
          "output_type": "stream",
          "name": "stdout",
          "text": [
            "x = tensor([1., 2., 4., 8.])\n",
            "x + y tensor([ 3.,  4.,  6., 10.])\n",
            "x - y tensor([-1.,  0.,  2.,  6.])\n",
            "x * y tensor([ 2.,  4.,  8., 16.])\n",
            "x / y tensor([0.5000, 1.0000, 2.0000, 4.0000])\n"
          ]
        }
      ]
    },
    {
      "cell_type": "code",
      "source": [
        "torch.exp(x)"
      ],
      "metadata": {
        "colab": {
          "base_uri": "https://localhost:8080/",
          "height": 0
        },
        "id": "p3eWMjTGpUdA",
        "outputId": "50d99f8d-60c9-4706-d690-ff36b03abe20"
      },
      "execution_count": 18,
      "outputs": [
        {
          "output_type": "execute_result",
          "data": {
            "text/plain": [
              "tensor([2.7183e+00, 7.3891e+00, 5.4598e+01, 2.9810e+03])"
            ]
          },
          "metadata": {},
          "execution_count": 18
        }
      ]
    },
    {
      "cell_type": "code",
      "source": [
        "x = torch.arange(12, dtype=torch.float32).reshape((3,4))\n",
        "y = torch.tensor([[2, 1, 4, 3], [1, 2, 3, 4], [4, 3, 2, 1]], dtype=torch.float32)\n",
        "print(x.dtype)\n",
        "print(y)\n",
        "torch.mm(x, y.t())"
      ],
      "metadata": {
        "colab": {
          "base_uri": "https://localhost:8080/",
          "height": 0
        },
        "id": "qunwiFEDpUgE",
        "outputId": "54297fcd-3ddc-4304-9c10-c6cd569ad0a0"
      },
      "execution_count": 19,
      "outputs": [
        {
          "output_type": "stream",
          "name": "stdout",
          "text": [
            "torch.float32\n",
            "tensor([[2., 1., 4., 3.],\n",
            "        [1., 2., 3., 4.],\n",
            "        [4., 3., 2., 1.]])\n"
          ]
        },
        {
          "output_type": "execute_result",
          "data": {
            "text/plain": [
              "tensor([[ 18.,  20.,  10.],\n",
              "        [ 58.,  60.,  50.],\n",
              "        [ 98., 100.,  90.]])"
            ]
          },
          "metadata": {},
          "execution_count": 19
        }
      ]
    },
    {
      "cell_type": "code",
      "source": [
        "torch.cat((x, y), dim=0)"
      ],
      "metadata": {
        "colab": {
          "base_uri": "https://localhost:8080/",
          "height": 0
        },
        "id": "M8oTwuBWpUi9",
        "outputId": "00c492df-fe3a-44c7-8f17-045357aed2a1"
      },
      "execution_count": 20,
      "outputs": [
        {
          "output_type": "execute_result",
          "data": {
            "text/plain": [
              "tensor([[ 0.,  1.,  2.,  3.],\n",
              "        [ 4.,  5.,  6.,  7.],\n",
              "        [ 8.,  9., 10., 11.],\n",
              "        [ 2.,  1.,  4.,  3.],\n",
              "        [ 1.,  2.,  3.,  4.],\n",
              "        [ 4.,  3.,  2.,  1.]])"
            ]
          },
          "metadata": {},
          "execution_count": 20
        }
      ]
    },
    {
      "cell_type": "code",
      "source": [
        "torch.cat((x, y), dim=1)"
      ],
      "metadata": {
        "colab": {
          "base_uri": "https://localhost:8080/",
          "height": 0
        },
        "id": "BWpeKPE6pUla",
        "outputId": "615e663d-3f7d-4239-a65a-dd620f6b6e3f"
      },
      "execution_count": 21,
      "outputs": [
        {
          "output_type": "execute_result",
          "data": {
            "text/plain": [
              "tensor([[ 0.,  1.,  2.,  3.,  2.,  1.,  4.,  3.],\n",
              "        [ 4.,  5.,  6.,  7.,  1.,  2.,  3.,  4.],\n",
              "        [ 8.,  9., 10., 11.,  4.,  3.,  2.,  1.]])"
            ]
          },
          "metadata": {},
          "execution_count": 21
        }
      ]
    },
    {
      "cell_type": "code",
      "source": [
        "x == y"
      ],
      "metadata": {
        "colab": {
          "base_uri": "https://localhost:8080/",
          "height": 0
        },
        "id": "q9uk2C44pUoR",
        "outputId": "2bdb434f-7632-45a9-88f8-fb936bb327ee"
      },
      "execution_count": 22,
      "outputs": [
        {
          "output_type": "execute_result",
          "data": {
            "text/plain": [
              "tensor([[False,  True, False,  True],\n",
              "        [False, False, False, False],\n",
              "        [False, False, False, False]])"
            ]
          },
          "metadata": {},
          "execution_count": 22
        }
      ]
    },
    {
      "cell_type": "code",
      "source": [
        "x.sum()"
      ],
      "metadata": {
        "colab": {
          "base_uri": "https://localhost:8080/",
          "height": 0
        },
        "id": "soRElcttpUrE",
        "outputId": "9944bd3c-058c-4138-cb88-2bbb098d95a2"
      },
      "execution_count": 23,
      "outputs": [
        {
          "output_type": "execute_result",
          "data": {
            "text/plain": [
              "tensor(66.)"
            ]
          },
          "metadata": {},
          "execution_count": 23
        }
      ]
    },
    {
      "cell_type": "code",
      "source": [
        "import numpy as np\n",
        "np.asscalar(x.norm())"
      ],
      "metadata": {
        "colab": {
          "base_uri": "https://localhost:8080/",
          "height": 0
        },
        "id": "i9or7JRypUuD",
        "outputId": "ef3987ba-f284-4b16-cd62-5247f18f8e8b"
      },
      "execution_count": 24,
      "outputs": [
        {
          "output_type": "stream",
          "name": "stderr",
          "text": [
            "/usr/local/lib/python3.7/dist-packages/ipykernel_launcher.py:2: DeprecationWarning: np.asscalar(a) is deprecated since NumPy v1.16, use a.item() instead\n",
            "  \n"
          ]
        },
        {
          "output_type": "execute_result",
          "data": {
            "text/plain": [
              "22.494443893432617"
            ]
          },
          "metadata": {},
          "execution_count": 24
        }
      ]
    },
    {
      "cell_type": "code",
      "source": [
        "a = torch.arange(3, dtype=torch.float).reshape((3, 1))\n",
        "b = torch.arange(2, dtype=torch.float).reshape((1, 2))\n",
        "a, b"
      ],
      "metadata": {
        "colab": {
          "base_uri": "https://localhost:8080/",
          "height": 0
        },
        "id": "Pp6sa_h6pUwv",
        "outputId": "48c53d06-3110-4cf6-f7d3-fb5c66b7fff6"
      },
      "execution_count": 25,
      "outputs": [
        {
          "output_type": "execute_result",
          "data": {
            "text/plain": [
              "(tensor([[0.],\n",
              "         [1.],\n",
              "         [2.]]), tensor([[0., 1.]]))"
            ]
          },
          "metadata": {},
          "execution_count": 25
        }
      ]
    },
    {
      "cell_type": "code",
      "source": [
        "a + b"
      ],
      "metadata": {
        "colab": {
          "base_uri": "https://localhost:8080/",
          "height": 0
        },
        "id": "COv59azopUzU",
        "outputId": "07cd8a9c-651e-418b-aa1c-3ffbd9cd5c66"
      },
      "execution_count": 26,
      "outputs": [
        {
          "output_type": "execute_result",
          "data": {
            "text/plain": [
              "tensor([[0., 1.],\n",
              "        [1., 2.],\n",
              "        [2., 3.]])"
            ]
          },
          "metadata": {},
          "execution_count": 26
        }
      ]
    },
    {
      "cell_type": "code",
      "source": [
        "x[1:3]"
      ],
      "metadata": {
        "colab": {
          "base_uri": "https://localhost:8080/",
          "height": 0
        },
        "id": "oWsNUJn2pU2N",
        "outputId": "e0a0576f-a293-4733-e830-babfd9407c2c"
      },
      "execution_count": 27,
      "outputs": [
        {
          "output_type": "execute_result",
          "data": {
            "text/plain": [
              "tensor([[ 4.,  5.,  6.,  7.],\n",
              "        [ 8.,  9., 10., 11.]])"
            ]
          },
          "metadata": {},
          "execution_count": 27
        }
      ]
    },
    {
      "cell_type": "code",
      "source": [
        "x[1, 2] = 9\n",
        "x"
      ],
      "metadata": {
        "colab": {
          "base_uri": "https://localhost:8080/",
          "height": 0
        },
        "id": "auPa7WjEpU4-",
        "outputId": "bf230026-b6b4-4791-bdd8-72b1f8b07a9f"
      },
      "execution_count": 28,
      "outputs": [
        {
          "output_type": "execute_result",
          "data": {
            "text/plain": [
              "tensor([[ 0.,  1.,  2.,  3.],\n",
              "        [ 4.,  5.,  9.,  7.],\n",
              "        [ 8.,  9., 10., 11.]])"
            ]
          },
          "metadata": {},
          "execution_count": 28
        }
      ]
    },
    {
      "cell_type": "code",
      "source": [
        "x[0:2, :] = 12\n",
        "x"
      ],
      "metadata": {
        "colab": {
          "base_uri": "https://localhost:8080/",
          "height": 0
        },
        "id": "HNHLS5N2pU74",
        "outputId": "29a62fd9-00cf-4c8e-ca43-cfd0045abb4e"
      },
      "execution_count": 29,
      "outputs": [
        {
          "output_type": "execute_result",
          "data": {
            "text/plain": [
              "tensor([[12., 12., 12., 12.],\n",
              "        [12., 12., 12., 12.],\n",
              "        [ 8.,  9., 10., 11.]])"
            ]
          },
          "metadata": {},
          "execution_count": 29
        }
      ]
    },
    {
      "cell_type": "code",
      "source": [
        "before = id(y)\n",
        "y = y + x\n",
        "id(y) == before"
      ],
      "metadata": {
        "colab": {
          "base_uri": "https://localhost:8080/",
          "height": 0
        },
        "id": "OBIP8lvYpU-h",
        "outputId": "e263b5e0-3751-4643-ad1b-eb551c4f29f8"
      },
      "execution_count": 30,
      "outputs": [
        {
          "output_type": "execute_result",
          "data": {
            "text/plain": [
              "False"
            ]
          },
          "metadata": {},
          "execution_count": 30
        }
      ]
    },
    {
      "cell_type": "code",
      "source": [
        "z = torch.zeros_like(y)\n",
        "print('id(z):', id(z))\n",
        "z[:] = x + y\n",
        "print('id(z):', id(z))"
      ],
      "metadata": {
        "colab": {
          "base_uri": "https://localhost:8080/",
          "height": 0
        },
        "id": "RtSuXB5XpVBO",
        "outputId": "632e893b-3fe4-48ff-87c1-9a6a45d87b80"
      },
      "execution_count": 31,
      "outputs": [
        {
          "output_type": "stream",
          "name": "stdout",
          "text": [
            "id(z): 140047897748496\n",
            "id(z): 140047897748496\n"
          ]
        }
      ]
    },
    {
      "cell_type": "code",
      "source": [
        "before = id(z)\n",
        "torch.add(x, y, out=z)\n",
        "id(z) == before"
      ],
      "metadata": {
        "colab": {
          "base_uri": "https://localhost:8080/",
          "height": 0
        },
        "id": "7ychmpcRpsrd",
        "outputId": "984a77a2-d246-4e8f-a9ec-3095b7cac31c"
      },
      "execution_count": 32,
      "outputs": [
        {
          "output_type": "execute_result",
          "data": {
            "text/plain": [
              "True"
            ]
          },
          "metadata": {},
          "execution_count": 32
        }
      ]
    },
    {
      "cell_type": "code",
      "source": [
        "before = id(x)\n",
        "x += y\n",
        "id(x) == before"
      ],
      "metadata": {
        "colab": {
          "base_uri": "https://localhost:8080/",
          "height": 0
        },
        "id": "XldLqMqZpst3",
        "outputId": "2977be0d-7428-4ae2-d32a-2a06ff24f9d1"
      },
      "execution_count": 33,
      "outputs": [
        {
          "output_type": "execute_result",
          "data": {
            "text/plain": [
              "True"
            ]
          },
          "metadata": {},
          "execution_count": 33
        }
      ]
    },
    {
      "cell_type": "code",
      "source": [
        "a = x.numpy()\n",
        "print(type(a))\n",
        "b = torch.tensor(a)\n",
        "print(type(b))"
      ],
      "metadata": {
        "colab": {
          "base_uri": "https://localhost:8080/",
          "height": 0
        },
        "id": "yQkDTG2lpswR",
        "outputId": "8ff35352-7fe6-41d6-e036-d39261c335e3"
      },
      "execution_count": 34,
      "outputs": [
        {
          "output_type": "stream",
          "name": "stdout",
          "text": [
            "<class 'numpy.ndarray'>\n",
            "<class 'torch.Tensor'>\n"
          ]
        }
      ]
    },
    {
      "cell_type": "markdown",
      "source": [
        "# 4.3 Automatic Differentiation"
      ],
      "metadata": {
        "id": "U1vVNcijpw8k"
      }
    },
    {
      "cell_type": "code",
      "source": [
        "import torch\n",
        "from torch.autograd import Variable"
      ],
      "metadata": {
        "id": "yzm180MIpsy3"
      },
      "execution_count": 35,
      "outputs": []
    },
    {
      "cell_type": "code",
      "source": [
        "x = Variable(torch.arange(4, dtype=torch.float32).reshape((4, 1)), requires_grad=True)\n",
        "print(x)"
      ],
      "metadata": {
        "colab": {
          "base_uri": "https://localhost:8080/",
          "height": 0
        },
        "id": "ijHis3Ktps1d",
        "outputId": "ce60bb66-1fa4-4b7f-bbdc-e3a78dd081a0"
      },
      "execution_count": 36,
      "outputs": [
        {
          "output_type": "stream",
          "name": "stdout",
          "text": [
            "tensor([[0.],\n",
            "        [1.],\n",
            "        [2.],\n",
            "        [3.]], requires_grad=True)\n"
          ]
        }
      ]
    },
    {
      "cell_type": "code",
      "source": [
        "y = 2*torch.mm(x.t(),x)\n",
        "print(y)"
      ],
      "metadata": {
        "colab": {
          "base_uri": "https://localhost:8080/",
          "height": 0
        },
        "id": "jdXpvrerps4H",
        "outputId": "32ca2243-0056-492d-943f-d7e33c35a621"
      },
      "execution_count": 37,
      "outputs": [
        {
          "output_type": "stream",
          "name": "stdout",
          "text": [
            "tensor([[28.]], grad_fn=<MulBackward0>)\n"
          ]
        }
      ]
    },
    {
      "cell_type": "code",
      "source": [
        "y.backward()"
      ],
      "metadata": {
        "id": "alhEt32xps6_"
      },
      "execution_count": 38,
      "outputs": []
    },
    {
      "cell_type": "code",
      "source": [
        "print(\"x.grad:\", x.grad)\n",
        "print(\"x.grad_fn:\", x.grad_fn)\n",
        "print(\"y.grad_fn:\", y.grad_fn)"
      ],
      "metadata": {
        "colab": {
          "base_uri": "https://localhost:8080/",
          "height": 0
        },
        "id": "d2rxn_wNps9u",
        "outputId": "d7ed77e9-7616-4d1d-e1aa-97091b9f6169"
      },
      "execution_count": 39,
      "outputs": [
        {
          "output_type": "stream",
          "name": "stdout",
          "text": [
            "x.grad: tensor([[ 0.],\n",
            "        [ 4.],\n",
            "        [ 8.],\n",
            "        [12.]])\n",
            "x.grad_fn: None\n",
            "y.grad_fn: <MulBackward0 object at 0x7f5fdf5c1910>\n"
          ]
        }
      ]
    },
    {
      "cell_type": "code",
      "source": [
        "print((x.grad - 4*x).norm().item() == 0)\n",
        "print(x.grad)"
      ],
      "metadata": {
        "colab": {
          "base_uri": "https://localhost:8080/",
          "height": 0
        },
        "id": "zwelgQXgptAO",
        "outputId": "ccbcff17-5299-4733-9dcc-9f0776561f97"
      },
      "execution_count": 40,
      "outputs": [
        {
          "output_type": "stream",
          "name": "stdout",
          "text": [
            "True\n",
            "tensor([[ 0.],\n",
            "        [ 4.],\n",
            "        [ 8.],\n",
            "        [12.]])\n"
          ]
        }
      ]
    },
    {
      "cell_type": "code",
      "source": [
        "def f(a):\n",
        "    b = a * 2\n",
        "    while b.norm().item() < 1000:\n",
        "        b = b * 2\n",
        "    if b.sum().item() > 0:\n",
        "        c = b\n",
        "    else:\n",
        "        c = 100 * b\n",
        "    return c"
      ],
      "metadata": {
        "id": "RvAMK4bqptCx"
      },
      "execution_count": 41,
      "outputs": []
    },
    {
      "cell_type": "code",
      "source": [
        "a = torch.randn(size=(1,))\n",
        "a.requires_grad=True\n",
        "d = f(a)\n",
        "d.backward()"
      ],
      "metadata": {
        "id": "b3DLRmIap_oW"
      },
      "execution_count": 42,
      "outputs": []
    },
    {
      "cell_type": "code",
      "source": [
        "print(a.grad == (d / a))"
      ],
      "metadata": {
        "colab": {
          "base_uri": "https://localhost:8080/",
          "height": 0
        },
        "id": "ZJkMFSUqqAwf",
        "outputId": "561facf8-4f7a-4bb9-a67c-05e1d8ba173c"
      },
      "execution_count": 43,
      "outputs": [
        {
          "output_type": "stream",
          "name": "stdout",
          "text": [
            "tensor([True])\n"
          ]
        }
      ]
    },
    {
      "cell_type": "code",
      "source": [
        "x = Variable(torch.tensor([[0.],[1.],[2.],[3.]]), requires_grad=True)\n",
        "y = x * 2\n",
        "z = y * x\n",
        "\n",
        "head_gradient = torch.tensor([[10], [1.], [.1], [.01]])\n",
        "z.backward(head_gradient)\n",
        "print(x.grad)"
      ],
      "metadata": {
        "colab": {
          "base_uri": "https://localhost:8080/",
          "height": 0
        },
        "id": "PkgxwT9AqAy_",
        "outputId": "f71b478b-4360-4cc7-e054-c61b84452a13"
      },
      "execution_count": 44,
      "outputs": [
        {
          "output_type": "stream",
          "name": "stdout",
          "text": [
            "tensor([[0.0000],\n",
            "        [4.0000],\n",
            "        [0.8000],\n",
            "        [0.1200]])\n"
          ]
        }
      ]
    },
    {
      "cell_type": "code",
      "source": [
        "def f0(a):\n",
        "    b = a * a + a\n",
        "    if b.sum().item() > 0:\n",
        "        c = b\n",
        "    else:\n",
        "        c = 100 * b\n",
        "    return c"
      ],
      "metadata": {
        "id": "Qf62KxIEqA2O"
      },
      "execution_count": 45,
      "outputs": []
    },
    {
      "cell_type": "code",
      "source": [
        "a = torch.randn(size=(1,))\n",
        "a.requires_grad=True\n",
        "d = f0(a)\n",
        "d.backward()\n",
        "print(a)\n",
        "print(d)\n",
        "print(a.grad)"
      ],
      "metadata": {
        "colab": {
          "base_uri": "https://localhost:8080/",
          "height": 0
        },
        "id": "1YR2A2cmqA4z",
        "outputId": "462d87d2-c71f-49d4-ba61-5157a58b03ea"
      },
      "execution_count": 46,
      "outputs": [
        {
          "output_type": "stream",
          "name": "stdout",
          "text": [
            "tensor([-1.6641], requires_grad=True)\n",
            "tensor([1.1051], grad_fn=<AddBackward0>)\n",
            "tensor([-2.3282])\n"
          ]
        }
      ]
    },
    {
      "cell_type": "code",
      "source": [
        "import numpy as np\n",
        "from matplotlib import pyplot as plt \n",
        "\n",
        "x = np.linspace(-np.pi, np.pi, 1000)\n",
        "X = torch.tensor(x, requires_grad=True)\n",
        "y = torch.sin(X).sum().backward()\n",
        "\n",
        "plt.plot(X.detach().numpy(), np.sin(x))\n",
        "plt.plot(X.detach().numpy(), X.grad)\n",
        "plt.axis('equal')"
      ],
      "metadata": {
        "colab": {
          "base_uri": "https://localhost:8080/",
          "height": 334
        },
        "id": "oZ_AyN1zqA7r",
        "outputId": "102a71c2-3856-44a8-df1a-693589bc7af3"
      },
      "execution_count": 47,
      "outputs": [
        {
          "output_type": "execute_result",
          "data": {
            "text/plain": [
              "(-3.4557519189487724,\n",
              " 3.4557519189487724,\n",
              " -1.0999999381914298,\n",
              " 1.0999987020200273)"
            ]
          },
          "metadata": {},
          "execution_count": 47
        },
        {
          "output_type": "display_data",
          "data": {
            "text/plain": [
              "<Figure size 432x288 with 1 Axes>"
            ],
            "image/png": "[encoded data removed]"
          },
          "metadata": {
            "needs_background": "light"
          }
        }
      ]
    },
    {
      "cell_type": "markdown",
      "source": [
        "# 5.1 Linear Regression"
      ],
      "metadata": {
        "id": "gRXvNUnxqPDp"
      }
    },
    {
      "cell_type": "code",
      "source": [
        "from IPython.display import SVG\n",
        "SVG(filename='img/linearregression.svg')"
      ],
      "metadata": {
        "colab": {
          "base_uri": "https://localhost:8080/",
          "height": 291
        },
        "id": "TGmOSbtVqA-a",
        "outputId": "75d698c3-ad93-4ffc-bf6e-24968615d223"
      },
      "execution_count": 48,
      "outputs": [
        {
          "output_type": "execute_result",
          "data": {
            "text/plain": [
              "<IPython.core.display.SVG object>"
            ],
            "image/svg+xml": "<svg height=\"202pt\" version=\"1.1\" viewBox=\"0 0 302 202\" width=\"302pt\" xmlns=\"http://www.w3.org/2000/svg\" xmlns:xlink=\"http://www.w3.org/1999/xlink\">\n<defs>\n<g>\n<symbol id=\"glyph0-0\" overflow=\"visible\">\n<path d=\"\" style=\"stroke:none;\"/>\n</symbol>\n<symbol id=\"glyph0-1\" overflow=\"visible\">\n<path d=\"M 5.8125 -4.546875 C 5.859375 -4.71875 5.859375 -4.75 5.859375 -4.828125 C 5.859375 -5.046875 5.6875 -5.15625 5.515625 -5.15625 C 5.390625 -5.15625 5.203125 -5.078125 5.09375 -4.90625 C 5.0625 -4.84375 4.96875 -4.46875 4.921875 -4.25 C 4.84375 -3.9375 4.75 -3.625 4.6875 -3.296875 L 4.140625 -1.140625 C 4.09375 -0.96875 3.578125 -0.125 2.796875 -0.125 C 2.1875 -0.125 2.0625 -0.65625 2.0625 -1.09375 C 2.0625 -1.65625 2.265625 -2.390625 2.671875 -3.4375 C 2.859375 -3.9375 2.90625 -4.0625 2.90625 -4.296875 C 2.90625 -4.84375 2.515625 -5.28125 1.921875 -5.28125 C 0.78125 -5.28125 0.34375 -3.546875 0.34375 -3.4375 C 0.34375 -3.328125 0.46875 -3.328125 0.484375 -3.328125 C 0.609375 -3.328125 0.625 -3.34375 0.6875 -3.53125 C 1 -4.65625 1.484375 -5.015625 1.890625 -5.015625 C 1.984375 -5.015625 2.1875 -5.015625 2.1875 -4.640625 C 2.1875 -4.34375 2.0625 -4.03125 1.984375 -3.796875 C 1.5 -2.53125 1.296875 -1.859375 1.296875 -1.296875 C 1.296875 -0.234375 2.046875 0.125 2.75 0.125 C 3.21875 0.125 3.625 -0.078125 3.953125 -0.40625 C 3.796875 0.21875 3.65625 0.796875 3.171875 1.4375 C 2.875 1.84375 2.421875 2.1875 1.859375 2.1875 C 1.703125 2.1875 1.15625 2.15625 0.953125 1.6875 C 1.140625 1.6875 1.296875 1.6875 1.46875 1.546875 C 1.59375 1.4375 1.703125 1.28125 1.703125 1.046875 C 1.703125 0.6875 1.390625 0.640625 1.265625 0.640625 C 0.984375 0.640625 0.59375 0.828125 0.59375 1.40625 C 0.59375 2.015625 1.125 2.453125 1.859375 2.453125 C 3.09375 2.453125 4.328125 1.359375 4.65625 0.015625 Z M 5.8125 -4.546875 \" style=\"stroke:none;\"/>\n</symbol>\n<symbol id=\"glyph0-2\" overflow=\"visible\">\n<path d=\"M 5.515625 -4.046875 C 5.578125 -4.3125 5.703125 -4.75 5.703125 -4.828125 C 5.703125 -5.046875 5.53125 -5.15625 5.359375 -5.15625 C 5.21875 -5.15625 5 -5.0625 4.90625 -4.8125 C 4.875 -4.734375 4.3125 -2.453125 4.234375 -2.140625 C 4.140625 -1.78125 4.125 -1.5625 4.125 -1.34375 C 4.125 -1.21875 4.125 -1.1875 4.140625 -1.140625 C 3.859375 -0.5 3.5 -0.125 3.03125 -0.125 C 2.078125 -0.125 2.078125 -1.015625 2.078125 -1.21875 C 2.078125 -1.609375 2.140625 -2.0625 2.703125 -3.53125 C 2.828125 -3.890625 2.90625 -4.0625 2.90625 -4.296875 C 2.90625 -4.84375 2.515625 -5.28125 1.921875 -5.28125 C 0.78125 -5.28125 0.34375 -3.546875 0.34375 -3.4375 C 0.34375 -3.328125 0.46875 -3.328125 0.484375 -3.328125 C 0.609375 -3.328125 0.625 -3.34375 0.6875 -3.53125 C 1 -4.65625 1.46875 -5.015625 1.890625 -5.015625 C 2 -5.015625 2.1875 -5.015625 2.1875 -4.625 C 2.1875 -4.328125 2.0625 -4 1.96875 -3.796875 C 1.453125 -2.375 1.296875 -1.828125 1.296875 -1.375 C 1.296875 -0.28125 2.109375 0.125 3 0.125 C 3.203125 0.125 3.765625 0.125 4.25 -0.703125 C 4.546875 0.0625 5.375 0.125 5.734375 0.125 C 6.640625 0.125 7.15625 -0.625 7.46875 -1.34375 C 7.875 -2.265625 8.265625 -3.875 8.265625 -4.453125 C 8.265625 -5.109375 7.9375 -5.28125 7.734375 -5.28125 C 7.4375 -5.28125 7.140625 -4.96875 7.140625 -4.703125 C 7.140625 -4.546875 7.203125 -4.484375 7.3125 -4.390625 C 7.453125 -4.25 7.75 -3.9375 7.75 -3.375 C 7.75 -2.96875 7.40625 -1.796875 7.09375 -1.1875 C 6.78125 -0.546875 6.359375 -0.125 5.765625 -0.125 C 5.21875 -0.125 4.890625 -0.484375 4.890625 -1.171875 C 4.890625 -1.5 4.96875 -1.875 5.015625 -2.046875 Z M 5.515625 -4.046875 \" style=\"stroke:none;\"/>\n</symbol>\n<symbol id=\"glyph0-3\" overflow=\"visible\">\n<path d=\"M 4 -3.609375 C 4.0625 -3.921875 4.34375 -5.015625 5.171875 -5.015625 C 5.234375 -5.015625 5.515625 -5.015625 5.765625 -4.859375 C 5.4375 -4.8125 5.203125 -4.5 5.203125 -4.21875 C 5.203125 -4.03125 5.328125 -3.796875 5.65625 -3.796875 C 5.921875 -3.796875 6.296875 -4.015625 6.296875 -4.5 C 6.296875 -5.109375 5.59375 -5.28125 5.1875 -5.28125 C 4.5 -5.28125 4.078125 -4.65625 3.9375 -4.375 C 3.640625 -5.15625 2.984375 -5.28125 2.640625 -5.28125 C 1.40625 -5.28125 0.71875 -3.734375 0.71875 -3.4375 C 0.71875 -3.328125 0.84375 -3.328125 0.859375 -3.328125 C 0.953125 -3.328125 0.984375 -3.34375 1.015625 -3.453125 C 1.421875 -4.71875 2.21875 -5.015625 2.625 -5.015625 C 2.84375 -5.015625 3.265625 -4.90625 3.265625 -4.21875 C 3.265625 -3.84375 3.0625 -3.046875 2.625 -1.375 C 2.421875 -0.640625 2.015625 -0.125 1.484375 -0.125 C 1.40625 -0.125 1.140625 -0.125 0.890625 -0.28125 C 1.1875 -0.34375 1.453125 -0.59375 1.453125 -0.9375 C 1.453125 -1.25 1.1875 -1.34375 1 -1.34375 C 0.640625 -1.34375 0.34375 -1.046875 0.34375 -0.65625 C 0.34375 -0.109375 0.9375 0.125 1.46875 0.125 C 2.265625 0.125 2.6875 -0.703125 2.71875 -0.78125 C 2.875 -0.328125 3.296875 0.125 4.015625 0.125 C 5.25 0.125 5.921875 -1.40625 5.921875 -1.703125 C 5.921875 -1.828125 5.828125 -1.828125 5.78125 -1.828125 C 5.671875 -1.828125 5.65625 -1.78125 5.625 -1.703125 C 5.234375 -0.421875 4.421875 -0.125 4.046875 -0.125 C 3.578125 -0.125 3.375 -0.515625 3.375 -0.921875 C 3.375 -1.1875 3.453125 -1.453125 3.578125 -1.96875 Z M 4 -3.609375 \" style=\"stroke:none;\"/>\n</symbol>\n<symbol id=\"glyph0-4\" overflow=\"visible\">\n<path d=\"M 2.859375 -8.15625 C 2.859375 -8.171875 2.859375 -8.296875 2.703125 -8.296875 C 2.421875 -8.296875 1.546875 -8.203125 1.25 -8.171875 C 1.140625 -8.15625 1.015625 -8.15625 1.015625 -7.9375 C 1.015625 -7.796875 1.125 -7.796875 1.296875 -7.796875 C 1.875 -7.796875 1.90625 -7.703125 1.90625 -7.59375 C 1.90625 -7.5 1.796875 -7.09375 1.734375 -6.84375 L 0.75 -2.953125 C 0.609375 -2.359375 0.5625 -2.15625 0.5625 -1.75 C 0.5625 -0.609375 1.1875 0.125 2.078125 0.125 C 3.484375 0.125 4.953125 -1.65625 4.953125 -3.375 C 4.953125 -4.453125 4.328125 -5.28125 3.375 -5.28125 C 2.828125 -5.28125 2.328125 -4.9375 1.96875 -4.5625 Z M 1.734375 -3.640625 C 1.8125 -3.90625 1.8125 -3.9375 1.90625 -4.0625 C 2.5 -4.84375 3.03125 -5.015625 3.34375 -5.015625 C 3.78125 -5.015625 4.09375 -4.65625 4.09375 -3.890625 C 4.09375 -3.1875 3.703125 -1.8125 3.484375 -1.359375 C 3.09375 -0.5625 2.546875 -0.125 2.078125 -0.125 C 1.671875 -0.125 1.28125 -0.453125 1.28125 -1.34375 C 1.28125 -1.5625 1.28125 -1.796875 1.46875 -2.546875 Z M 1.734375 -3.640625 \" style=\"stroke:none;\"/>\n</symbol>\n<symbol id=\"glyph1-0\" overflow=\"visible\">\n<path d=\"\" style=\"stroke:none;\"/>\n</symbol>\n<symbol id=\"glyph1-1\" overflow=\"visible\">\n<path d=\"M 8.21875 -3.90625 C 8.390625 -3.90625 8.625 -3.90625 8.625 -4.140625 C 8.625 -4.390625 8.390625 -4.390625 8.21875 -4.390625 L 1.0625 -4.390625 C 0.890625 -4.390625 0.671875 -4.390625 0.671875 -4.140625 C 0.671875 -3.90625 0.890625 -3.90625 1.078125 -3.90625 Z M 8.21875 -1.59375 C 8.390625 -1.59375 8.625 -1.59375 8.625 -1.828125 C 8.625 -2.0625 8.390625 -2.0625 8.21875 -2.0625 L 1.078125 -2.0625 C 0.890625 -2.0625 0.671875 -2.0625 0.671875 -1.828125 C 0.671875 -1.59375 0.890625 -1.59375 1.0625 -1.59375 Z M 8.21875 -1.59375 \" style=\"stroke:none;\"/>\n</symbol>\n<symbol id=\"glyph1-2\" overflow=\"visible\">\n<path d=\"M 4.890625 -2.75 L 8.21875 -2.75 C 8.390625 -2.75 8.625 -2.75 8.625 -2.984375 C 8.625 -3.234375 8.390625 -3.234375 8.21875 -3.234375 L 4.890625 -3.234375 L 4.890625 -6.578125 C 4.890625 -6.734375 4.890625 -6.96875 4.65625 -6.96875 C 4.40625 -6.96875 4.40625 -6.734375 4.40625 -6.578125 L 4.40625 -3.234375 L 1.0625 -3.234375 C 0.890625 -3.234375 0.671875 -3.234375 0.671875 -2.984375 C 0.671875 -2.75 0.890625 -2.75 1.0625 -2.75 L 4.40625 -2.75 L 4.40625 0.59375 C 4.40625 0.765625 4.40625 0.984375 4.65625 0.984375 C 4.890625 0.984375 4.890625 0.765625 4.890625 0.59375 Z M 4.890625 -2.75 \" style=\"stroke:none;\"/>\n</symbol>\n<symbol id=\"glyph2-0\" overflow=\"visible\">\n<path d=\"\" style=\"stroke:none;\"/>\n</symbol>\n<symbol id=\"glyph2-1\" overflow=\"visible\">\n<path d=\"M 3.9375 -5.40625 L 6.5 -5.40625 C 6.640625 -5.40625 6.828125 -5.40625 6.828125 -5.609375 C 6.828125 -5.8125 6.640625 -5.8125 6.5 -5.8125 L 0.984375 -5.8125 C 0.859375 -5.8125 0.640625 -5.8125 0.640625 -5.609375 C 0.640625 -5.40625 0.84375 -5.40625 0.984375 -5.40625 L 3.53125 -5.40625 L 3.53125 -0.328125 C 3.53125 -0.1875 3.53125 0 3.75 0 C 3.9375 0 3.9375 -0.203125 3.9375 -0.328125 Z M 3.9375 -5.40625 \" style=\"stroke:none;\"/>\n</symbol>\n<symbol id=\"glyph3-0\" overflow=\"visible\">\n<path d=\"\" style=\"stroke:none;\"/>\n</symbol>\n<symbol id=\"glyph3-1\" overflow=\"visible\">\n<path d=\"M 4 -3.609375 C 4.0625 -3.921875 4.34375 -5.015625 5.171875 -5.015625 C 5.234375 -5.015625 5.515625 -5.015625 5.765625 -4.859375 C 5.4375 -4.8125 5.203125 -4.5 5.203125 -4.21875 C 5.203125 -4.03125 5.328125 -3.796875 5.65625 -3.796875 C 5.921875 -3.796875 6.296875 -4.015625 6.296875 -4.5 C 6.296875 -5.109375 5.59375 -5.28125 5.1875 -5.28125 C 4.5 -5.28125 4.078125 -4.65625 3.9375 -4.375 C 3.640625 -5.15625 2.984375 -5.28125 2.640625 -5.28125 C 1.40625 -5.28125 0.71875 -3.734375 0.71875 -3.4375 C 0.71875 -3.328125 0.84375 -3.328125 0.859375 -3.328125 C 0.953125 -3.328125 0.984375 -3.34375 1.015625 -3.453125 C 1.421875 -4.71875 2.21875 -5.015625 2.625 -5.015625 C 2.84375 -5.015625 3.265625 -4.90625 3.265625 -4.21875 C 3.265625 -3.84375 3.0625 -3.046875 2.625 -1.375 C 2.421875 -0.640625 2.015625 -0.125 1.484375 -0.125 C 1.40625 -0.125 1.140625 -0.125 0.890625 -0.28125 C 1.1875 -0.34375 1.453125 -0.59375 1.453125 -0.9375 C 1.453125 -1.25 1.1875 -1.34375 1 -1.34375 C 0.640625 -1.34375 0.34375 -1.046875 0.34375 -0.65625 C 0.34375 -0.109375 0.9375 0.125 1.46875 0.125 C 2.265625 0.125 2.6875 -0.703125 2.71875 -0.78125 C 2.875 -0.328125 3.296875 0.125 4.015625 0.125 C 5.25 0.125 5.921875 -1.40625 5.921875 -1.703125 C 5.921875 -1.828125 5.828125 -1.828125 5.78125 -1.828125 C 5.671875 -1.828125 5.65625 -1.78125 5.625 -1.703125 C 5.234375 -0.421875 4.421875 -0.125 4.046875 -0.125 C 3.578125 -0.125 3.375 -0.515625 3.375 -0.921875 C 3.375 -1.1875 3.453125 -1.453125 3.578125 -1.96875 Z M 4 -3.609375 \" style=\"stroke:none;\"/>\n</symbol>\n<symbol id=\"glyph4-0\" overflow=\"visible\">\n<path d=\"\" style=\"stroke:none;\"/>\n</symbol>\n<symbol id=\"glyph4-1\" overflow=\"visible\">\n<path d=\"M 5.8125 -4.546875 C 5.859375 -4.71875 5.859375 -4.75 5.859375 -4.828125 C 5.859375 -5.046875 5.6875 -5.15625 5.515625 -5.15625 C 5.390625 -5.15625 5.203125 -5.078125 5.09375 -4.90625 C 5.0625 -4.84375 4.96875 -4.46875 4.921875 -4.25 C 4.84375 -3.9375 4.75 -3.625 4.6875 -3.296875 L 4.140625 -1.140625 C 4.09375 -0.96875 3.578125 -0.125 2.796875 -0.125 C 2.1875 -0.125 2.0625 -0.65625 2.0625 -1.09375 C 2.0625 -1.65625 2.265625 -2.390625 2.671875 -3.4375 C 2.859375 -3.9375 2.90625 -4.0625 2.90625 -4.296875 C 2.90625 -4.84375 2.515625 -5.28125 1.921875 -5.28125 C 0.78125 -5.28125 0.34375 -3.546875 0.34375 -3.4375 C 0.34375 -3.328125 0.46875 -3.328125 0.484375 -3.328125 C 0.609375 -3.328125 0.625 -3.34375 0.6875 -3.53125 C 1 -4.65625 1.484375 -5.015625 1.890625 -5.015625 C 1.984375 -5.015625 2.1875 -5.015625 2.1875 -4.640625 C 2.1875 -4.34375 2.0625 -4.03125 1.984375 -3.796875 C 1.5 -2.53125 1.296875 -1.859375 1.296875 -1.296875 C 1.296875 -0.234375 2.046875 0.125 2.75 0.125 C 3.21875 0.125 3.625 -0.078125 3.953125 -0.40625 C 3.796875 0.21875 3.65625 0.796875 3.171875 1.4375 C 2.875 1.84375 2.421875 2.1875 1.859375 2.1875 C 1.703125 2.1875 1.15625 2.15625 0.953125 1.6875 C 1.140625 1.6875 1.296875 1.6875 1.46875 1.546875 C 1.59375 1.4375 1.703125 1.28125 1.703125 1.046875 C 1.703125 0.6875 1.390625 0.640625 1.265625 0.640625 C 0.984375 0.640625 0.59375 0.828125 0.59375 1.40625 C 0.59375 2.015625 1.125 2.453125 1.859375 2.453125 C 3.09375 2.453125 4.328125 1.359375 4.65625 0.015625 Z M 5.8125 -4.546875 \" style=\"stroke:none;\"/>\n</symbol>\n</g>\n<clipPath id=\"clip1\">\n  <path d=\"M 214.199219 103 L 221 103 L 221 111.398438 L 214.199219 111.398438 Z M 214.199219 103 \"/>\n</clipPath>\n<clipPath id=\"clip2\">\n  <path d=\"M 280 165.203125 L 286 165.203125 L 286 170.964844 L 280 170.964844 Z M 280 165.203125 \"/>\n</clipPath>\n<clipPath id=\"clip3\">\n  <path d=\"M 30 13.199219 L 35.800781 13.199219 L 35.800781 21.964844 L 30 21.964844 Z M 30 13.199219 \"/>\n</clipPath>\n</defs>\n<g id=\"surface1\">\n<rect height=\"202\" style=\"fill:rgb(100%,100%,100%);fill-opacity:1;stroke:none;\" width=\"302\" x=\"0\" y=\"0\"/>\n<rect height=\"202\" style=\"fill:rgb(100%,100%,100%);fill-opacity:1;stroke:none;\" width=\"302\" x=\"0\" y=\"0\"/>\n<path d=\"M 75 134.898438 L 75 325 \" style=\"fill:none;stroke-width:1;stroke-linecap:round;stroke-linejoin:round;stroke:rgb(0%,0%,0%);stroke-opacity:1;stroke-miterlimit:10;\" transform=\"matrix(1,0,0,1,-49,-124)\"/>\n<path d=\"M 75 126.898438 L 72 134.898438 L 78 134.898438 Z M 75 126.898438 \" style=\"fill-rule:nonzero;fill:rgb(0%,0%,0%);fill-opacity:1;stroke-width:1;stroke-linecap:butt;stroke-linejoin:miter;stroke:rgb(0%,0%,0%);stroke-opacity:1;stroke-miterlimit:10;\" transform=\"matrix(1,0,0,1,-49,-124)\"/>\n<path d=\"M 340.101562 300 L 50 300 \" style=\"fill:none;stroke-width:1;stroke-linecap:round;stroke-linejoin:round;stroke:rgb(0%,0%,0%);stroke-opacity:1;stroke-miterlimit:10;\" transform=\"matrix(1,0,0,1,-49,-124)\"/>\n<path d=\"M 348.101562 300 L 340.101562 297 L 340.101562 303 Z M 348.101562 300 \" style=\"fill-rule:nonzero;fill:rgb(0%,0%,0%);fill-opacity:1;stroke-width:1;stroke-linecap:butt;stroke-linejoin:miter;stroke:rgb(0%,0%,0%);stroke-opacity:1;stroke-miterlimit:10;\" transform=\"matrix(1,0,0,1,-49,-124)\"/>\n<path d=\"M 339 171 L 58.0625 284.402344 \" style=\"fill:none;stroke-width:1;stroke-linecap:round;stroke-linejoin:round;stroke:rgb(0%,0%,0%);stroke-opacity:1;stroke-miterlimit:10;\" transform=\"matrix(1,0,0,1,-49,-124)\"/>\n<path d=\"M 80.269531 151.730469 C 81.242188 152.707031 81.242188 154.292969 80.269531 155.269531 C 79.292969 156.242188 77.707031 156.242188 76.730469 155.269531 C 75.757812 154.292969 75.757812 152.707031 76.730469 151.730469 C 77.707031 150.757812 79.292969 150.757812 80.269531 151.730469 \" style=\" stroke:none;fill-rule:nonzero;fill:rgb(0%,0%,0%);fill-opacity:1;\"/>\n<path d=\"M 110.269531 102.730469 C 111.242188 103.707031 111.242188 105.292969 110.269531 106.269531 C 109.292969 107.242188 107.707031 107.242188 106.730469 106.269531 C 105.757812 105.292969 105.757812 103.707031 106.730469 102.730469 C 107.707031 101.757812 109.292969 101.757812 110.269531 102.730469 \" style=\" stroke:none;fill-rule:nonzero;fill:rgb(0%,0%,0%);fill-opacity:1;\"/>\n<path d=\"M 137.269531 34.730469 C 138.242188 35.707031 138.242188 37.292969 137.269531 38.269531 C 136.292969 39.242188 134.707031 39.242188 133.730469 38.269531 C 132.757812 37.292969 132.757812 35.707031 133.730469 34.730469 C 134.707031 33.757812 136.292969 33.757812 137.269531 34.730469 \" style=\" stroke:none;fill-rule:nonzero;fill:rgb(0%,0%,0%);fill-opacity:1;\"/>\n<path d=\"M 173.269531 124.730469 C 174.242188 125.707031 174.242188 127.292969 173.269531 128.269531 C 172.292969 129.242188 170.707031 129.242188 169.730469 128.269531 C 168.757812 127.292969 168.757812 125.707031 169.730469 124.730469 C 170.707031 123.757812 172.292969 123.757812 173.269531 124.730469 \" style=\" stroke:none;fill-rule:nonzero;fill:rgb(0%,0%,0%);fill-opacity:1;\"/>\n<path d=\"M 240.269531 42.730469 C 241.242188 43.707031 241.242188 45.292969 240.269531 46.269531 C 239.292969 47.242188 237.707031 47.242188 236.730469 46.269531 C 235.757812 45.292969 235.757812 43.707031 236.730469 42.730469 C 237.707031 41.757812 239.292969 41.757812 240.269531 42.730469 \" style=\" stroke:none;fill-rule:nonzero;fill:rgb(0%,0%,0%);fill-opacity:1;\"/>\n<path d=\"M 127.507812 275 L 127.5625 256.347656 \" style=\"fill:none;stroke-width:1;stroke-linecap:round;stroke-linejoin:round;stroke:rgb(0%,0%,0%);stroke-opacity:1;stroke-miterlimit:10;\" transform=\"matrix(1,0,0,1,-49,-124)\"/>\n<path d=\"M 184.5 163 L 184.453125 233.386719 \" style=\"fill:none;stroke-width:1;stroke-linecap:round;stroke-linejoin:round;stroke:rgb(0%,0%,0%);stroke-opacity:1;stroke-miterlimit:10;\" transform=\"matrix(1,0,0,1,-49,-124)\"/>\n<path d=\"M 157.605469 230.996094 L 158.152344 244 \" style=\"fill:none;stroke-width:1;stroke-linecap:round;stroke-linejoin:round;stroke:rgb(0%,0%,0%);stroke-opacity:1;stroke-miterlimit:10;\" transform=\"matrix(1,0,0,1,-49,-124)\"/>\n<path d=\"M 220.488281 248 L 220.332031 218.902344 \" style=\"fill:none;stroke-width:1;stroke-linecap:round;stroke-linejoin:round;stroke:rgb(0%,0%,0%);stroke-opacity:1;stroke-miterlimit:10;\" transform=\"matrix(1,0,0,1,-49,-124)\"/>\n<path d=\"M 287.507812 171 L 287.574219 191.757812 \" style=\"fill:none;stroke-width:1;stroke-linecap:round;stroke-linejoin:round;stroke:rgb(0%,0%,0%);stroke-opacity:1;stroke-miterlimit:10;\" transform=\"matrix(1,0,0,1,-49,-124)\"/>\n<g clip-path=\"url(#clip1)\" clip-rule=\"nonzero\">\n<g style=\"fill:rgb(0%,0%,0%);fill-opacity:1;\">\n  <use x=\"214.2164\" xlink:href=\"#glyph0-1\" y=\"108.616\"/>\n</g>\n</g>\n<g style=\"fill:rgb(0%,0%,0%);fill-opacity:1;\">\n  <use x=\"223.8272\" xlink:href=\"#glyph1-1\" y=\"108.616\"/>\n</g>\n<g style=\"fill:rgb(0%,0%,0%);fill-opacity:1;\">\n  <use x=\"236.4464\" xlink:href=\"#glyph0-2\" y=\"108.616\"/>\n</g>\n<g style=\"fill:rgb(0%,0%,0%);fill-opacity:1;\">\n  <use x=\"245.3264\" xlink:href=\"#glyph2-1\" y=\"103.6804\"/>\n</g>\n<g style=\"fill:rgb(0%,0%,0%);fill-opacity:1;\">\n  <use x=\"253.3964\" xlink:href=\"#glyph0-3\" y=\"108.616\"/>\n</g>\n<g style=\"fill:rgb(0%,0%,0%);fill-opacity:1;\">\n  <use x=\"262.886\" xlink:href=\"#glyph1-2\" y=\"108.616\"/>\n</g>\n<g style=\"fill:rgb(0%,0%,0%);fill-opacity:1;\">\n  <use x=\"274.8416\" xlink:href=\"#glyph0-4\" y=\"108.616\"/>\n</g>\n<g clip-path=\"url(#clip2)\" clip-rule=\"nonzero\">\n<g style=\"fill:rgb(0%,0%,0%);fill-opacity:1;\">\n  <use x=\"279.6776\" xlink:href=\"#glyph3-1\" y=\"170.579\"/>\n</g>\n</g>\n<g clip-path=\"url(#clip3)\" clip-rule=\"nonzero\">\n<g style=\"fill:rgb(0%,0%,0%);fill-opacity:1;\">\n  <use x=\"29.9488\" xlink:href=\"#glyph4-1\" y=\"19.179\"/>\n</g>\n</g>\n</g>\n</svg>"
          },
          "metadata": {},
          "execution_count": 48
        }
      ]
    },
    {
      "cell_type": "code",
      "source": [
        "from IPython.display import SVG\n",
        "SVG(filename='img/singleneuron.svg')"
      ],
      "metadata": {
        "colab": {
          "base_uri": "https://localhost:8080/",
          "height": 139
        },
        "id": "Zgp_vVmmqBA8",
        "outputId": "6a8d10dc-ea92-4807-b43c-1d1196e7dc89"
      },
      "execution_count": 49,
      "outputs": [
        {
          "output_type": "execute_result",
          "data": {
            "text/plain": [
              "<IPython.core.display.SVG object>"
            ],
            "image/svg+xml": "<svg height=\"88pt\" version=\"1.1\" viewBox=\"0 0 263 88\" width=\"263pt\" xmlns=\"http://www.w3.org/2000/svg\" xmlns:xlink=\"http://www.w3.org/1999/xlink\">\n<defs>\n<g>\n<symbol id=\"glyph0-0\" overflow=\"visible\">\n<path d=\"M 1.125 0 L 1.125 -5.625 L 5.625 -5.625 L 5.625 0 Z M 1.265625 -0.140625 L 5.484375 -0.140625 L 5.484375 -5.484375 L 1.265625 -5.484375 Z M 1.265625 -0.140625 \" style=\"stroke:none;\"/>\n</symbol>\n<symbol id=\"glyph0-1\" overflow=\"visible\">\n<path d=\"M -0.015625 0 L 2.015625 -2.375 L 0.859375 -4.671875 L 1.734375 -4.671875 L 2.125 -3.84375 C 2.269531 -3.53125 2.398438 -3.226562 2.515625 -2.9375 L 3.875 -4.671875 L 4.84375 -4.671875 L 2.875 -2.3125 L 4.0625 0 L 3.171875 0 L 2.71875 -0.953125 C 2.613281 -1.148438 2.5 -1.398438 2.375 -1.703125 L 0.984375 0 Z M -0.015625 0 \" style=\"stroke:none;\"/>\n</symbol>\n<symbol id=\"glyph0-2\" overflow=\"visible\">\n<path d=\"M 0.4375 -1.765625 C 0.4375 -2.679688 0.707031 -3.4375 1.25 -4.03125 C 1.6875 -4.519531 2.265625 -4.765625 2.984375 -4.765625 C 3.546875 -4.765625 4 -4.585938 4.34375 -4.234375 C 4.6875 -3.890625 4.859375 -3.421875 4.859375 -2.828125 C 4.859375 -2.285156 4.75 -1.785156 4.53125 -1.328125 C 4.3125 -0.867188 4.003906 -0.515625 3.609375 -0.265625 C 3.210938 -0.015625 2.789062 0.109375 2.34375 0.109375 C 1.976562 0.109375 1.644531 0.03125 1.34375 -0.125 C 1.050781 -0.28125 0.828125 -0.5 0.671875 -0.78125 C 0.515625 -1.070312 0.4375 -1.398438 0.4375 -1.765625 Z M 1.234375 -1.84375 C 1.234375 -1.40625 1.335938 -1.070312 1.546875 -0.84375 C 1.765625 -0.625 2.035156 -0.515625 2.359375 -0.515625 C 2.523438 -0.515625 2.691406 -0.546875 2.859375 -0.609375 C 3.023438 -0.679688 3.179688 -0.785156 3.328125 -0.921875 C 3.472656 -1.066406 3.59375 -1.226562 3.6875 -1.40625 C 3.789062 -1.582031 3.875 -1.773438 3.9375 -1.984375 C 4.03125 -2.273438 4.078125 -2.554688 4.078125 -2.828125 C 4.078125 -3.242188 3.96875 -3.566406 3.75 -3.796875 C 3.539062 -4.035156 3.273438 -4.15625 2.953125 -4.15625 C 2.703125 -4.15625 2.472656 -4.09375 2.265625 -3.96875 C 2.066406 -3.851562 1.882812 -3.679688 1.71875 -3.453125 C 1.550781 -3.222656 1.425781 -2.957031 1.34375 -2.65625 C 1.269531 -2.351562 1.234375 -2.082031 1.234375 -1.84375 Z M 1.234375 -1.84375 \" style=\"stroke:none;\"/>\n</symbol>\n<symbol id=\"glyph1-0\" overflow=\"visible\">\n<path d=\"M 0.875 0 L 0.875 -4.375 L 4.375 -4.375 L 4.375 0 Z M 0.984375 -0.109375 L 4.265625 -0.109375 L 4.265625 -4.265625 L 0.984375 -4.265625 Z M 0.984375 -0.109375 \" style=\"stroke:none;\"/>\n</symbol>\n<symbol id=\"glyph1-1\" overflow=\"visible\">\n<path d=\"M 1.6875 0 L 2.484375 -3.78125 C 2.140625 -3.507812 1.65625 -3.296875 1.03125 -3.140625 L 1.15625 -3.703125 C 1.457031 -3.828125 1.757812 -3.988281 2.0625 -4.1875 C 2.363281 -4.382812 2.585938 -4.554688 2.734375 -4.703125 C 2.828125 -4.796875 2.914062 -4.90625 3 -5.03125 L 3.359375 -5.03125 L 2.3125 0 Z M 1.6875 0 \" style=\"stroke:none;\"/>\n</symbol>\n<symbol id=\"glyph1-2\" overflow=\"visible\">\n<path d=\"M 0.40625 0 C 0.46875 -0.300781 0.554688 -0.550781 0.671875 -0.75 C 0.785156 -0.945312 0.9375 -1.132812 1.125 -1.3125 C 1.3125 -1.5 1.671875 -1.804688 2.203125 -2.234375 C 2.523438 -2.492188 2.75 -2.6875 2.875 -2.8125 C 3.039062 -2.988281 3.160156 -3.160156 3.234375 -3.328125 C 3.285156 -3.441406 3.3125 -3.566406 3.3125 -3.703125 C 3.3125 -3.929688 3.226562 -4.125 3.0625 -4.28125 C 2.90625 -4.445312 2.707031 -4.53125 2.46875 -4.53125 C 2.238281 -4.53125 2.035156 -4.445312 1.859375 -4.28125 C 1.679688 -4.125 1.554688 -3.863281 1.484375 -3.5 L 0.875 -3.59375 C 0.9375 -4.039062 1.109375 -4.390625 1.390625 -4.640625 C 1.679688 -4.898438 2.039062 -5.03125 2.46875 -5.03125 C 2.75 -5.03125 3.003906 -4.96875 3.234375 -4.84375 C 3.460938 -4.726562 3.632812 -4.5625 3.75 -4.34375 C 3.875 -4.132812 3.9375 -3.914062 3.9375 -3.6875 C 3.9375 -3.351562 3.816406 -3.035156 3.578125 -2.734375 C 3.429688 -2.535156 3.003906 -2.15625 2.296875 -1.59375 C 1.984375 -1.351562 1.753906 -1.15625 1.609375 -1 C 1.460938 -0.84375 1.351562 -0.695312 1.28125 -0.5625 L 3.515625 -0.5625 L 3.390625 0 Z M 0.40625 0 \" style=\"stroke:none;\"/>\n</symbol>\n<symbol id=\"glyph1-3\" overflow=\"visible\">\n<path d=\"M 2.6875 -0.53125 C 2.332031 -0.125 1.960938 0.078125 1.578125 0.078125 C 1.234375 0.078125 0.945312 -0.046875 0.71875 -0.296875 C 0.488281 -0.554688 0.375 -0.925781 0.375 -1.40625 C 0.375 -1.84375 0.460938 -2.242188 0.640625 -2.609375 C 0.816406 -2.984375 1.039062 -3.257812 1.3125 -3.4375 C 1.59375 -3.625 1.867188 -3.71875 2.140625 -3.71875 C 2.585938 -3.71875 2.925781 -3.5 3.15625 -3.0625 L 3.578125 -5.015625 L 4.1875 -5.015625 L 3.140625 0 L 2.578125 0 Z M 0.984375 -1.515625 C 0.984375 -1.265625 1.007812 -1.066406 1.0625 -0.921875 C 1.113281 -0.773438 1.195312 -0.648438 1.3125 -0.546875 C 1.4375 -0.453125 1.582031 -0.40625 1.75 -0.40625 C 2.03125 -0.40625 2.285156 -0.550781 2.515625 -0.84375 C 2.816406 -1.238281 2.96875 -1.71875 2.96875 -2.28125 C 2.96875 -2.570312 2.890625 -2.796875 2.734375 -2.953125 C 2.585938 -3.117188 2.398438 -3.203125 2.171875 -3.203125 C 2.023438 -3.203125 1.890625 -3.164062 1.765625 -3.09375 C 1.648438 -3.03125 1.53125 -2.921875 1.40625 -2.765625 C 1.289062 -2.609375 1.191406 -2.40625 1.109375 -2.15625 C 1.023438 -1.914062 0.984375 -1.703125 0.984375 -1.515625 Z M 0.984375 -1.515625 \" style=\"stroke:none;\"/>\n</symbol>\n<symbol id=\"glyph2-0\" overflow=\"visible\">\n<path d=\"M 1.125 0 L 1.125 -5.625 L 5.625 -5.625 L 5.625 0 Z M 1.265625 -0.140625 L 5.484375 -0.140625 L 5.484375 -5.484375 L 1.265625 -5.484375 Z M 1.265625 -0.140625 \" style=\"stroke:none;\"/>\n</symbol>\n<symbol id=\"glyph2-1\" overflow=\"visible\">\n<path d=\"M 0.84375 0 L 0.84375 -6.4375 L 1.6875 -6.4375 L 1.6875 0 Z M 0.84375 0 \" style=\"stroke:none;\"/>\n</symbol>\n<symbol id=\"glyph2-2\" overflow=\"visible\">\n<path d=\"M 0.59375 0 L 0.59375 -4.671875 L 1.3125 -4.671875 L 1.3125 -4 C 1.644531 -4.507812 2.140625 -4.765625 2.796875 -4.765625 C 3.078125 -4.765625 3.332031 -4.710938 3.5625 -4.609375 C 3.800781 -4.515625 3.976562 -4.382812 4.09375 -4.21875 C 4.207031 -4.0625 4.289062 -3.867188 4.34375 -3.640625 C 4.375 -3.492188 4.390625 -3.238281 4.390625 -2.875 L 4.390625 0 L 3.59375 0 L 3.59375 -2.84375 C 3.59375 -3.164062 3.5625 -3.40625 3.5 -3.5625 C 3.4375 -3.71875 3.328125 -3.84375 3.171875 -3.9375 C 3.015625 -4.039062 2.832031 -4.09375 2.625 -4.09375 C 2.289062 -4.09375 2 -3.984375 1.75 -3.765625 C 1.507812 -3.554688 1.390625 -3.148438 1.390625 -2.546875 L 1.390625 0 Z M 0.59375 0 \" style=\"stroke:none;\"/>\n</symbol>\n<symbol id=\"glyph2-3\" overflow=\"visible\">\n<path d=\"M 0.59375 1.78125 L 0.59375 -4.671875 L 1.3125 -4.671875 L 1.3125 -4.0625 C 1.476562 -4.300781 1.664062 -4.476562 1.875 -4.59375 C 2.09375 -4.707031 2.359375 -4.765625 2.671875 -4.765625 C 3.066406 -4.765625 3.414062 -4.660156 3.71875 -4.453125 C 4.019531 -4.253906 4.25 -3.96875 4.40625 -3.59375 C 4.5625 -3.21875 4.640625 -2.8125 4.640625 -2.375 C 4.640625 -1.894531 4.550781 -1.460938 4.375 -1.078125 C 4.207031 -0.691406 3.960938 -0.394531 3.640625 -0.1875 C 3.316406 0.0078125 2.972656 0.109375 2.609375 0.109375 C 2.347656 0.109375 2.113281 0.0507812 1.90625 -0.0625 C 1.695312 -0.175781 1.523438 -0.316406 1.390625 -0.484375 L 1.390625 1.78125 Z M 1.3125 -2.3125 C 1.3125 -1.707031 1.429688 -1.257812 1.671875 -0.96875 C 1.921875 -0.6875 2.21875 -0.546875 2.5625 -0.546875 C 2.90625 -0.546875 3.203125 -0.691406 3.453125 -0.984375 C 3.710938 -1.285156 3.84375 -1.75 3.84375 -2.375 C 3.84375 -2.96875 3.71875 -3.410156 3.46875 -3.703125 C 3.226562 -4.003906 2.9375 -4.15625 2.59375 -4.15625 C 2.257812 -4.15625 1.960938 -3.992188 1.703125 -3.671875 C 1.441406 -3.359375 1.3125 -2.90625 1.3125 -2.3125 Z M 1.3125 -2.3125 \" style=\"stroke:none;\"/>\n</symbol>\n<symbol id=\"glyph2-4\" overflow=\"visible\">\n<path d=\"M 3.65625 0 L 3.65625 -0.6875 C 3.289062 -0.15625 2.796875 0.109375 2.171875 0.109375 C 1.898438 0.109375 1.644531 0.0546875 1.40625 -0.046875 C 1.164062 -0.160156 0.984375 -0.296875 0.859375 -0.453125 C 0.742188 -0.609375 0.664062 -0.800781 0.625 -1.03125 C 0.59375 -1.1875 0.578125 -1.4375 0.578125 -1.78125 L 0.578125 -4.671875 L 1.359375 -4.671875 L 1.359375 -2.078125 C 1.359375 -1.660156 1.378906 -1.382812 1.421875 -1.25 C 1.460938 -1.039062 1.5625 -0.875 1.71875 -0.75 C 1.882812 -0.632812 2.085938 -0.578125 2.328125 -0.578125 C 2.566406 -0.578125 2.789062 -0.632812 3 -0.75 C 3.207031 -0.875 3.351562 -1.039062 3.4375 -1.25 C 3.519531 -1.457031 3.5625 -1.765625 3.5625 -2.171875 L 3.5625 -4.671875 L 4.359375 -4.671875 L 4.359375 0 Z M 3.65625 0 \" style=\"stroke:none;\"/>\n</symbol>\n<symbol id=\"glyph2-5\" overflow=\"visible\">\n<path d=\"M 2.328125 -0.703125 L 2.4375 -0.015625 C 2.207031 0.0351562 2.007812 0.0625 1.84375 0.0625 C 1.550781 0.0625 1.328125 0.015625 1.171875 -0.078125 C 1.015625 -0.171875 0.898438 -0.289062 0.828125 -0.4375 C 0.765625 -0.582031 0.734375 -0.890625 0.734375 -1.359375 L 0.734375 -4.046875 L 0.15625 -4.046875 L 0.15625 -4.671875 L 0.734375 -4.671875 L 0.734375 -5.828125 L 1.53125 -6.296875 L 1.53125 -4.671875 L 2.328125 -4.671875 L 2.328125 -4.046875 L 1.53125 -4.046875 L 1.53125 -1.328125 C 1.53125 -1.097656 1.539062 -0.953125 1.5625 -0.890625 C 1.59375 -0.828125 1.640625 -0.773438 1.703125 -0.734375 C 1.765625 -0.691406 1.851562 -0.671875 1.96875 -0.671875 C 2.0625 -0.671875 2.179688 -0.679688 2.328125 -0.703125 Z M 2.328125 -0.703125 \" style=\"stroke:none;\"/>\n</symbol>\n<symbol id=\"glyph2-6\" overflow=\"visible\">\n<path d=\"\" style=\"stroke:none;\"/>\n</symbol>\n<symbol id=\"glyph2-7\" overflow=\"visible\">\n<path d=\"M 0.578125 0 L 0.578125 -6.4375 L 1.359375 -6.4375 L 1.359375 0 Z M 0.578125 0 \" style=\"stroke:none;\"/>\n</symbol>\n<symbol id=\"glyph2-8\" overflow=\"visible\">\n<path d=\"M 3.640625 -0.578125 C 3.347656 -0.328125 3.066406 -0.148438 2.796875 -0.046875 C 2.523438 0.0546875 2.234375 0.109375 1.921875 0.109375 C 1.410156 0.109375 1.015625 -0.015625 0.734375 -0.265625 C 0.460938 -0.515625 0.328125 -0.835938 0.328125 -1.234375 C 0.328125 -1.460938 0.378906 -1.671875 0.484375 -1.859375 C 0.585938 -2.046875 0.722656 -2.195312 0.890625 -2.3125 C 1.054688 -2.425781 1.242188 -2.515625 1.453125 -2.578125 C 1.609375 -2.609375 1.84375 -2.644531 2.15625 -2.6875 C 2.800781 -2.757812 3.273438 -2.851562 3.578125 -2.96875 C 3.578125 -3.070312 3.578125 -3.140625 3.578125 -3.171875 C 3.578125 -3.492188 3.503906 -3.71875 3.359375 -3.84375 C 3.148438 -4.03125 2.847656 -4.125 2.453125 -4.125 C 2.078125 -4.125 1.800781 -4.054688 1.625 -3.921875 C 1.445312 -3.796875 1.316406 -3.566406 1.234375 -3.234375 L 0.46875 -3.328125 C 0.53125 -3.660156 0.640625 -3.925781 0.796875 -4.125 C 0.960938 -4.332031 1.195312 -4.488281 1.5 -4.59375 C 1.8125 -4.707031 2.164062 -4.765625 2.5625 -4.765625 C 2.96875 -4.765625 3.289062 -4.71875 3.53125 -4.625 C 3.78125 -4.53125 3.960938 -4.410156 4.078125 -4.265625 C 4.203125 -4.128906 4.285156 -3.953125 4.328125 -3.734375 C 4.359375 -3.597656 4.375 -3.359375 4.375 -3.015625 L 4.375 -1.953125 C 4.375 -1.222656 4.390625 -0.757812 4.421875 -0.5625 C 4.453125 -0.363281 4.519531 -0.175781 4.625 0 L 3.796875 0 C 3.710938 -0.164062 3.660156 -0.359375 3.640625 -0.578125 Z M 3.578125 -2.34375 C 3.285156 -2.226562 2.851562 -2.128906 2.28125 -2.046875 C 1.957031 -1.992188 1.726562 -1.9375 1.59375 -1.875 C 1.457031 -1.820312 1.351562 -1.738281 1.28125 -1.625 C 1.207031 -1.507812 1.171875 -1.382812 1.171875 -1.25 C 1.171875 -1.039062 1.25 -0.863281 1.40625 -0.71875 C 1.5625 -0.582031 1.796875 -0.515625 2.109375 -0.515625 C 2.410156 -0.515625 2.679688 -0.582031 2.921875 -0.71875 C 3.160156 -0.851562 3.335938 -1.035156 3.453125 -1.265625 C 3.535156 -1.441406 3.578125 -1.703125 3.578125 -2.046875 Z M 3.578125 -2.34375 \" style=\"stroke:none;\"/>\n</symbol>\n<symbol id=\"glyph2-9\" overflow=\"visible\">\n<path d=\"M 0.5625 1.796875 L 0.46875 1.0625 C 0.644531 1.101562 0.796875 1.125 0.921875 1.125 C 1.097656 1.125 1.238281 1.09375 1.34375 1.03125 C 1.445312 0.976562 1.535156 0.898438 1.609375 0.796875 C 1.648438 0.710938 1.726562 0.515625 1.84375 0.203125 C 1.863281 0.160156 1.890625 0.0976562 1.921875 0.015625 L 0.140625 -4.671875 L 1 -4.671875 L 1.96875 -1.96875 C 2.09375 -1.625 2.207031 -1.265625 2.3125 -0.890625 C 2.394531 -1.242188 2.5 -1.597656 2.625 -1.953125 L 3.625 -4.671875 L 4.421875 -4.671875 L 2.640625 0.078125 C 2.453125 0.585938 2.304688 0.941406 2.203125 1.140625 C 2.054688 1.398438 1.894531 1.585938 1.71875 1.703125 C 1.539062 1.828125 1.320312 1.890625 1.0625 1.890625 C 0.914062 1.890625 0.75 1.859375 0.5625 1.796875 Z M 0.5625 1.796875 \" style=\"stroke:none;\"/>\n</symbol>\n<symbol id=\"glyph2-10\" overflow=\"visible\">\n<path d=\"M 3.78125 -1.5 L 4.609375 -1.40625 C 4.472656 -0.925781 4.226562 -0.550781 3.875 -0.28125 C 3.53125 -0.0195312 3.085938 0.109375 2.546875 0.109375 C 1.867188 0.109375 1.328125 -0.0976562 0.921875 -0.515625 C 0.523438 -0.941406 0.328125 -1.535156 0.328125 -2.296875 C 0.328125 -3.078125 0.53125 -3.679688 0.9375 -4.109375 C 1.34375 -4.546875 1.867188 -4.765625 2.515625 -4.765625 C 3.140625 -4.765625 3.644531 -4.550781 4.03125 -4.125 C 4.425781 -3.707031 4.625 -3.113281 4.625 -2.34375 C 4.625 -2.289062 4.625 -2.21875 4.625 -2.125 L 1.140625 -2.125 C 1.171875 -1.613281 1.316406 -1.222656 1.578125 -0.953125 C 1.835938 -0.679688 2.164062 -0.546875 2.5625 -0.546875 C 2.851562 -0.546875 3.097656 -0.617188 3.296875 -0.765625 C 3.503906 -0.921875 3.664062 -1.164062 3.78125 -1.5 Z M 1.1875 -2.78125 L 3.796875 -2.78125 C 3.765625 -3.175781 3.664062 -3.472656 3.5 -3.671875 C 3.25 -3.972656 2.921875 -4.125 2.515625 -4.125 C 2.148438 -4.125 1.84375 -4 1.59375 -3.75 C 1.351562 -3.507812 1.21875 -3.1875 1.1875 -2.78125 Z M 1.1875 -2.78125 \" style=\"stroke:none;\"/>\n</symbol>\n<symbol id=\"glyph2-11\" overflow=\"visible\">\n<path d=\"M 0.578125 0 L 0.578125 -4.671875 L 1.296875 -4.671875 L 1.296875 -3.953125 C 1.472656 -4.285156 1.640625 -4.503906 1.796875 -4.609375 C 1.953125 -4.710938 2.125 -4.765625 2.3125 -4.765625 C 2.570312 -4.765625 2.84375 -4.679688 3.125 -4.515625 L 2.84375 -3.78125 C 2.65625 -3.894531 2.460938 -3.953125 2.265625 -3.953125 C 2.097656 -3.953125 1.941406 -3.898438 1.796875 -3.796875 C 1.660156 -3.691406 1.5625 -3.546875 1.5 -3.359375 C 1.414062 -3.078125 1.375 -2.769531 1.375 -2.4375 L 1.375 0 Z M 0.578125 0 \" style=\"stroke:none;\"/>\n</symbol>\n<symbol id=\"glyph2-12\" overflow=\"visible\">\n<path d=\"M 0.4375 -3.140625 C 0.4375 -4.203125 0.722656 -5.035156 1.296875 -5.640625 C 1.867188 -6.253906 2.609375 -6.5625 3.515625 -6.5625 C 4.109375 -6.5625 4.644531 -6.414062 5.125 -6.125 C 5.601562 -5.84375 5.96875 -5.445312 6.21875 -4.9375 C 6.46875 -4.425781 6.59375 -3.851562 6.59375 -3.21875 C 6.59375 -2.5625 6.460938 -1.972656 6.203125 -1.453125 C 5.941406 -0.941406 5.566406 -0.550781 5.078125 -0.28125 C 4.597656 -0.0195312 4.078125 0.109375 3.515625 0.109375 C 2.910156 0.109375 2.367188 -0.0351562 1.890625 -0.328125 C 1.410156 -0.617188 1.046875 -1.019531 0.796875 -1.53125 C 0.554688 -2.039062 0.4375 -2.578125 0.4375 -3.140625 Z M 1.3125 -3.125 C 1.3125 -2.34375 1.519531 -1.726562 1.9375 -1.28125 C 2.351562 -0.84375 2.878906 -0.625 3.515625 -0.625 C 4.148438 -0.625 4.675781 -0.847656 5.09375 -1.296875 C 5.507812 -1.742188 5.71875 -2.382812 5.71875 -3.21875 C 5.71875 -3.738281 5.628906 -4.191406 5.453125 -4.578125 C 5.273438 -4.972656 5.015625 -5.28125 4.671875 -5.5 C 4.328125 -5.71875 3.945312 -5.828125 3.53125 -5.828125 C 2.925781 -5.828125 2.40625 -5.617188 1.96875 -5.203125 C 1.53125 -4.785156 1.3125 -4.09375 1.3125 -3.125 Z M 1.3125 -3.125 \" style=\"stroke:none;\"/>\n</symbol>\n<symbol id=\"glyph3-0\" overflow=\"visible\">\n<path d=\"M 6.546875 -10.65625 L 1.625 -10.65625 L 1.625 -0.75 L 6.546875 -0.75 Z M 7.359375 -11.390625 L 7.359375 -0.015625 L 0.8125 -0.015625 L 0.8125 -11.390625 Z M 7.359375 -11.390625 \" style=\"stroke:none;\"/>\n</symbol>\n<symbol id=\"glyph3-1\" overflow=\"visible\">\n<path d=\"M 12.4375 -1.78125 L 12.4375 0 L 14.203125 0 L 14.203125 -1.78125 Z M 7.109375 -1.78125 L 7.109375 0 L 8.875 0 L 8.875 -1.78125 Z M 1.78125 -1.78125 L 1.78125 0 L 3.546875 0 L 3.546875 -1.78125 Z M 1.78125 -1.78125 \" style=\"stroke:none;\"/>\n</symbol>\n</g>\n</defs>\n<g id=\"surface1\">\n<path d=\"M 124.015625 139.234375 C 128.996094 144.214844 128.996094 152.285156 124.015625 157.265625 C 119.035156 162.246094 110.964844 162.246094 105.984375 157.265625 C 101.003906 152.285156 101.003906 144.214844 105.984375 139.234375 C 110.964844 134.253906 119.035156 134.253906 124.015625 139.234375 \" style=\"fill-rule:nonzero;fill:rgb(69.804382%,85.098267%,100%);fill-opacity:1;stroke-width:1;stroke-linecap:round;stroke-linejoin:round;stroke:rgb(0%,0%,0%);stroke-opacity:1;stroke-miterlimit:10;\" transform=\"matrix(1,0,0,1,-24,-74)\"/>\n<g style=\"fill:rgb(0%,0%,0%);fill-opacity:1;\">\n  <use x=\"86.803467\" xlink:href=\"#glyph0-1\" y=\"76.635498\"/>\n</g>\n<g style=\"fill:rgb(0%,0%,0%);fill-opacity:1;\">\n  <use x=\"91.303467\" xlink:href=\"#glyph1-1\" y=\"78.635498\"/>\n</g>\n<path d=\"M 176.890625 139.234375 C 181.871094 144.214844 181.871094 152.285156 176.890625 157.265625 C 171.910156 162.246094 163.839844 162.246094 158.859375 157.265625 C 153.878906 152.285156 153.878906 144.214844 158.859375 139.234375 C 163.839844 134.253906 171.910156 134.253906 176.890625 139.234375 \" style=\"fill-rule:nonzero;fill:rgb(69.804382%,85.098267%,100%);fill-opacity:1;stroke-width:1;stroke-linecap:round;stroke-linejoin:round;stroke:rgb(0%,0%,0%);stroke-opacity:1;stroke-miterlimit:10;\" transform=\"matrix(1,0,0,1,-24,-74)\"/>\n<g style=\"fill:rgb(0%,0%,0%);fill-opacity:1;\">\n  <use x=\"139.678467\" xlink:href=\"#glyph0-1\" y=\"76.635498\"/>\n</g>\n<g style=\"fill:rgb(0%,0%,0%);fill-opacity:1;\">\n  <use x=\"144.178467\" xlink:href=\"#glyph1-2\" y=\"78.635498\"/>\n</g>\n<g style=\"fill:rgb(0%,0%,0%);fill-opacity:1;\">\n  <use x=\"8.98755\" xlink:href=\"#glyph2-1\" y=\"76.352783\"/>\n</g>\n<g style=\"fill:rgb(0%,0%,0%);fill-opacity:1;\">\n  <use x=\"11.48775\" xlink:href=\"#glyph2-2\" y=\"76.352783\"/>\n</g>\n<g style=\"fill:rgb(0%,0%,0%);fill-opacity:1;\">\n  <use x=\"16.49355\" xlink:href=\"#glyph2-3\" y=\"76.352783\"/>\n</g>\n<g style=\"fill:rgb(0%,0%,0%);fill-opacity:1;\">\n  <use x=\"21.49935\" xlink:href=\"#glyph2-4\" y=\"76.352783\"/>\n</g>\n<g style=\"fill:rgb(0%,0%,0%);fill-opacity:1;\">\n  <use x=\"26.50515\" xlink:href=\"#glyph2-5\" y=\"76.352783\"/>\n</g>\n<g style=\"fill:rgb(0%,0%,0%);fill-opacity:1;\">\n  <use x=\"29.00535\" xlink:href=\"#glyph2-6\" y=\"76.352783\"/>\n</g>\n<g style=\"fill:rgb(0%,0%,0%);fill-opacity:1;\">\n  <use x=\"31.50555\" xlink:href=\"#glyph2-7\" y=\"76.352783\"/>\n</g>\n<g style=\"fill:rgb(0%,0%,0%);fill-opacity:1;\">\n  <use x=\"33.50535\" xlink:href=\"#glyph2-8\" y=\"76.352783\"/>\n</g>\n<g style=\"fill:rgb(0%,0%,0%);fill-opacity:1;\">\n  <use x=\"38.51115\" xlink:href=\"#glyph2-9\" y=\"76.352783\"/>\n  <use x=\"43.01115\" xlink:href=\"#glyph2-10\" y=\"76.352783\"/>\n</g>\n<g style=\"fill:rgb(0%,0%,0%);fill-opacity:1;\">\n  <use x=\"48.01695\" xlink:href=\"#glyph2-11\" y=\"76.352783\"/>\n</g>\n<g style=\"fill:rgb(0%,0%,0%);fill-opacity:1;\">\n  <use x=\"5.4873\" xlink:href=\"#glyph2-12\" y=\"16.102783\"/>\n</g>\n<g style=\"fill:rgb(0%,0%,0%);fill-opacity:1;\">\n  <use x=\"12.4875\" xlink:href=\"#glyph2-4\" y=\"16.102783\"/>\n</g>\n<g style=\"fill:rgb(0%,0%,0%);fill-opacity:1;\">\n  <use x=\"17.4933\" xlink:href=\"#glyph2-5\" y=\"16.102783\"/>\n</g>\n<g style=\"fill:rgb(0%,0%,0%);fill-opacity:1;\">\n  <use x=\"19.9935\" xlink:href=\"#glyph2-3\" y=\"16.102783\"/>\n</g>\n<g style=\"fill:rgb(0%,0%,0%);fill-opacity:1;\">\n  <use x=\"24.9993\" xlink:href=\"#glyph2-4\" y=\"16.102783\"/>\n</g>\n<g style=\"fill:rgb(0%,0%,0%);fill-opacity:1;\">\n  <use x=\"30.0051\" xlink:href=\"#glyph2-5\" y=\"16.102783\"/>\n</g>\n<g style=\"fill:rgb(0%,0%,0%);fill-opacity:1;\">\n  <use x=\"32.5053\" xlink:href=\"#glyph2-6\" y=\"16.102783\"/>\n</g>\n<g style=\"fill:rgb(0%,0%,0%);fill-opacity:1;\">\n  <use x=\"35.0055\" xlink:href=\"#glyph2-7\" y=\"16.102783\"/>\n</g>\n<g style=\"fill:rgb(0%,0%,0%);fill-opacity:1;\">\n  <use x=\"37.0053\" xlink:href=\"#glyph2-8\" y=\"16.102783\"/>\n</g>\n<g style=\"fill:rgb(0%,0%,0%);fill-opacity:1;\">\n  <use x=\"42.0111\" xlink:href=\"#glyph2-9\" y=\"16.102783\"/>\n  <use x=\"46.5111\" xlink:href=\"#glyph2-10\" y=\"16.102783\"/>\n</g>\n<g style=\"fill:rgb(0%,0%,0%);fill-opacity:1;\">\n  <use x=\"51.5169\" xlink:href=\"#glyph2-11\" y=\"16.102783\"/>\n</g>\n<path d=\"M 282.640625 138.484375 C 287.621094 143.464844 287.621094 151.535156 282.640625 156.515625 C 277.660156 161.496094 269.589844 161.496094 264.609375 156.515625 C 259.628906 151.535156 259.628906 143.464844 264.609375 138.484375 C 269.589844 133.503906 277.660156 133.503906 282.640625 138.484375 \" style=\"fill-rule:nonzero;fill:rgb(69.804382%,85.098267%,100%);fill-opacity:1;stroke-width:1;stroke-linecap:round;stroke-linejoin:round;stroke:rgb(0%,0%,0%);stroke-opacity:1;stroke-miterlimit:10;\" transform=\"matrix(1,0,0,1,-24,-74)\"/>\n<g style=\"fill:rgb(0%,0%,0%);fill-opacity:1;\">\n  <use x=\"245.428467\" xlink:href=\"#glyph0-1\" y=\"75.885498\"/>\n</g>\n<g style=\"fill:rgb(0%,0%,0%);fill-opacity:1;\">\n  <use x=\"249.928467\" xlink:href=\"#glyph1-3\" y=\"77.885498\"/>\n</g>\n<path d=\"M 202.640625 78.234375 C 207.621094 83.214844 207.621094 91.285156 202.640625 96.265625 C 197.660156 101.246094 189.589844 101.246094 184.609375 96.265625 C 179.628906 91.285156 179.628906 83.214844 184.609375 78.234375 C 189.589844 73.253906 197.660156 73.253906 202.640625 78.234375 \" style=\"fill-rule:nonzero;fill:rgb(39.99939%,74.902344%,100%);fill-opacity:1;stroke-width:1;stroke-linecap:round;stroke-linejoin:round;stroke:rgb(0%,0%,0%);stroke-opacity:1;stroke-miterlimit:10;\" transform=\"matrix(1,0,0,1,-24,-74)\"/>\n<g style=\"fill:rgb(0%,0%,0%);fill-opacity:1;\">\n  <use x=\"165.175781\" xlink:href=\"#glyph0-2\" y=\"15.635498\"/>\n</g>\n<g style=\"fill:rgb(0%,0%,0%);fill-opacity:1;\">\n  <use x=\"170.181152\" xlink:href=\"#glyph1-1\" y=\"17.635498\"/>\n</g>\n<path d=\"M 125.074219 140.433594 L 178.890625 98.683594 \" style=\"fill:none;stroke-width:1;stroke-linecap:round;stroke-linejoin:round;stroke:rgb(0%,0%,0%);stroke-opacity:1;stroke-miterlimit:10;\" transform=\"matrix(1,0,0,1,-24,-74)\"/>\n<path d=\"M 182.050781 96.230469 L 178.890625 98.683594 M 177.96875 97.496094 L 182.050781 96.230469 L 179.808594 99.867188 \" style=\"fill:none;stroke-width:1;stroke-linecap:butt;stroke-linejoin:miter;stroke:rgb(0%,0%,0%);stroke-opacity:1;stroke-miterlimit:10;\" transform=\"matrix(1,0,0,1,-24,-74)\"/>\n<path d=\"M 172.835938 136.5 L 186.371094 104.433594 \" style=\"fill:none;stroke-width:1;stroke-linecap:round;stroke-linejoin:round;stroke:rgb(0%,0%,0%);stroke-opacity:1;stroke-miterlimit:10;\" transform=\"matrix(1,0,0,1,-24,-74)\"/>\n<path d=\"M 187.925781 100.75 L 186.371094 104.433594 M 184.988281 103.851562 L 187.925781 100.75 L 187.753906 105.019531 \" style=\"fill:none;stroke-width:1;stroke-linecap:butt;stroke-linejoin:miter;stroke:rgb(0%,0%,0%);stroke-opacity:1;stroke-miterlimit:10;\" transform=\"matrix(1,0,0,1,-24,-74)\"/>\n<path d=\"M 263.4375 139.828125 L 208.523438 98.472656 \" style=\"fill:none;stroke-width:1;stroke-linecap:round;stroke-linejoin:round;stroke:rgb(0%,0%,0%);stroke-opacity:1;stroke-miterlimit:10;\" transform=\"matrix(1,0,0,1,-24,-74)\"/>\n<path d=\"M 205.328125 96.0625 L 208.523438 98.472656 M 207.621094 99.667969 L 205.328125 96.0625 L 209.425781 97.273438 \" style=\"fill:none;stroke-width:1;stroke-linecap:butt;stroke-linejoin:miter;stroke:rgb(0%,0%,0%);stroke-opacity:1;stroke-miterlimit:10;\" transform=\"matrix(1,0,0,1,-24,-74)\"/>\n<g style=\"fill:rgb(0%,0%,0%);fill-opacity:1;\">\n  <use x=\"188.75\" xlink:href=\"#glyph3-1\" y=\"74.776001\"/>\n</g>\n</g>\n</svg>"
          },
          "metadata": {},
          "execution_count": 49
        }
      ]
    },
    {
      "cell_type": "code",
      "source": [
        "from IPython.display import SVG\n",
        "SVG(filename='img/Neuron.svg')"
      ],
      "metadata": {
        "colab": {
          "base_uri": "https://localhost:8080/",
          "height": 236
        },
        "id": "HEL5dtgrqBEO",
        "outputId": "c0e4c9b8-504a-4a85-d4f5-e91faedef190"
      },
      "execution_count": 50,
      "outputs": [
        {
          "output_type": "execute_result",
          "data": {
            "text/plain": [
              "<IPython.core.display.SVG object>"
            ],
            "image/svg+xml": "<svg enable-background=\"new 0 0 399.821 214.98\" height=\"214.98\" id=\"Layer_1\" inkscape:version=\"0.44.1\" overflow=\"visible\" sodipodi:docbase=\"c:\\temp\" sodipodi:docname=\"Neuron.svg\" sodipodi:version=\"0.32\" version=\"1.1\" viewBox=\"0 0 399.821 214.98\" width=\"399.821\" xml:space=\"preserve\" xmlns=\"http://www.w3.org/2000/svg\" xmlns:cc=\"http://web.resource.org/cc/\" xmlns:dc=\"http://purl.org/dc/elements/1.1/\" xmlns:inkscape=\"http://www.inkscape.org/namespaces/inkscape\" xmlns:rdf=\"http://www.w3.org/1999/02/22-rdf-syntax-ns#\" xmlns:sodipodi=\"http://sodipodi.sourceforge.net/DTD/sodipodi-0.dtd\" xmlns:svg=\"http://www.w3.org/2000/svg\"><metadata id=\"metadata78\"><rdf:RDF><cc:Work rdf:about=\"\"><dc:format>image/svg+xml</dc:format><dc:type rdf:resource=\"http://purl.org/dc/dcmitype/StillImage\"/></cc:Work></rdf:RDF></metadata><defs id=\"defs76\"/><sodipodi:namedview bordercolor=\"#666666\" borderopacity=\"1.0\" gridtolerance=\"10.0\" guidetolerance=\"10.0\" id=\"base\" inkscape:current-layer=\"Layer_1\" inkscape:cx=\"199.91051\" inkscape:cy=\"151.14076\" inkscape:pageopacity=\"0.0\" inkscape:pageshadow=\"2\" inkscape:window-height=\"1031\" inkscape:window-width=\"1920\" inkscape:window-x=\"-4\" inkscape:window-y=\"-4\" inkscape:zoom=\"1.8327287\" objecttolerance=\"10.0\" pagecolor=\"#ffffff\"/>\n<path d=\"M126.833,132.089c3.606-1.491,1-6.333,1-6.333s-26.333-5-21-24s5.333-19,5.333-19  s6.333-4.668,11.667-8.334s3.667-4.999-0.667-3.666c-0.667-1.334,2.333-4.667,2.667-5.333c0.333-0.668,6-13.001-5.333,3.666  c0,1-9.667,12-4-7.666c0,0,7.333-35.334-1-9.668c0,0-2,6.334-4,2c0,0,4,13.335-8.333,46.001c-3-2.667-5-5.334-5-5.334  c-1-1.666-1.667-5.666,3-14.333s7.333-14,7.333-14s4.333-8.334-1-2.334c0,0,0.333-18.999-3,4.334c0,0-2.666,4.001-4.333,5.667  c0,0,4.667-11-1-8.333c0,0-3-7-2.667,1c0.333,7.999,2,9.667,1,14.333s-2.667,2.666-3-1.334s-10,0.334,5.333,24.667  c0,0,5.333,25.333-14.333,7.333c0,0-24.667-19.667,7-43c-4,3-5.667,6.335-5,2.334s0-3.667,0-3.667s-3.667,7.001-6,8.667  s-11.667,4.667,9-18.667c-4,3-11.333,8.667-4-7.667c-7,11-11.333,23.667-15.333,12.667c0,0,4.333,46.332-6,16.333  c0,0-3.667-6,5-35.667c-3,6.667-5.667,16-5-3.333c0,0-3,1-2.333,22.333c0,0-9.333,21.334-7.333-7c0,0,3-12.666,3.333-15  s-1.667,0.667-2.333,2s-0.667-5-0.667-5s-2,3-2.333,7s-3.333-3-4.333-4.667s6.666,11,1.333,21.666c0,0-7.666-12.666-8.333-9  c-0.667,3.667,16,23.668,16.333,25.001s10,11-2,9.333c-4-0.333-6.333-2.667-8.333-6s-6.333-10-6.333-10l-9.667-11L31.5,43.755  l-1.333,3.667l-2.333-2.333l2,4.667l0.333,6.333l-2.333,1c0,0,28,28.334,5.333,17.667c0,0-8.334,2.334,10.333,7  c0,0,1.333,7.666,17.333,8.666c0,0,12,13.001,15,25.334c0,0,3.333,26.667-12,6c0,0,3,7.333,1,7.333s-11.667-5.667-13-5.667  s-5.333,2-5.333,2s27,6.666,1.667,7c0,0-18,6.333-11-36c0,0-2.333,12.334-4.333,0.667c0,0-5.333,26.334,0,36.667  c0,0,5,6.332-2.333,6.666c0,0,9-1.334,18-4c0,0-6.667,13.334-10,13.334c0,0,3,0.666-0.333,2.666c0,0,1.333,2.666,5-2  s9-15.999,22-15.666c4.333,1.333,20.333,14.666-4,19.333c-7.333,3-35,13.001-32.667,14.667s16.333-8.334,14-3.334  s-10,19.334-10,19.334s9.333-21.333,7.333-5c1,1.333,25.333-45.333,8,0c0.333,1,4.333-6.001,5,3.333c0,0,0.333-35.332,25.333-24.666  c0.667,9-4.667,21.332-18.667,29.666c14.333-8.333,16.667-12,10,2c3.333-3.333,5-2.999,6,1.334c1.333-15,4-19.666,6.667-22  c2.667,7,3.667,9.999,4,11.666s-1.667-23.667-2-25s13-0.666,13-0.666s10,19.334,5.667,28c2.333-7.334-1.667-22.001,16,3.666  c0,0-12-13.333,7.333-8.333c-6.667-5.333-19-12.666-22.333-18.333s-4-13.333,6.333-6s16.667,10.332,17.667,9.666s-19.667-10,3.333-6  C116.5,151.756,92.167,146.422,126.833,132.089z\" fill=\"#AFA3CF\" id=\"path3\" stroke=\"#000000\"/>\n<path d=\"M85.125,136.589c-0.125-4.5,1.375-5.875,4.125-5.5s5.5,1.625,6.625,2.875s2.75,3.5,3,4.375  s0.375,1.75,0.5,2.625s0.5,1.75,0.125,2.5s-0.875,2.375-1.875,2.5s-1.625,0.375-2.75-0.25s-2.875-1.75-3.625-2.375  s-3.75-3.625-4.375-4.5S85.125,136.589,85.125,136.589z\" fill=\"#5B9974\" id=\"path5\" stroke=\"#000000\"/>\n<path d=\"M127.5,133.339c2.25-4.5,1.625-6,1.125-7.375s17.625-2,30,5c0,0,11.75,4,1.25,11.5  C159.875,142.464,140.375,145.339,127.5,133.339z\" fill=\"#F9D566\" id=\"path7\" stroke=\"#000000\"/>\n<path d=\"M168.375,145.839c0,0-3.625-1.75-2.5-5s2.125-3.25,3.125-3.625s6.75-0.25,7.25-0.25  s19.75,2,22.375,4.25s3.5,5,3.5,6.125s-0.25,4.75-3.75,4.75s-18.375-0.25-19-0.875S170.875,148.464,168.375,145.839z\" fill=\"#F9D566\" id=\"path9\" stroke=\"#000000\"/>\n<path d=\"M214.375,155.089c-6.625-2.125-9.5-4.625-9.25-7.25s0.75-3.625,1.875-4.25  s3.875-1.375,4.625-1.625s22.375-3.375,24.5-2.875s4.75,3,5,4.5s2.625,5-2.75,7.25s-9.375,3.75-13,4  S214.375,155.089,214.375,155.089z\" fill=\"#F9D566\" id=\"path11\" stroke=\"#000000\"/>\n<path d=\"M252.125,145.464c-6.009,0.376-7.875,1.125-7.75-3.375s-0.375-6.125,3.25-7.875  s13.875-8.5,15.5-9.25s6.875-2.375,9.25,0.75s2.125,4.5-0.375,7.25S256.125,145.214,252.125,145.464z\" fill=\"#F9D566\" id=\"path13\" stroke=\"#000000\"/>\n<path d=\"M274,122.839c-2.44-4.532-3.375-7-1.125-10.25s13.125-18.75,13.5-19.25  s4.625-2.375,8.375,0.875s4.5,5.5,1,10.25s-11.625,17.5-14.5,19S275.75,126.089,274,122.839z\" fill=\"#F9D566\" id=\"path15\" stroke=\"#000000\"/>\n<ellipse cx=\"140\" cy=\"130.964\" fill=\"#E68B60\" id=\"ellipse17\" rx=\"3.375\" ry=\"2.125\" stroke=\"#B76328\"/>\n<ellipse cx=\"181.875\" cy=\"144.839\" fill=\"#E68B60\" id=\"ellipse19\" rx=\"3.375\" ry=\"2.125\" stroke=\"#B76328\"/>\n<ellipse cx=\"224.125\" cy=\"147.839\" fill=\"#E68B60\" id=\"ellipse21\" rx=\"3.375\" ry=\"2.125\" stroke=\"#B76328\"/>\n<ellipse cx=\"258.5\" cy=\"134.214\" fill=\"#E68B60\" id=\"ellipse23\" rx=\"3.375\" ry=\"2.125\" stroke=\"#B76328\" transform=\"matrix(0.912 -0.4103 0.4103 0.912 -32.3066 117.8699)\"/>\n<ellipse cx=\"283.625\" cy=\"107.464\" fill=\"#E68B60\" id=\"ellipse25\" rx=\"3.375\" ry=\"2.125\" stroke=\"#B76328\" transform=\"matrix(0.5422 -0.8402 0.8402 0.5422 39.543 287.5071)\"/>\n<path d=\"M164.25,137.089c2.25,0.5,3.75,0.5,3.75,0.5l-2.125,3.25l-4.125-0.125L164.25,137.089z\" fill=\"#AFA3CF\" id=\"path27\" stroke=\"#000000\"/>\n<path d=\"M201.75,145.214l4.125-0.25L205,149.089h-3.125  C201.875,149.089,202.125,145.714,201.75,145.214z\" fill=\"#AFA3CF\" id=\"path29\" stroke=\"#000000\"/>\n<path d=\"M240.25,141.589c0,0,3.375-2.5,3.625-3.125s0.375,5,0.5,5.375s-2.25,0.875-2.25,0.875  L240.25,141.589z\" fill=\"#AFA3CF\" id=\"path31\" stroke=\"#000000\"/>\n<path d=\"M269.625,123.714l2.75-3.875l2.875,4.375l-2,1.875  C273.25,126.089,271.5,123.964,269.625,123.714z\" fill=\"#AFA3CF\" id=\"path33\" stroke=\"#000000\"/>\n<path d=\"M291.167,92.256c0.041-0.09,0.082-0.18,0.123-0.27c3.275-7.251,5.894-14.772,7.21-18.064  c1.333-3.333,1.833-11.166,1.333-12s-2-6.5-5.833-5.333s-2.501,0-3.667,1.833s-3.999,2-4.166,0.333s0.5-2.167,3.333-2.667  s1.333-2.5-0.667-4.333s-7.334-1.833-3.5-4.333s4-2.834,5.5-1.667s-3.167,2,1,4.5s7.166,4,8.5,4.167s2.5,0.333,2.5-1.167  s1.667-3,2.667-3.833s1.5-4.167,1.5-4.167s-3.5-3.166-0.5-2.833s4.5,0.5,3,2.333c0.333,0.5-0.166,2,0.167,2.5S315,47.089,315,47.089  s4.5-0.333,3,2.5c-0.333,0.833-1.5,2-3.5,0.667c-1.833,0.333-3.667-0.333-4.167-0.167s-7.167,3.167-6.5,18.167  c4.5-2.5,17.668-10.334,19.334-11s9.666-9.833,9.833-10.667s-1.666-3.333-1.333-4s3.499-2,4.166-2.167s1.501-2,2.334,0.167  s0.667,2.167,0,2.667s-1.166,0.833-1,1.833s0.333,1.667,0.833,1.5s0.833,0.833,0.833,0.833l-6.666,5.333c0,0,6.167-1.167,7-2  s2.5-1.667,2.833-0.5s0.667,0.834,0,1.667s-1.833,1.666-4,2.333s-3.667,1.333-5,1.5s-3.833,1-3.833,1s-1.333,0.333-4,2.5  s-4.5,3.167-6.167,4.167s-2.833,1.333-4.5,2.5s-4.5,2.5-4.5,2.5s-2.501,0.834-3.167,1.667s-1.832,2.167-2.166,2.667  s-1,2.166-1,2.166l-0.667,3l-2.167,2.5l-0.5,2.334c0,0,4.166,0.5,5,0.5s1.5-0.001,2.667-0.834s1-0.334,2-1.5  s2.167-2.333,2.667-3.333s1.666-2.167,2.666-3s2.333-2.001,3-2.167s3-0.833,3.5-1.333s1.001,0.001,1.334-0.833s1.334-2.5,1.5-3.333  s0.166-1.167,0.833-1.167s1.167-0.333,1.5,0.5s1.001,0.667,0.667,1.833S327,69.922,327,69.922l0.167,0.334c0,0,1.5,0.499,2-0.334  s1.333-1.333,1.333-1.333l1-1.333l0.833-1.5l0.834-0.667l1.5-0.333c0,0,0.5,0,0.833,1.167s0.5,1.667,0.5,2.167s-2,2-2,2  l-0.667,0.667c0,0-1.5,0.332-2,0.666s-2.166,0.834-2.166,0.834l-2.334,0.166l-1.666,0.834l-0.667,0.5v1c0,0,0.667,0.834,1.167,1  s3.5,0,3.5,0l0.666-0.167l-1,1.333l-3.333,0.667c0,0-0.834,0.166-1.667,0.333s-3,0.5-3,0.5s-1.834,0.834-2.5,1.334s-2,0.167-0.833,1  s0.333,1.334,4,1s1.334-0.667,4.667,0.333s4,0.667,6,1.667s-1.334,0.332,4.333,2.166s5.499,1.666,9.333,3s3.333-0.5,4.5,2  s6.667,2.833,1.167,2.5s-4.499-0.333-7.333-1.333s-2.5-1.167-6.667-2.667s-6.667-3.667-2.167,1.5s5.5,5.667,6.167,10.167  s1,14.167,5,14.5s7.501,1.333,5.167,3.333s-6.168,0.668-7.334-1.166s-3.666-3.5-4.166-6s0.334-4.501-0.5-4.834  s-0.834-0.332-1.667,0.334s-0.333-0.834-1.5,1.833s-1.501,3.167-2.167,3.5s-4.166,0.834-4.166-0.833s0.5-2.168,1.333-2.334  s-0.667,1.333,2-1s3.834-4.166,4.167-5.166s2.166-5.5-5.667-11.167s-13.666-9.166-20.833-5.833c2,3,5.667,5.333,5.5,11.333  c0,0.667,2.832,3-0.334,4c-0.5,0.167-3.5,0.333-1.833-4c0-2.167,0.501-3.499-3.833-7.333c0.166,3.666-0.168,7.332,0.166,8.666  s3.168,4.501-0.666,5.834c-2.167-0.5-3.834-1.833-1.334-6c0-3.834-3.999-20.333-14.166-5  C292.333,93.089,291.167,92.256,291.167,92.256z\" fill=\"#AFA3CF\" id=\"path35\" stroke=\"#000000\"/>\n<path d=\"M367.333,131.756\" fill=\"#AFA3CF\" id=\"path37\" stroke=\"#000000\"/>\n<line id=\"line39\" stroke=\"#000000\" x1=\"142.5\" x2=\"111.5\" y1=\"78.089\" y2=\"118.589\"/>\n<line id=\"line41\" stroke=\"#000000\" x1=\"74\" x2=\"75.5\" y1=\"18.589\" y2=\"65.089\"/>\n<line fill=\"none\" id=\"line43\" stroke=\"#000000\" x1=\"89.5\" x2=\"43.5\" y1=\"142.089\" y2=\"200.089\"/>\n<line fill=\"none\" id=\"line45\" stroke=\"#000000\" x1=\"127.5\" x2=\"143\" y1=\"133.339\" y2=\"162.089\"/>\n<line fill=\"none\" id=\"line47\" stroke=\"#000000\" x1=\"227\" x2=\"227.5\" y1=\"155.089\" y2=\"183.589\"/>\n<line fill=\"none\" id=\"line49\" stroke=\"#000000\" x1=\"259.372\" x2=\"304\" y1=\"136.151\" y2=\"159.589\"/>\n<line fill=\"none\" id=\"line51\" stroke=\"#000000\" x1=\"271\" x2=\"255\" y1=\"121.089\" y2=\"69.089\"/>\n<line fill=\"none\" id=\"line53\" stroke=\"#000000\" x1=\"350.333\" x2=\"349\" y1=\"90.922\" y2=\"35.589\"/>\n<text font-family=\"'Verdana'\" font-size=\"14\" id=\"text55\" transform=\"matrix(1 0 0 1 42 12.0889)\">Dendrite</text>\n\n<text font-family=\"'Verdana'\" font-size=\"14\" id=\"text57\" transform=\"matrix(1 0 0 1 138 76.5889)\">Cell body</text>\n\n<text id=\"text59\" transform=\"matrix(1 0 0 1 224.8135 49.5889)\"><tspan font-family=\"'Verdana'\" font-size=\"14\" id=\"tspan61\" x=\"0\" y=\"0\">Node of</tspan><tspan font-family=\"'Verdana'\" font-size=\"14\" id=\"tspan63\" x=\"0.465\" y=\"16.8\">Ranvier</tspan></text>\n\n<text font-family=\"'Verdana'\" font-size=\"14\" id=\"text65\" transform=\"matrix(1 0 0 1 298.1777 26.5889)\">Axon Terminal</text>\n\n<text font-family=\"'Verdana'\" font-size=\"14\" id=\"text67\" transform=\"matrix(1 0 0 1 308 171.5889)\">Schwann cell</text>\n\n<text font-family=\"'Verdana'\" font-size=\"14\" id=\"text69\" transform=\"matrix(1 0 0 1 219.5 198.0889)\">Myelin sheath</text>\n\n<text font-family=\"'Verdana'\" font-size=\"14\" id=\"text71\" transform=\"matrix(1 0 0 1 140 176.0889)\">Axon</text>\n\n<text font-family=\"'Verdana'\" font-size=\"14\" id=\"text73\" transform=\"matrix(1 0 0 1 0 212.0889)\">Nucleus</text>\n\n</svg>"
          },
          "metadata": {},
          "execution_count": 50
        }
      ]
    },
    {
      "cell_type": "code",
      "source": [
        "import torch\n",
        "from time import time\n",
        "\n",
        "a = torch.ones(10000)\n",
        "b = torch.ones(10000)"
      ],
      "metadata": {
        "id": "W7lthWDSqBG6"
      },
      "execution_count": 51,
      "outputs": []
    },
    {
      "cell_type": "code",
      "source": [
        "start = time()\n",
        "c = torch.zeros(10000)\n",
        "for i in range(10000):\n",
        "    c[i] = a[i] + b[i]\n",
        "time() - start"
      ],
      "metadata": {
        "colab": {
          "base_uri": "https://localhost:8080/",
          "height": 0
        },
        "id": "1LRxWmNrqBLN",
        "outputId": "94df0819-a4e4-4a01-8c91-383c7788ac59"
      },
      "execution_count": 52,
      "outputs": [
        {
          "output_type": "execute_result",
          "data": {
            "text/plain": [
              "0.07606124877929688"
            ]
          },
          "metadata": {},
          "execution_count": 52
        }
      ]
    },
    {
      "cell_type": "code",
      "source": [
        "start = time()\n",
        "d = a + b\n",
        "time() - start"
      ],
      "metadata": {
        "colab": {
          "base_uri": "https://localhost:8080/",
          "height": 0
        },
        "id": "KKy2pzmqqBN-",
        "outputId": "bde8495a-645a-4cb6-fc74-685dcf7cd270"
      },
      "execution_count": 53,
      "outputs": [
        {
          "output_type": "execute_result",
          "data": {
            "text/plain": [
              "0.00016736984252929688"
            ]
          },
          "metadata": {},
          "execution_count": 53
        }
      ]
    },
    {
      "cell_type": "code",
      "source": [
        "%matplotlib inline\n",
        "from matplotlib import pyplot as plt\n",
        "from IPython import display\n",
        "import torch\n",
        "import math\n",
        "\n",
        "x = torch.arange(-7, 7, 0.01)\n",
        "# Mean and variance pairs\n",
        "parameters = [(0,1), (0,2), (3,1)]\n",
        "\n",
        "# Display SVG rather than JPG\n",
        "display.set_matplotlib_formats('svg')\n",
        "plt.figure(figsize=(10, 6))\n",
        "for (mu, sigma) in parameters:\n",
        "    p = (1/math.sqrt(2 * math.pi * sigma**2)) * torch.exp(-(0.5/sigma**2) * (x-mu)**2)\n",
        "    plt.plot(x.numpy(), p.numpy(), label='mean ' + str(mu) + ', variance ' + str(sigma))\n",
        "\n",
        "plt.legend()\n",
        "plt.show()"
      ],
      "metadata": {
        "colab": {
          "base_uri": "https://localhost:8080/",
          "height": 498
        },
        "id": "AHSGCPtNqBQe",
        "outputId": "f2cb28af-a414-46fe-9391-809c61130d6b"
      },
      "execution_count": 54,
      "outputs": [
        {
          "output_type": "display_data",
          "data": {
            "text/plain": [
              "<Figure size 720x432 with 1 Axes>"
            ],
            "image/svg+xml": "<?xml version=\"1.0\" encoding=\"utf-8\" standalone=\"no\"?>\n<!DOCTYPE svg PUBLIC \"-//W3C//DTD SVG 1.1//EN\"\n  \"http://www.w3.org/Graphics/SVG/1.1/DTD/svg11.dtd\">\n<!-- Created with matplotlib (https://matplotlib.org/) -->\n<svg height=\"357.238125pt\" version=\"1.1\" viewBox=\"0 0 601.665625 357.238125\" width=\"601.665625pt\" xmlns=\"http://www.w3.org/2000/svg\" xmlns:xlink=\"http://www.w3.org/1999/xlink\">\n <defs>\n  <style type=\"text/css\">\n*{stroke-linecap:butt;stroke-linejoin:round;}\n  </style>\n </defs>\n <g id=\"figure_1\">\n  <g id=\"patch_1\">\n   <path d=\"M 0 357.238125 \nL 601.665625 357.238125 \nL 601.665625 0 \nL 0 0 \nz\n\" style=\"fill:none;\"/>\n  </g>\n  <g id=\"axes_1\">\n   <g id=\"patch_2\">\n    <path d=\"M 36.465625 333.36 \nL 594.465625 333.36 \nL 594.465625 7.2 \nL 36.465625 7.2 \nz\n\" style=\"fill:#ffffff;\"/>\n   </g>\n   <g id=\"matplotlib.axis_1\">\n    <g id=\"xtick_1\">\n     <g id=\"line2d_1\">\n      <defs>\n       <path d=\"M 0 0 \nL 0 3.5 \n\" id=\"mc7d5de3782\" style=\"stroke:#000000;stroke-width:0.8;\"/>\n      </defs>\n      <g>\n       <use style=\"stroke:#000000;stroke-width:0.8;\" x=\"98.088928\" xlink:href=\"#mc7d5de3782\" y=\"333.36\"/>\n      </g>\n     </g>\n     <g id=\"text_1\">\n      <!-- −6 -->\n      <defs>\n       <path d=\"M 10.59375 35.5 \nL 73.1875 35.5 \nL 73.1875 27.203125 \nL 10.59375 27.203125 \nz\n\" id=\"DejaVuSans-8722\"/>\n       <path d=\"M 33.015625 40.375 \nQ 26.375 40.375 22.484375 35.828125 \nQ 18.609375 31.296875 18.609375 23.390625 \nQ 18.609375 15.53125 22.484375 10.953125 \nQ 26.375 6.390625 33.015625 6.390625 \nQ 39.65625 6.390625 43.53125 10.953125 \nQ 47.40625 15.53125 47.40625 23.390625 \nQ 47.40625 31.296875 43.53125 35.828125 \nQ 39.65625 40.375 33.015625 40.375 \nz\nM 52.59375 71.296875 \nL 52.59375 62.3125 \nQ 48.875 64.0625 45.09375 64.984375 \nQ 41.3125 65.921875 37.59375 65.921875 \nQ 27.828125 65.921875 22.671875 59.328125 \nQ 17.53125 52.734375 16.796875 39.40625 \nQ 19.671875 43.65625 24.015625 45.921875 \nQ 28.375 48.1875 33.59375 48.1875 \nQ 44.578125 48.1875 50.953125 41.515625 \nQ 57.328125 34.859375 57.328125 23.390625 \nQ 57.328125 12.15625 50.6875 5.359375 \nQ 44.046875 -1.421875 33.015625 -1.421875 \nQ 20.359375 -1.421875 13.671875 8.265625 \nQ 6.984375 17.96875 6.984375 36.375 \nQ 6.984375 53.65625 15.1875 63.9375 \nQ 23.390625 74.21875 37.203125 74.21875 \nQ 40.921875 74.21875 44.703125 73.484375 \nQ 48.484375 72.75 52.59375 71.296875 \nz\n\" id=\"DejaVuSans-54\"/>\n      </defs>\n      <g transform=\"translate(90.717834 347.958438)scale(0.1 -0.1)\">\n       <use xlink:href=\"#DejaVuSans-8722\"/>\n       <use x=\"83.789062\" xlink:href=\"#DejaVuSans-54\"/>\n      </g>\n     </g>\n    </g>\n    <g id=\"xtick_2\">\n     <g id=\"line2d_2\">\n      <g>\n       <use style=\"stroke:#000000;stroke-width:0.8;\" x=\"170.608261\" xlink:href=\"#mc7d5de3782\" y=\"333.36\"/>\n      </g>\n     </g>\n     <g id=\"text_2\">\n      <!-- −4 -->\n      <defs>\n       <path d=\"M 37.796875 64.3125 \nL 12.890625 25.390625 \nL 37.796875 25.390625 \nz\nM 35.203125 72.90625 \nL 47.609375 72.90625 \nL 47.609375 25.390625 \nL 58.015625 25.390625 \nL 58.015625 17.1875 \nL 47.609375 17.1875 \nL 47.609375 0 \nL 37.796875 0 \nL 37.796875 17.1875 \nL 4.890625 17.1875 \nL 4.890625 26.703125 \nz\n\" id=\"DejaVuSans-52\"/>\n      </defs>\n      <g transform=\"translate(163.237167 347.958438)scale(0.1 -0.1)\">\n       <use xlink:href=\"#DejaVuSans-8722\"/>\n       <use x=\"83.789062\" xlink:href=\"#DejaVuSans-52\"/>\n      </g>\n     </g>\n    </g>\n    <g id=\"xtick_3\">\n     <g id=\"line2d_3\">\n      <g>\n       <use style=\"stroke:#000000;stroke-width:0.8;\" x=\"243.127594\" xlink:href=\"#mc7d5de3782\" y=\"333.36\"/>\n      </g>\n     </g>\n     <g id=\"text_3\">\n      <!-- −2 -->\n      <defs>\n       <path d=\"M 19.1875 8.296875 \nL 53.609375 8.296875 \nL 53.609375 0 \nL 7.328125 0 \nL 7.328125 8.296875 \nQ 12.9375 14.109375 22.625 23.890625 \nQ 32.328125 33.6875 34.8125 36.53125 \nQ 39.546875 41.84375 41.421875 45.53125 \nQ 43.3125 49.21875 43.3125 52.78125 \nQ 43.3125 58.59375 39.234375 62.25 \nQ 35.15625 65.921875 28.609375 65.921875 \nQ 23.96875 65.921875 18.8125 64.3125 \nQ 13.671875 62.703125 7.8125 59.421875 \nL 7.8125 69.390625 \nQ 13.765625 71.78125 18.9375 73 \nQ 24.125 74.21875 28.421875 74.21875 \nQ 39.75 74.21875 46.484375 68.546875 \nQ 53.21875 62.890625 53.21875 53.421875 \nQ 53.21875 48.921875 51.53125 44.890625 \nQ 49.859375 40.875 45.40625 35.40625 \nQ 44.1875 33.984375 37.640625 27.21875 \nQ 31.109375 20.453125 19.1875 8.296875 \nz\n\" id=\"DejaVuSans-50\"/>\n      </defs>\n      <g transform=\"translate(235.756501 347.958438)scale(0.1 -0.1)\">\n       <use xlink:href=\"#DejaVuSans-8722\"/>\n       <use x=\"83.789062\" xlink:href=\"#DejaVuSans-50\"/>\n      </g>\n     </g>\n    </g>\n    <g id=\"xtick_4\">\n     <g id=\"line2d_4\">\n      <g>\n       <use style=\"stroke:#000000;stroke-width:0.8;\" x=\"315.646927\" xlink:href=\"#mc7d5de3782\" y=\"333.36\"/>\n      </g>\n     </g>\n     <g id=\"text_4\">\n      <!-- 0 -->\n      <defs>\n       <path d=\"M 31.78125 66.40625 \nQ 24.171875 66.40625 20.328125 58.90625 \nQ 16.5 51.421875 16.5 36.375 \nQ 16.5 21.390625 20.328125 13.890625 \nQ 24.171875 6.390625 31.78125 6.390625 \nQ 39.453125 6.390625 43.28125 13.890625 \nQ 47.125 21.390625 47.125 36.375 \nQ 47.125 51.421875 43.28125 58.90625 \nQ 39.453125 66.40625 31.78125 66.40625 \nz\nM 31.78125 74.21875 \nQ 44.046875 74.21875 50.515625 64.515625 \nQ 56.984375 54.828125 56.984375 36.375 \nQ 56.984375 17.96875 50.515625 8.265625 \nQ 44.046875 -1.421875 31.78125 -1.421875 \nQ 19.53125 -1.421875 13.0625 8.265625 \nQ 6.59375 17.96875 6.59375 36.375 \nQ 6.59375 54.828125 13.0625 64.515625 \nQ 19.53125 74.21875 31.78125 74.21875 \nz\n\" id=\"DejaVuSans-48\"/>\n      </defs>\n      <g transform=\"translate(312.465677 347.958438)scale(0.1 -0.1)\">\n       <use xlink:href=\"#DejaVuSans-48\"/>\n      </g>\n     </g>\n    </g>\n    <g id=\"xtick_5\">\n     <g id=\"line2d_5\">\n      <g>\n       <use style=\"stroke:#000000;stroke-width:0.8;\" x=\"388.166261\" xlink:href=\"#mc7d5de3782\" y=\"333.36\"/>\n      </g>\n     </g>\n     <g id=\"text_5\">\n      <!-- 2 -->\n      <g transform=\"translate(384.985011 347.958438)scale(0.1 -0.1)\">\n       <use xlink:href=\"#DejaVuSans-50\"/>\n      </g>\n     </g>\n    </g>\n    <g id=\"xtick_6\">\n     <g id=\"line2d_6\">\n      <g>\n       <use style=\"stroke:#000000;stroke-width:0.8;\" x=\"460.685594\" xlink:href=\"#mc7d5de3782\" y=\"333.36\"/>\n      </g>\n     </g>\n     <g id=\"text_6\">\n      <!-- 4 -->\n      <g transform=\"translate(457.504344 347.958438)scale(0.1 -0.1)\">\n       <use xlink:href=\"#DejaVuSans-52\"/>\n      </g>\n     </g>\n    </g>\n    <g id=\"xtick_7\">\n     <g id=\"line2d_7\">\n      <g>\n       <use style=\"stroke:#000000;stroke-width:0.8;\" x=\"533.204927\" xlink:href=\"#mc7d5de3782\" y=\"333.36\"/>\n      </g>\n     </g>\n     <g id=\"text_7\">\n      <!-- 6 -->\n      <g transform=\"translate(530.023677 347.958438)scale(0.1 -0.1)\">\n       <use xlink:href=\"#DejaVuSans-54\"/>\n      </g>\n     </g>\n    </g>\n   </g>\n   <g id=\"matplotlib.axis_2\">\n    <g id=\"ytick_1\">\n     <g id=\"line2d_8\">\n      <defs>\n       <path d=\"M 0 0 \nL -3.5 0 \n\" id=\"ma5ff920c5d\" style=\"stroke:#000000;stroke-width:0.8;\"/>\n      </defs>\n      <g>\n       <use style=\"stroke:#000000;stroke-width:0.8;\" x=\"36.465625\" xlink:href=\"#ma5ff920c5d\" y=\"318.534545\"/>\n      </g>\n     </g>\n     <g id=\"text_8\">\n      <!-- 0.00 -->\n      <defs>\n       <path d=\"M 10.6875 12.40625 \nL 21 12.40625 \nL 21 0 \nL 10.6875 0 \nz\n\" id=\"DejaVuSans-46\"/>\n      </defs>\n      <g transform=\"translate(7.2 322.333764)scale(0.1 -0.1)\">\n       <use xlink:href=\"#DejaVuSans-48\"/>\n       <use x=\"63.623047\" xlink:href=\"#DejaVuSans-46\"/>\n       <use x=\"95.410156\" xlink:href=\"#DejaVuSans-48\"/>\n       <use x=\"159.033203\" xlink:href=\"#DejaVuSans-48\"/>\n      </g>\n     </g>\n    </g>\n    <g id=\"ytick_2\">\n     <g id=\"line2d_9\">\n      <g>\n       <use style=\"stroke:#000000;stroke-width:0.8;\" x=\"36.465625\" xlink:href=\"#ma5ff920c5d\" y=\"281.372643\"/>\n      </g>\n     </g>\n     <g id=\"text_9\">\n      <!-- 0.05 -->\n      <defs>\n       <path d=\"M 10.796875 72.90625 \nL 49.515625 72.90625 \nL 49.515625 64.59375 \nL 19.828125 64.59375 \nL 19.828125 46.734375 \nQ 21.96875 47.46875 24.109375 47.828125 \nQ 26.265625 48.1875 28.421875 48.1875 \nQ 40.625 48.1875 47.75 41.5 \nQ 54.890625 34.8125 54.890625 23.390625 \nQ 54.890625 11.625 47.5625 5.09375 \nQ 40.234375 -1.421875 26.90625 -1.421875 \nQ 22.3125 -1.421875 17.546875 -0.640625 \nQ 12.796875 0.140625 7.71875 1.703125 \nL 7.71875 11.625 \nQ 12.109375 9.234375 16.796875 8.0625 \nQ 21.484375 6.890625 26.703125 6.890625 \nQ 35.15625 6.890625 40.078125 11.328125 \nQ 45.015625 15.765625 45.015625 23.390625 \nQ 45.015625 31 40.078125 35.4375 \nQ 35.15625 39.890625 26.703125 39.890625 \nQ 22.75 39.890625 18.8125 39.015625 \nQ 14.890625 38.140625 10.796875 36.28125 \nz\n\" id=\"DejaVuSans-53\"/>\n      </defs>\n      <g transform=\"translate(7.2 285.171862)scale(0.1 -0.1)\">\n       <use xlink:href=\"#DejaVuSans-48\"/>\n       <use x=\"63.623047\" xlink:href=\"#DejaVuSans-46\"/>\n       <use x=\"95.410156\" xlink:href=\"#DejaVuSans-48\"/>\n       <use x=\"159.033203\" xlink:href=\"#DejaVuSans-53\"/>\n      </g>\n     </g>\n    </g>\n    <g id=\"ytick_3\">\n     <g id=\"line2d_10\">\n      <g>\n       <use style=\"stroke:#000000;stroke-width:0.8;\" x=\"36.465625\" xlink:href=\"#ma5ff920c5d\" y=\"244.21074\"/>\n      </g>\n     </g>\n     <g id=\"text_10\">\n      <!-- 0.10 -->\n      <defs>\n       <path d=\"M 12.40625 8.296875 \nL 28.515625 8.296875 \nL 28.515625 63.921875 \nL 10.984375 60.40625 \nL 10.984375 69.390625 \nL 28.421875 72.90625 \nL 38.28125 72.90625 \nL 38.28125 8.296875 \nL 54.390625 8.296875 \nL 54.390625 0 \nL 12.40625 0 \nz\n\" id=\"DejaVuSans-49\"/>\n      </defs>\n      <g transform=\"translate(7.2 248.009959)scale(0.1 -0.1)\">\n       <use xlink:href=\"#DejaVuSans-48\"/>\n       <use x=\"63.623047\" xlink:href=\"#DejaVuSans-46\"/>\n       <use x=\"95.410156\" xlink:href=\"#DejaVuSans-49\"/>\n       <use x=\"159.033203\" xlink:href=\"#DejaVuSans-48\"/>\n      </g>\n     </g>\n    </g>\n    <g id=\"ytick_4\">\n     <g id=\"line2d_11\">\n      <g>\n       <use style=\"stroke:#000000;stroke-width:0.8;\" x=\"36.465625\" xlink:href=\"#ma5ff920c5d\" y=\"207.048838\"/>\n      </g>\n     </g>\n     <g id=\"text_11\">\n      <!-- 0.15 -->\n      <g transform=\"translate(7.2 210.848057)scale(0.1 -0.1)\">\n       <use xlink:href=\"#DejaVuSans-48\"/>\n       <use x=\"63.623047\" xlink:href=\"#DejaVuSans-46\"/>\n       <use x=\"95.410156\" xlink:href=\"#DejaVuSans-49\"/>\n       <use x=\"159.033203\" xlink:href=\"#DejaVuSans-53\"/>\n      </g>\n     </g>\n    </g>\n    <g id=\"ytick_5\">\n     <g id=\"line2d_12\">\n      <g>\n       <use style=\"stroke:#000000;stroke-width:0.8;\" x=\"36.465625\" xlink:href=\"#ma5ff920c5d\" y=\"169.886935\"/>\n      </g>\n     </g>\n     <g id=\"text_12\">\n      <!-- 0.20 -->\n      <g transform=\"translate(7.2 173.686154)scale(0.1 -0.1)\">\n       <use xlink:href=\"#DejaVuSans-48\"/>\n       <use x=\"63.623047\" xlink:href=\"#DejaVuSans-46\"/>\n       <use x=\"95.410156\" xlink:href=\"#DejaVuSans-50\"/>\n       <use x=\"159.033203\" xlink:href=\"#DejaVuSans-48\"/>\n      </g>\n     </g>\n    </g>\n    <g id=\"ytick_6\">\n     <g id=\"line2d_13\">\n      <g>\n       <use style=\"stroke:#000000;stroke-width:0.8;\" x=\"36.465625\" xlink:href=\"#ma5ff920c5d\" y=\"132.725033\"/>\n      </g>\n     </g>\n     <g id=\"text_13\">\n      <!-- 0.25 -->\n      <g transform=\"translate(7.2 136.524252)scale(0.1 -0.1)\">\n       <use xlink:href=\"#DejaVuSans-48\"/>\n       <use x=\"63.623047\" xlink:href=\"#DejaVuSans-46\"/>\n       <use x=\"95.410156\" xlink:href=\"#DejaVuSans-50\"/>\n       <use x=\"159.033203\" xlink:href=\"#DejaVuSans-53\"/>\n      </g>\n     </g>\n    </g>\n    <g id=\"ytick_7\">\n     <g id=\"line2d_14\">\n      <g>\n       <use style=\"stroke:#000000;stroke-width:0.8;\" x=\"36.465625\" xlink:href=\"#ma5ff920c5d\" y=\"95.563131\"/>\n      </g>\n     </g>\n     <g id=\"text_14\">\n      <!-- 0.30 -->\n      <defs>\n       <path d=\"M 40.578125 39.3125 \nQ 47.65625 37.796875 51.625 33 \nQ 55.609375 28.21875 55.609375 21.1875 \nQ 55.609375 10.40625 48.1875 4.484375 \nQ 40.765625 -1.421875 27.09375 -1.421875 \nQ 22.515625 -1.421875 17.65625 -0.515625 \nQ 12.796875 0.390625 7.625 2.203125 \nL 7.625 11.71875 \nQ 11.71875 9.328125 16.59375 8.109375 \nQ 21.484375 6.890625 26.8125 6.890625 \nQ 36.078125 6.890625 40.9375 10.546875 \nQ 45.796875 14.203125 45.796875 21.1875 \nQ 45.796875 27.640625 41.28125 31.265625 \nQ 36.765625 34.90625 28.71875 34.90625 \nL 20.21875 34.90625 \nL 20.21875 43.015625 \nL 29.109375 43.015625 \nQ 36.375 43.015625 40.234375 45.921875 \nQ 44.09375 48.828125 44.09375 54.296875 \nQ 44.09375 59.90625 40.109375 62.90625 \nQ 36.140625 65.921875 28.71875 65.921875 \nQ 24.65625 65.921875 20.015625 65.03125 \nQ 15.375 64.15625 9.8125 62.3125 \nL 9.8125 71.09375 \nQ 15.4375 72.65625 20.34375 73.4375 \nQ 25.25 74.21875 29.59375 74.21875 \nQ 40.828125 74.21875 47.359375 69.109375 \nQ 53.90625 64.015625 53.90625 55.328125 \nQ 53.90625 49.265625 50.4375 45.09375 \nQ 46.96875 40.921875 40.578125 39.3125 \nz\n\" id=\"DejaVuSans-51\"/>\n      </defs>\n      <g transform=\"translate(7.2 99.362349)scale(0.1 -0.1)\">\n       <use xlink:href=\"#DejaVuSans-48\"/>\n       <use x=\"63.623047\" xlink:href=\"#DejaVuSans-46\"/>\n       <use x=\"95.410156\" xlink:href=\"#DejaVuSans-51\"/>\n       <use x=\"159.033203\" xlink:href=\"#DejaVuSans-48\"/>\n      </g>\n     </g>\n    </g>\n    <g id=\"ytick_8\">\n     <g id=\"line2d_15\">\n      <g>\n       <use style=\"stroke:#000000;stroke-width:0.8;\" x=\"36.465625\" xlink:href=\"#ma5ff920c5d\" y=\"58.401228\"/>\n      </g>\n     </g>\n     <g id=\"text_15\">\n      <!-- 0.35 -->\n      <g transform=\"translate(7.2 62.200447)scale(0.1 -0.1)\">\n       <use xlink:href=\"#DejaVuSans-48\"/>\n       <use x=\"63.623047\" xlink:href=\"#DejaVuSans-46\"/>\n       <use x=\"95.410156\" xlink:href=\"#DejaVuSans-51\"/>\n       <use x=\"159.033203\" xlink:href=\"#DejaVuSans-53\"/>\n      </g>\n     </g>\n    </g>\n    <g id=\"ytick_9\">\n     <g id=\"line2d_16\">\n      <g>\n       <use style=\"stroke:#000000;stroke-width:0.8;\" x=\"36.465625\" xlink:href=\"#ma5ff920c5d\" y=\"21.239326\"/>\n      </g>\n     </g>\n     <g id=\"text_16\">\n      <!-- 0.40 -->\n      <g transform=\"translate(7.2 25.038544)scale(0.1 -0.1)\">\n       <use xlink:href=\"#DejaVuSans-48\"/>\n       <use x=\"63.623047\" xlink:href=\"#DejaVuSans-46\"/>\n       <use x=\"95.410156\" xlink:href=\"#DejaVuSans-52\"/>\n       <use x=\"159.033203\" xlink:href=\"#DejaVuSans-48\"/>\n      </g>\n     </g>\n    </g>\n   </g>\n   <g id=\"line2d_17\">\n    <path clip-path=\"url(#p4d37f75b99)\" d=\"M 61.829261 318.534545 \nL 171.333454 318.426815 \nL 182.573948 318.181928 \nL 189.825883 317.814451 \nL 195.264837 317.336277 \nL 199.978589 316.705073 \nL 203.967157 315.951735 \nL 207.59312 315.037641 \nL 210.856487 313.980446 \nL 213.757266 312.814206 \nL 216.658037 311.395152 \nL 219.196211 309.912887 \nL 221.734394 308.173759 \nL 224.272568 306.144691 \nL 226.810743 303.790668 \nL 228.986321 301.486636 \nL 231.161907 298.893374 \nL 233.337485 295.98696 \nL 235.513063 292.743486 \nL 237.688641 289.139454 \nL 239.864227 285.15217 \nL 242.402402 279.987561 \nL 244.940576 274.241495 \nL 247.478754 267.887652 \nL 250.016933 260.905421 \nL 252.555107 253.281166 \nL 255.093282 245.009377 \nL 257.994056 234.768494 \nL 260.894831 223.71003 \nL 264.158198 210.34575 \nL 267.784166 194.460587 \nL 271.77273 175.93679 \nL 277.211679 149.470466 \nL 287.364389 99.795829 \nL 290.990354 83.230654 \nL 293.891127 70.869325 \nL 296.429303 60.877893 \nL 298.967482 51.793622 \nL 301.143061 44.822173 \nL 302.956043 39.641635 \nL 304.769027 35.072599 \nL 306.582011 31.148089 \nL 308.032397 28.491923 \nL 309.482784 26.279205 \nL 310.93317 24.520389 \nL 312.020961 23.504314 \nL 313.108751 22.751007 \nL 314.196541 22.262551 \nL 315.284331 22.040273 \nL 316.372121 22.084751 \nL 317.459911 22.395851 \nL 318.547701 22.972753 \nL 319.635491 23.81393 \nL 320.723281 24.917055 \nL 321.811071 26.279205 \nL 323.261458 28.491923 \nL 324.711844 31.148089 \nL 326.16223 34.235165 \nL 327.975214 38.677791 \nL 329.788198 43.73885 \nL 331.963777 50.577177 \nL 334.139357 58.184293 \nL 336.677533 67.92957 \nL 339.578308 80.056373 \nL 342.841677 94.717736 \nL 346.830239 113.684571 \nL 354.807369 153.049997 \nL 360.608914 181.08212 \nL 364.597478 199.331564 \nL 368.223441 214.90442 \nL 371.486813 227.950512 \nL 374.387583 238.706249 \nL 377.288358 248.63369 \nL 380.189133 257.717024 \nL 382.727307 264.973182 \nL 385.265486 271.594181 \nL 387.803664 277.597805 \nL 390.341839 283.008079 \nL 392.880013 287.854018 \nL 395.418196 292.16848 \nL 397.95637 295.98696 \nL 400.494544 299.346681 \nL 403.032718 302.285597 \nL 405.570901 304.841641 \nL 408.109076 307.052 \nL 410.64725 308.952624 \nL 413.185433 310.577739 \nL 415.723607 311.959523 \nL 418.624377 313.27903 \nL 421.525157 314.360534 \nL 424.788524 315.338136 \nL 428.414487 316.180752 \nL 432.403055 316.872785 \nL 437.116807 317.450361 \nL 442.555761 317.885934 \nL 449.445099 318.206949 \nL 459.235209 318.417912 \nL 475.914657 318.517572 \nL 539.006468 318.534544 \nL 569.101989 318.534545 \nL 569.101989 318.534545 \n\" style=\"fill:none;stroke:#1f77b4;stroke-linecap:square;stroke-width:1.5;\"/>\n   </g>\n   <g id=\"line2d_18\">\n    <path clip-path=\"url(#p4d37f75b99)\" d=\"M 61.829261 318.21024 \nL 77.783517 317.850868 \nL 90.111792 317.35765 \nL 100.264506 316.733296 \nL 108.966835 315.980494 \nL 116.581366 315.108459 \nL 123.470688 314.10773 \nL 129.997439 312.938105 \nL 136.161585 311.602753 \nL 141.963126 310.111948 \nL 147.402079 308.482955 \nL 152.478428 306.739485 \nL 157.554776 304.761265 \nL 162.268537 302.698034 \nL 166.982298 300.402501 \nL 171.69605 297.861759 \nL 176.409802 295.064366 \nL 181.123563 292.000778 \nL 185.837315 288.663772 \nL 190.551076 285.048854 \nL 195.264837 281.154737 \nL 199.978589 276.98369 \nL 205.054946 272.189325 \nL 210.131295 267.094442 \nL 215.570248 261.324431 \nL 221.371798 254.850708 \nL 227.898532 247.235668 \nL 235.875659 237.576533 \nL 260.169639 207.890498 \nL 265.971184 201.283397 \nL 271.047537 195.82524 \nL 275.761293 191.090076 \nL 280.112454 187.051128 \nL 284.101017 183.663628 \nL 287.726985 180.870231 \nL 291.35295 178.369836 \nL 294.616319 176.384855 \nL 297.879692 174.663385 \nL 301.143061 173.215635 \nL 304.043833 172.165571 \nL 306.944608 171.343598 \nL 309.845381 170.753649 \nL 312.746154 170.398548 \nL 315.646928 170.28 \nL 318.547701 170.398548 \nL 321.448474 170.753649 \nL 324.349248 171.343598 \nL 327.250021 172.165571 \nL 330.150794 173.215635 \nL 333.051567 174.48883 \nL 336.314937 176.180365 \nL 339.578308 178.136617 \nL 342.841677 180.346112 \nL 346.467643 183.082428 \nL 350.09361 186.096066 \nL 354.082172 189.706219 \nL 358.433332 193.962938 \nL 363.147093 198.902802 \nL 368.223441 204.543688 \nL 374.387583 211.742786 \nL 382.364711 221.435579 \nL 404.483112 248.52594 \nL 411.372442 256.497561 \nL 417.536589 263.281785 \nL 422.975542 268.947452 \nL 428.05189 273.936913 \nL 433.128248 278.620403 \nL 438.204596 282.986657 \nL 442.918357 286.751967 \nL 447.632118 290.238257 \nL 452.34587 293.448339 \nL 457.059631 296.38802 \nL 461.773391 299.065653 \nL 466.487135 301.491694 \nL 471.200913 303.67834 \nL 476.277262 305.78089 \nL 481.35361 307.639391 \nL 486.792546 309.381095 \nL 492.231517 310.887512 \nL 498.033058 312.261148 \nL 504.197187 313.486854 \nL 510.723938 314.556142 \nL 517.975864 315.509637 \nL 525.953001 316.322472 \nL 534.655312 316.983807 \nL 544.808027 317.528396 \nL 557.136301 317.955005 \nL 569.101989 318.204519 \nL 569.101989 318.204519 \n\" style=\"fill:none;stroke:#ff7f0e;stroke-linecap:square;stroke-width:1.5;\"/>\n   </g>\n   <g id=\"line2d_19\">\n    <path clip-path=\"url(#p4d37f75b99)\" d=\"M 61.829261 318.534545 \nL 280.112454 318.426815 \nL 291.35295 318.181928 \nL 298.604885 317.814451 \nL 304.043833 317.336277 \nL 308.757591 316.705073 \nL 312.746154 315.951735 \nL 316.372121 315.037641 \nL 319.635491 313.980446 \nL 322.536264 312.814206 \nL 325.437038 311.395152 \nL 327.975214 309.912887 \nL 330.513392 308.173759 \nL 333.051567 306.144691 \nL 335.589742 303.790668 \nL 337.765325 301.486627 \nL 339.940905 298.893374 \nL 342.116485 295.98696 \nL 344.292063 292.743486 \nL 346.467643 289.139454 \nL 348.643223 285.152187 \nL 351.181401 279.987561 \nL 353.719576 274.241495 \nL 356.257754 267.887652 \nL 358.795928 260.905438 \nL 361.334107 253.281166 \nL 363.872286 245.009366 \nL 366.773056 234.768494 \nL 369.673831 223.71003 \nL 372.937198 210.34575 \nL 376.563165 194.460587 \nL 380.551734 175.936756 \nL 385.990678 149.470466 \nL 396.143388 99.795829 \nL 399.769352 83.230654 \nL 402.670122 70.869348 \nL 405.208305 60.877893 \nL 407.746479 51.793622 \nL 409.922057 44.822173 \nL 411.735039 39.641657 \nL 413.548029 35.072599 \nL 415.361011 31.148089 \nL 416.811396 28.491923 \nL 418.261781 26.279205 \nL 419.712166 24.520389 \nL 420.799955 23.504314 \nL 421.887753 22.751007 \nL 422.975542 22.262551 \nL 424.063331 22.040273 \nL 425.15112 22.084751 \nL 426.238909 22.395851 \nL 427.326698 22.972753 \nL 428.414487 23.81393 \nL 429.502276 24.917033 \nL 430.590073 26.279205 \nL 432.040459 28.491923 \nL 433.490844 31.148089 \nL 434.941229 34.235165 \nL 436.754211 38.677791 \nL 438.567192 43.73885 \nL 440.742779 50.577177 \nL 442.918357 58.184293 \nL 445.456531 67.92957 \nL 448.35731 80.056373 \nL 451.620677 94.717736 \nL 455.609237 113.684549 \nL 463.586364 153.049986 \nL 469.387906 181.082086 \nL 473.376491 199.331619 \nL 477.002454 214.904487 \nL 480.265812 227.950512 \nL 483.166583 238.706249 \nL 486.067354 248.633668 \nL 488.968141 257.717052 \nL 491.506324 264.973226 \nL 494.04449 271.594187 \nL 496.582673 277.597827 \nL 499.120838 283.008079 \nL 501.659021 287.854035 \nL 504.197187 292.168469 \nL 506.73537 295.98696 \nL 509.273553 299.346692 \nL 511.811735 302.285615 \nL 514.349901 304.841641 \nL 516.888084 307.052008 \nL 519.42625 308.952624 \nL 521.964432 310.577739 \nL 524.502598 311.959519 \nL 527.403386 313.279032 \nL 530.304156 314.360534 \nL 533.567532 315.338139 \nL 537.193495 316.180754 \nL 541.182046 316.872783 \nL 545.895824 317.450363 \nL 551.33476 317.885934 \nL 558.224099 318.206949 \nL 568.014208 318.417912 \nL 569.101989 318.431023 \nL 569.101989 318.431023 \n\" style=\"fill:none;stroke:#2ca02c;stroke-linecap:square;stroke-width:1.5;\"/>\n   </g>\n   <g id=\"patch_3\">\n    <path d=\"M 36.465625 333.36 \nL 36.465625 7.2 \n\" style=\"fill:none;stroke:#000000;stroke-linecap:square;stroke-linejoin:miter;stroke-width:0.8;\"/>\n   </g>\n   <g id=\"patch_4\">\n    <path d=\"M 594.465625 333.36 \nL 594.465625 7.2 \n\" style=\"fill:none;stroke:#000000;stroke-linecap:square;stroke-linejoin:miter;stroke-width:0.8;\"/>\n   </g>\n   <g id=\"patch_5\">\n    <path d=\"M 36.465625 333.36 \nL 594.465625 333.36 \n\" style=\"fill:none;stroke:#000000;stroke-linecap:square;stroke-linejoin:miter;stroke-width:0.8;\"/>\n   </g>\n   <g id=\"patch_6\">\n    <path d=\"M 36.465625 7.2 \nL 594.465625 7.2 \n\" style=\"fill:none;stroke:#000000;stroke-linecap:square;stroke-linejoin:miter;stroke-width:0.8;\"/>\n   </g>\n   <g id=\"legend_1\">\n    <g id=\"patch_7\">\n     <path d=\"M 458.615625 59.234375 \nL 587.465625 59.234375 \nQ 589.465625 59.234375 589.465625 57.234375 \nL 589.465625 14.2 \nQ 589.465625 12.2 587.465625 12.2 \nL 458.615625 12.2 \nQ 456.615625 12.2 456.615625 14.2 \nL 456.615625 57.234375 \nQ 456.615625 59.234375 458.615625 59.234375 \nz\n\" style=\"fill:#ffffff;opacity:0.8;stroke:#cccccc;stroke-linejoin:miter;\"/>\n    </g>\n    <g id=\"line2d_20\">\n     <path d=\"M 460.615625 20.298437 \nL 480.615625 20.298437 \n\" style=\"fill:none;stroke:#1f77b4;stroke-linecap:square;stroke-width:1.5;\"/>\n    </g>\n    <g id=\"line2d_21\"/>\n    <g id=\"text_17\">\n     <!-- mean 0, variance 1 -->\n     <defs>\n      <path d=\"M 52 44.1875 \nQ 55.375 50.25 60.0625 53.125 \nQ 64.75 56 71.09375 56 \nQ 79.640625 56 84.28125 50.015625 \nQ 88.921875 44.046875 88.921875 33.015625 \nL 88.921875 0 \nL 79.890625 0 \nL 79.890625 32.71875 \nQ 79.890625 40.578125 77.09375 44.375 \nQ 74.3125 48.1875 68.609375 48.1875 \nQ 61.625 48.1875 57.5625 43.546875 \nQ 53.515625 38.921875 53.515625 30.90625 \nL 53.515625 0 \nL 44.484375 0 \nL 44.484375 32.71875 \nQ 44.484375 40.625 41.703125 44.40625 \nQ 38.921875 48.1875 33.109375 48.1875 \nQ 26.21875 48.1875 22.15625 43.53125 \nQ 18.109375 38.875 18.109375 30.90625 \nL 18.109375 0 \nL 9.078125 0 \nL 9.078125 54.6875 \nL 18.109375 54.6875 \nL 18.109375 46.1875 \nQ 21.1875 51.21875 25.484375 53.609375 \nQ 29.78125 56 35.6875 56 \nQ 41.65625 56 45.828125 52.96875 \nQ 50 49.953125 52 44.1875 \nz\n\" id=\"DejaVuSans-109\"/>\n      <path d=\"M 56.203125 29.59375 \nL 56.203125 25.203125 \nL 14.890625 25.203125 \nQ 15.484375 15.921875 20.484375 11.0625 \nQ 25.484375 6.203125 34.421875 6.203125 \nQ 39.59375 6.203125 44.453125 7.46875 \nQ 49.3125 8.734375 54.109375 11.28125 \nL 54.109375 2.78125 \nQ 49.265625 0.734375 44.1875 -0.34375 \nQ 39.109375 -1.421875 33.890625 -1.421875 \nQ 20.796875 -1.421875 13.15625 6.1875 \nQ 5.515625 13.8125 5.515625 26.8125 \nQ 5.515625 40.234375 12.765625 48.109375 \nQ 20.015625 56 32.328125 56 \nQ 43.359375 56 49.78125 48.890625 \nQ 56.203125 41.796875 56.203125 29.59375 \nz\nM 47.21875 32.234375 \nQ 47.125 39.59375 43.09375 43.984375 \nQ 39.0625 48.390625 32.421875 48.390625 \nQ 24.90625 48.390625 20.390625 44.140625 \nQ 15.875 39.890625 15.1875 32.171875 \nz\n\" id=\"DejaVuSans-101\"/>\n      <path d=\"M 34.28125 27.484375 \nQ 23.390625 27.484375 19.1875 25 \nQ 14.984375 22.515625 14.984375 16.5 \nQ 14.984375 11.71875 18.140625 8.90625 \nQ 21.296875 6.109375 26.703125 6.109375 \nQ 34.1875 6.109375 38.703125 11.40625 \nQ 43.21875 16.703125 43.21875 25.484375 \nL 43.21875 27.484375 \nz\nM 52.203125 31.203125 \nL 52.203125 0 \nL 43.21875 0 \nL 43.21875 8.296875 \nQ 40.140625 3.328125 35.546875 0.953125 \nQ 30.953125 -1.421875 24.3125 -1.421875 \nQ 15.921875 -1.421875 10.953125 3.296875 \nQ 6 8.015625 6 15.921875 \nQ 6 25.140625 12.171875 29.828125 \nQ 18.359375 34.515625 30.609375 34.515625 \nL 43.21875 34.515625 \nL 43.21875 35.40625 \nQ 43.21875 41.609375 39.140625 45 \nQ 35.0625 48.390625 27.6875 48.390625 \nQ 23 48.390625 18.546875 47.265625 \nQ 14.109375 46.140625 10.015625 43.890625 \nL 10.015625 52.203125 \nQ 14.9375 54.109375 19.578125 55.046875 \nQ 24.21875 56 28.609375 56 \nQ 40.484375 56 46.34375 49.84375 \nQ 52.203125 43.703125 52.203125 31.203125 \nz\n\" id=\"DejaVuSans-97\"/>\n      <path d=\"M 54.890625 33.015625 \nL 54.890625 0 \nL 45.90625 0 \nL 45.90625 32.71875 \nQ 45.90625 40.484375 42.875 44.328125 \nQ 39.84375 48.1875 33.796875 48.1875 \nQ 26.515625 48.1875 22.3125 43.546875 \nQ 18.109375 38.921875 18.109375 30.90625 \nL 18.109375 0 \nL 9.078125 0 \nL 9.078125 54.6875 \nL 18.109375 54.6875 \nL 18.109375 46.1875 \nQ 21.34375 51.125 25.703125 53.5625 \nQ 30.078125 56 35.796875 56 \nQ 45.21875 56 50.046875 50.171875 \nQ 54.890625 44.34375 54.890625 33.015625 \nz\n\" id=\"DejaVuSans-110\"/>\n      <path id=\"DejaVuSans-32\"/>\n      <path d=\"M 11.71875 12.40625 \nL 22.015625 12.40625 \nL 22.015625 4 \nL 14.015625 -11.625 \nL 7.71875 -11.625 \nL 11.71875 4 \nz\n\" id=\"DejaVuSans-44\"/>\n      <path d=\"M 2.984375 54.6875 \nL 12.5 54.6875 \nL 29.59375 8.796875 \nL 46.6875 54.6875 \nL 56.203125 54.6875 \nL 35.6875 0 \nL 23.484375 0 \nz\n\" id=\"DejaVuSans-118\"/>\n      <path d=\"M 41.109375 46.296875 \nQ 39.59375 47.171875 37.8125 47.578125 \nQ 36.03125 48 33.890625 48 \nQ 26.265625 48 22.1875 43.046875 \nQ 18.109375 38.09375 18.109375 28.8125 \nL 18.109375 0 \nL 9.078125 0 \nL 9.078125 54.6875 \nL 18.109375 54.6875 \nL 18.109375 46.1875 \nQ 20.953125 51.171875 25.484375 53.578125 \nQ 30.03125 56 36.53125 56 \nQ 37.453125 56 38.578125 55.875 \nQ 39.703125 55.765625 41.0625 55.515625 \nz\n\" id=\"DejaVuSans-114\"/>\n      <path d=\"M 9.421875 54.6875 \nL 18.40625 54.6875 \nL 18.40625 0 \nL 9.421875 0 \nz\nM 9.421875 75.984375 \nL 18.40625 75.984375 \nL 18.40625 64.59375 \nL 9.421875 64.59375 \nz\n\" id=\"DejaVuSans-105\"/>\n      <path d=\"M 48.78125 52.59375 \nL 48.78125 44.1875 \nQ 44.96875 46.296875 41.140625 47.34375 \nQ 37.3125 48.390625 33.40625 48.390625 \nQ 24.65625 48.390625 19.8125 42.84375 \nQ 14.984375 37.3125 14.984375 27.296875 \nQ 14.984375 17.28125 19.8125 11.734375 \nQ 24.65625 6.203125 33.40625 6.203125 \nQ 37.3125 6.203125 41.140625 7.25 \nQ 44.96875 8.296875 48.78125 10.40625 \nL 48.78125 2.09375 \nQ 45.015625 0.34375 40.984375 -0.53125 \nQ 36.96875 -1.421875 32.421875 -1.421875 \nQ 20.0625 -1.421875 12.78125 6.34375 \nQ 5.515625 14.109375 5.515625 27.296875 \nQ 5.515625 40.671875 12.859375 48.328125 \nQ 20.21875 56 33.015625 56 \nQ 37.15625 56 41.109375 55.140625 \nQ 45.0625 54.296875 48.78125 52.59375 \nz\n\" id=\"DejaVuSans-99\"/>\n     </defs>\n     <g transform=\"translate(488.615625 23.798437)scale(0.1 -0.1)\">\n      <use xlink:href=\"#DejaVuSans-109\"/>\n      <use x=\"97.412109\" xlink:href=\"#DejaVuSans-101\"/>\n      <use x=\"158.935547\" xlink:href=\"#DejaVuSans-97\"/>\n      <use x=\"220.214844\" xlink:href=\"#DejaVuSans-110\"/>\n      <use x=\"283.59375\" xlink:href=\"#DejaVuSans-32\"/>\n      <use x=\"315.380859\" xlink:href=\"#DejaVuSans-48\"/>\n      <use x=\"379.003906\" xlink:href=\"#DejaVuSans-44\"/>\n      <use x=\"410.791016\" xlink:href=\"#DejaVuSans-32\"/>\n      <use x=\"442.578125\" xlink:href=\"#DejaVuSans-118\"/>\n      <use x=\"501.757812\" xlink:href=\"#DejaVuSans-97\"/>\n      <use x=\"563.037109\" xlink:href=\"#DejaVuSans-114\"/>\n      <use x=\"604.150391\" xlink:href=\"#DejaVuSans-105\"/>\n      <use x=\"631.933594\" xlink:href=\"#DejaVuSans-97\"/>\n      <use x=\"693.212891\" xlink:href=\"#DejaVuSans-110\"/>\n      <use x=\"756.591797\" xlink:href=\"#DejaVuSans-99\"/>\n      <use x=\"811.572266\" xlink:href=\"#DejaVuSans-101\"/>\n      <use x=\"873.095703\" xlink:href=\"#DejaVuSans-32\"/>\n      <use x=\"904.882812\" xlink:href=\"#DejaVuSans-49\"/>\n     </g>\n    </g>\n    <g id=\"line2d_22\">\n     <path d=\"M 460.615625 34.976562 \nL 480.615625 34.976562 \n\" style=\"fill:none;stroke:#ff7f0e;stroke-linecap:square;stroke-width:1.5;\"/>\n    </g>\n    <g id=\"line2d_23\"/>\n    <g id=\"text_18\">\n     <!-- mean 0, variance 2 -->\n     <g transform=\"translate(488.615625 38.476562)scale(0.1 -0.1)\">\n      <use xlink:href=\"#DejaVuSans-109\"/>\n      <use x=\"97.412109\" xlink:href=\"#DejaVuSans-101\"/>\n      <use x=\"158.935547\" xlink:href=\"#DejaVuSans-97\"/>\n      <use x=\"220.214844\" xlink:href=\"#DejaVuSans-110\"/>\n      <use x=\"283.59375\" xlink:href=\"#DejaVuSans-32\"/>\n      <use x=\"315.380859\" xlink:href=\"#DejaVuSans-48\"/>\n      <use x=\"379.003906\" xlink:href=\"#DejaVuSans-44\"/>\n      <use x=\"410.791016\" xlink:href=\"#DejaVuSans-32\"/>\n      <use x=\"442.578125\" xlink:href=\"#DejaVuSans-118\"/>\n      <use x=\"501.757812\" xlink:href=\"#DejaVuSans-97\"/>\n      <use x=\"563.037109\" xlink:href=\"#DejaVuSans-114\"/>\n      <use x=\"604.150391\" xlink:href=\"#DejaVuSans-105\"/>\n      <use x=\"631.933594\" xlink:href=\"#DejaVuSans-97\"/>\n      <use x=\"693.212891\" xlink:href=\"#DejaVuSans-110\"/>\n      <use x=\"756.591797\" xlink:href=\"#DejaVuSans-99\"/>\n      <use x=\"811.572266\" xlink:href=\"#DejaVuSans-101\"/>\n      <use x=\"873.095703\" xlink:href=\"#DejaVuSans-32\"/>\n      <use x=\"904.882812\" xlink:href=\"#DejaVuSans-50\"/>\n     </g>\n    </g>\n    <g id=\"line2d_24\">\n     <path d=\"M 460.615625 49.654687 \nL 480.615625 49.654687 \n\" style=\"fill:none;stroke:#2ca02c;stroke-linecap:square;stroke-width:1.5;\"/>\n    </g>\n    <g id=\"line2d_25\"/>\n    <g id=\"text_19\">\n     <!-- mean 3, variance 1 -->\n     <g transform=\"translate(488.615625 53.154687)scale(0.1 -0.1)\">\n      <use xlink:href=\"#DejaVuSans-109\"/>\n      <use x=\"97.412109\" xlink:href=\"#DejaVuSans-101\"/>\n      <use x=\"158.935547\" xlink:href=\"#DejaVuSans-97\"/>\n      <use x=\"220.214844\" xlink:href=\"#DejaVuSans-110\"/>\n      <use x=\"283.59375\" xlink:href=\"#DejaVuSans-32\"/>\n      <use x=\"315.380859\" xlink:href=\"#DejaVuSans-51\"/>\n      <use x=\"379.003906\" xlink:href=\"#DejaVuSans-44\"/>\n      <use x=\"410.791016\" xlink:href=\"#DejaVuSans-32\"/>\n      <use x=\"442.578125\" xlink:href=\"#DejaVuSans-118\"/>\n      <use x=\"501.757812\" xlink:href=\"#DejaVuSans-97\"/>\n      <use x=\"563.037109\" xlink:href=\"#DejaVuSans-114\"/>\n      <use x=\"604.150391\" xlink:href=\"#DejaVuSans-105\"/>\n      <use x=\"631.933594\" xlink:href=\"#DejaVuSans-97\"/>\n      <use x=\"693.212891\" xlink:href=\"#DejaVuSans-110\"/>\n      <use x=\"756.591797\" xlink:href=\"#DejaVuSans-99\"/>\n      <use x=\"811.572266\" xlink:href=\"#DejaVuSans-101\"/>\n      <use x=\"873.095703\" xlink:href=\"#DejaVuSans-32\"/>\n      <use x=\"904.882812\" xlink:href=\"#DejaVuSans-49\"/>\n     </g>\n    </g>\n   </g>\n  </g>\n </g>\n <defs>\n  <clipPath id=\"p4d37f75b99\">\n   <rect height=\"326.16\" width=\"558\" x=\"36.465625\" y=\"7.2\"/>\n  </clipPath>\n </defs>\n</svg>\n"
          },
          "metadata": {
            "needs_background": "light"
          }
        }
      ]
    },
    {
      "cell_type": "markdown",
      "source": [
        "# 5.5 Image Classification Data (Fashion-MNIST)"
      ],
      "metadata": {
        "id": "sTUQLj7jqfMr"
      }
    },
    {
      "cell_type": "code",
      "source": [
        "# we already clone git\n",
        "# !pip install d2l"
      ],
      "metadata": {
        "id": "_5o9t0BKqBSv"
      },
      "execution_count": 55,
      "outputs": []
    },
    {
      "cell_type": "code",
      "source": [
        "%matplotlib inline\n",
        "import sys\n",
        "sys.path.insert(0, '..')\n",
        "import d2l\n",
        "from IPython import display\n",
        "from matplotlib import pyplot as plt\n",
        "import torch\n",
        "import torchvision\n",
        "from torchvision import transforms\n",
        "from torch.utils.data import DataLoader\n",
        "\n",
        "import time"
      ],
      "metadata": {
        "id": "vwYOLVXMp_rL"
      },
      "execution_count": 56,
      "outputs": []
    },
    {
      "cell_type": "code",
      "source": [
        "trans = transforms.ToTensor()"
      ],
      "metadata": {
        "id": "UFl5ZP1Sp_tY"
      },
      "execution_count": 57,
      "outputs": []
    },
    {
      "cell_type": "code",
      "source": [
        "mnist_train = torchvision.datasets.FashionMNIST(root=\"./\", train=True, transform=trans, target_transform=None, download=True)\n",
        "mnist_test = torchvision.datasets.FashionMNIST(root=\"./\", train=False, transform=trans, target_transform=None, download=True)"
      ],
      "metadata": {
        "id": "SAX2XYuBp_wl"
      },
      "execution_count": 58,
      "outputs": []
    },
    {
      "cell_type": "code",
      "source": [
        "len(mnist_train), len(mnist_test)"
      ],
      "metadata": {
        "colab": {
          "base_uri": "https://localhost:8080/",
          "height": 0
        },
        "id": "0oL-fMrVp_yx",
        "outputId": "d5e0e8ab-0f58-409a-b1fc-4470426f667f"
      },
      "execution_count": 59,
      "outputs": [
        {
          "output_type": "execute_result",
          "data": {
            "text/plain": [
              "(60000, 10000)"
            ]
          },
          "metadata": {},
          "execution_count": 59
        }
      ]
    },
    {
      "cell_type": "code",
      "source": [
        "feature, label = mnist_train[0]"
      ],
      "metadata": {
        "id": "p4XpjMmCp_1o"
      },
      "execution_count": 60,
      "outputs": []
    },
    {
      "cell_type": "code",
      "source": [
        "feature.shape, feature.dtype"
      ],
      "metadata": {
        "colab": {
          "base_uri": "https://localhost:8080/",
          "height": 0
        },
        "id": "AvelTKOdp_30",
        "outputId": "5b6b7c5f-2fa8-4ca8-fc61-ce420a3d0a6f"
      },
      "execution_count": 61,
      "outputs": [
        {
          "output_type": "execute_result",
          "data": {
            "text/plain": [
              "(torch.Size([1, 28, 28]), torch.float32)"
            ]
          },
          "metadata": {},
          "execution_count": 61
        }
      ]
    },
    {
      "cell_type": "code",
      "source": [
        "label, type(label)"
      ],
      "metadata": {
        "colab": {
          "base_uri": "https://localhost:8080/",
          "height": 0
        },
        "id": "LHJNq6O0p_6u",
        "outputId": "5ad32a89-aac3-42c6-bbea-7d4e0c80b41b"
      },
      "execution_count": 62,
      "outputs": [
        {
          "output_type": "execute_result",
          "data": {
            "text/plain": [
              "(9, int)"
            ]
          },
          "metadata": {},
          "execution_count": 62
        }
      ]
    },
    {
      "cell_type": "code",
      "source": [
        "def get_fashion_mnist_labels(labels):\n",
        "    text_labels = ['t-shirt', 'trouser', 'pullover', 'dress', 'coat',\n",
        "                   'sandal', 'shirt', 'sneaker', 'bag', 'ankle boot']\n",
        "    return [text_labels[int(i)] for i in labels]"
      ],
      "metadata": {
        "id": "dRSD9sYUp_9Z"
      },
      "execution_count": 63,
      "outputs": []
    },
    {
      "cell_type": "code",
      "source": [
        "def show_fashion_mnist(images, labels):\n",
        "    display.set_matplotlib_formats('svg')\n",
        "    # Here _ means that we ignore (not use) variables\n",
        "    _, figs = plt.subplots(1, len(images), figsize=(12, 12))\n",
        "    for f, img, lbl in zip(figs, images, labels):\n",
        "        f.imshow(img.reshape((28, 28)).numpy())\n",
        "        f.set_title(lbl)\n",
        "        f.axes.get_xaxis().set_visible(False)\n",
        "        f.axes.get_yaxis().set_visible(False)"
      ],
      "metadata": {
        "id": "G4ZJnSjuqAAO"
      },
      "execution_count": 64,
      "outputs": []
    },
    {
      "cell_type": "code",
      "source": [
        "X=[]\n",
        "y=[]\n",
        "for idx, data in enumerate(mnist_train):\n",
        "    if(idx>=0 and idx<10):\n",
        "        X.append(data[0])\n",
        "        y.append(data[1])\n",
        "    if (idx>=10):\n",
        "        break\n",
        "# X, y = mnist_train[0:9]\n",
        "show_fashion_mnist(X, get_fashion_mnist_labels(y))"
      ],
      "metadata": {
        "colab": {
          "base_uri": "https://localhost:8080/",
          "height": 141
        },
        "id": "iipyZ73uqACc",
        "outputId": "c070e021-c7fb-4176-e7d6-dce8c9870b6a"
      },
      "execution_count": 65,
      "outputs": [
        {
          "output_type": "display_data",
          "data": {
            "text/plain": [
              "<Figure size 864x864 with 10 Axes>"
            ],
            "image/svg+xml": "<?xml version=\"1.0\" encoding=\"utf-8\" standalone=\"no\"?>\n<!DOCTYPE svg PUBLIC \"-//W3C//DTD SVG 1.1//EN\"\n  \"http://www.w3.org/Graphics/SVG/1.1/DTD/svg11.dtd\">\n<!-- Created with matplotlib (https://matplotlib.org/) -->\n<svg height=\"89.763888pt\" version=\"1.1\" viewBox=\"0 0 687.5 89.763888\" width=\"687.5pt\" xmlns=\"http://www.w3.org/2000/svg\" xmlns:xlink=\"http://www.w3.org/1999/xlink\">\n <defs>\n  <style type=\"text/css\">\n*{stroke-linecap:butt;stroke-linejoin:round;}\n  </style>\n </defs>\n <g id=\"figure_1\">\n  <g id=\"patch_1\">\n   <path d=\"M 0 89.763888 \nL 687.5 89.763888 \nL 687.5 -0 \nL 0 -0 \nz\n\" style=\"fill:none;\"/>\n  </g>\n  <g id=\"axes_1\">\n   <g id=\"patch_2\">\n    <path d=\"M 10.7 79.063888 \nL 67.445763 79.063888 \nL 67.445763 22.318125 \nL 10.7 22.318125 \nz\n\" style=\"fill:#ffffff;\"/>\n   </g>\n   <g clip-path=\"url(#p51cf7078dc)\">\n    <image height=\"57\" id=\"imagef0f63e8e3f\" transform=\"scale(1 -1)translate(0 -57)\" width=\"57\" x=\"10.7\" xlink:href=\"data:image/png;base64,\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\" y=\"-22.063888\"/>\n   </g>\n   <g id=\"patch_3\">\n    <path d=\"M 10.7 79.063888 \nL 10.7 22.318125 \n\" style=\"fill:none;stroke:#000000;stroke-linecap:square;stroke-linejoin:miter;stroke-width:0.8;\"/>\n   </g>\n   <g id=\"patch_4\">\n    <path d=\"M 67.445763 79.063888 \nL 67.445763 22.318125 \n\" style=\"fill:none;stroke:#000000;stroke-linecap:square;stroke-linejoin:miter;stroke-width:0.8;\"/>\n   </g>\n   <g id=\"patch_5\">\n    <path d=\"M 10.7 79.063888 \nL 67.445763 79.063888 \n\" style=\"fill:none;stroke:#000000;stroke-linecap:square;stroke-linejoin:miter;stroke-width:0.8;\"/>\n   </g>\n   <g id=\"patch_6\">\n    <path d=\"M 10.7 22.318125 \nL 67.445763 22.318125 \n\" style=\"fill:none;stroke:#000000;stroke-linecap:square;stroke-linejoin:miter;stroke-width:0.8;\"/>\n   </g>\n   <g id=\"text_1\">\n    <!-- ankle boot -->\n    <defs>\n     <path d=\"M 34.28125 27.484375 \nQ 23.390625 27.484375 19.1875 25 \nQ 14.984375 22.515625 14.984375 16.5 \nQ 14.984375 11.71875 18.140625 8.90625 \nQ 21.296875 6.109375 26.703125 6.109375 \nQ 34.1875 6.109375 38.703125 11.40625 \nQ 43.21875 16.703125 43.21875 25.484375 \nL 43.21875 27.484375 \nz\nM 52.203125 31.203125 \nL 52.203125 0 \nL 43.21875 0 \nL 43.21875 8.296875 \nQ 40.140625 3.328125 35.546875 0.953125 \nQ 30.953125 -1.421875 24.3125 -1.421875 \nQ 15.921875 -1.421875 10.953125 3.296875 \nQ 6 8.015625 6 15.921875 \nQ 6 25.140625 12.171875 29.828125 \nQ 18.359375 34.515625 30.609375 34.515625 \nL 43.21875 34.515625 \nL 43.21875 35.40625 \nQ 43.21875 41.609375 39.140625 45 \nQ 35.0625 48.390625 27.6875 48.390625 \nQ 23 48.390625 18.546875 47.265625 \nQ 14.109375 46.140625 10.015625 43.890625 \nL 10.015625 52.203125 \nQ 14.9375 54.109375 19.578125 55.046875 \nQ 24.21875 56 28.609375 56 \nQ 40.484375 56 46.34375 49.84375 \nQ 52.203125 43.703125 52.203125 31.203125 \nz\n\" id=\"DejaVuSans-97\"/>\n     <path d=\"M 54.890625 33.015625 \nL 54.890625 0 \nL 45.90625 0 \nL 45.90625 32.71875 \nQ 45.90625 40.484375 42.875 44.328125 \nQ 39.84375 48.1875 33.796875 48.1875 \nQ 26.515625 48.1875 22.3125 43.546875 \nQ 18.109375 38.921875 18.109375 30.90625 \nL 18.109375 0 \nL 9.078125 0 \nL 9.078125 54.6875 \nL 18.109375 54.6875 \nL 18.109375 46.1875 \nQ 21.34375 51.125 25.703125 53.5625 \nQ 30.078125 56 35.796875 56 \nQ 45.21875 56 50.046875 50.171875 \nQ 54.890625 44.34375 54.890625 33.015625 \nz\n\" id=\"DejaVuSans-110\"/>\n     <path d=\"M 9.078125 75.984375 \nL 18.109375 75.984375 \nL 18.109375 31.109375 \nL 44.921875 54.6875 \nL 56.390625 54.6875 \nL 27.390625 29.109375 \nL 57.625 0 \nL 45.90625 0 \nL 18.109375 26.703125 \nL 18.109375 0 \nL 9.078125 0 \nz\n\" id=\"DejaVuSans-107\"/>\n     <path d=\"M 9.421875 75.984375 \nL 18.40625 75.984375 \nL 18.40625 0 \nL 9.421875 0 \nz\n\" id=\"DejaVuSans-108\"/>\n     <path d=\"M 56.203125 29.59375 \nL 56.203125 25.203125 \nL 14.890625 25.203125 \nQ 15.484375 15.921875 20.484375 11.0625 \nQ 25.484375 6.203125 34.421875 6.203125 \nQ 39.59375 6.203125 44.453125 7.46875 \nQ 49.3125 8.734375 54.109375 11.28125 \nL 54.109375 2.78125 \nQ 49.265625 0.734375 44.1875 -0.34375 \nQ 39.109375 -1.421875 33.890625 -1.421875 \nQ 20.796875 -1.421875 13.15625 6.1875 \nQ 5.515625 13.8125 5.515625 26.8125 \nQ 5.515625 40.234375 12.765625 48.109375 \nQ 20.015625 56 32.328125 56 \nQ 43.359375 56 49.78125 48.890625 \nQ 56.203125 41.796875 56.203125 29.59375 \nz\nM 47.21875 32.234375 \nQ 47.125 39.59375 43.09375 43.984375 \nQ 39.0625 48.390625 32.421875 48.390625 \nQ 24.90625 48.390625 20.390625 44.140625 \nQ 15.875 39.890625 15.1875 32.171875 \nz\n\" id=\"DejaVuSans-101\"/>\n     <path id=\"DejaVuSans-32\"/>\n     <path d=\"M 48.6875 27.296875 \nQ 48.6875 37.203125 44.609375 42.84375 \nQ 40.53125 48.484375 33.40625 48.484375 \nQ 26.265625 48.484375 22.1875 42.84375 \nQ 18.109375 37.203125 18.109375 27.296875 \nQ 18.109375 17.390625 22.1875 11.75 \nQ 26.265625 6.109375 33.40625 6.109375 \nQ 40.53125 6.109375 44.609375 11.75 \nQ 48.6875 17.390625 48.6875 27.296875 \nz\nM 18.109375 46.390625 \nQ 20.953125 51.265625 25.265625 53.625 \nQ 29.59375 56 35.59375 56 \nQ 45.5625 56 51.78125 48.09375 \nQ 58.015625 40.1875 58.015625 27.296875 \nQ 58.015625 14.40625 51.78125 6.484375 \nQ 45.5625 -1.421875 35.59375 -1.421875 \nQ 29.59375 -1.421875 25.265625 0.953125 \nQ 20.953125 3.328125 18.109375 8.203125 \nL 18.109375 0 \nL 9.078125 0 \nL 9.078125 75.984375 \nL 18.109375 75.984375 \nz\n\" id=\"DejaVuSans-98\"/>\n     <path d=\"M 30.609375 48.390625 \nQ 23.390625 48.390625 19.1875 42.75 \nQ 14.984375 37.109375 14.984375 27.296875 \nQ 14.984375 17.484375 19.15625 11.84375 \nQ 23.34375 6.203125 30.609375 6.203125 \nQ 37.796875 6.203125 41.984375 11.859375 \nQ 46.1875 17.53125 46.1875 27.296875 \nQ 46.1875 37.015625 41.984375 42.703125 \nQ 37.796875 48.390625 30.609375 48.390625 \nz\nM 30.609375 56 \nQ 42.328125 56 49.015625 48.375 \nQ 55.71875 40.765625 55.71875 27.296875 \nQ 55.71875 13.875 49.015625 6.21875 \nQ 42.328125 -1.421875 30.609375 -1.421875 \nQ 18.84375 -1.421875 12.171875 6.21875 \nQ 5.515625 13.875 5.515625 27.296875 \nQ 5.515625 40.765625 12.171875 48.375 \nQ 18.84375 56 30.609375 56 \nz\n\" id=\"DejaVuSans-111\"/>\n     <path d=\"M 18.3125 70.21875 \nL 18.3125 54.6875 \nL 36.8125 54.6875 \nL 36.8125 47.703125 \nL 18.3125 47.703125 \nL 18.3125 18.015625 \nQ 18.3125 11.328125 20.140625 9.421875 \nQ 21.96875 7.515625 27.59375 7.515625 \nL 36.8125 7.515625 \nL 36.8125 0 \nL 27.59375 0 \nQ 17.1875 0 13.234375 3.875 \nQ 9.28125 7.765625 9.28125 18.015625 \nL 9.28125 47.703125 \nL 2.6875 47.703125 \nL 2.6875 54.6875 \nL 9.28125 54.6875 \nL 9.28125 70.21875 \nz\n\" id=\"DejaVuSans-116\"/>\n    </defs>\n    <g transform=\"translate(7.349756 16.318125)scale(0.12 -0.12)\">\n     <use xlink:href=\"#DejaVuSans-97\"/>\n     <use x=\"61.279297\" xlink:href=\"#DejaVuSans-110\"/>\n     <use x=\"124.658203\" xlink:href=\"#DejaVuSans-107\"/>\n     <use x=\"182.568359\" xlink:href=\"#DejaVuSans-108\"/>\n     <use x=\"210.351562\" xlink:href=\"#DejaVuSans-101\"/>\n     <use x=\"271.875\" xlink:href=\"#DejaVuSans-32\"/>\n     <use x=\"303.662109\" xlink:href=\"#DejaVuSans-98\"/>\n     <use x=\"367.138672\" xlink:href=\"#DejaVuSans-111\"/>\n     <use x=\"428.320312\" xlink:href=\"#DejaVuSans-111\"/>\n     <use x=\"489.501953\" xlink:href=\"#DejaVuSans-116\"/>\n    </g>\n   </g>\n  </g>\n  <g id=\"axes_2\">\n   <g id=\"patch_7\">\n    <path d=\"M 78.794915 79.063888 \nL 135.540678 79.063888 \nL 135.540678 22.318125 \nL 78.794915 22.318125 \nz\n\" style=\"fill:#ffffff;\"/>\n   </g>\n   <g clip-path=\"url(#pd610fcbf61)\">\n    <image height=\"57\" id=\"image63fbe56ac4\" transform=\"scale(1 -1)translate(0 -57)\" width=\"57\" x=\"78.794915\" xlink:href=\"data:image/png;base64,\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\" y=\"-22.063888\"/>\n   </g>\n   <g id=\"patch_8\">\n    <path d=\"M 78.794915 79.063888 \nL 78.794915 22.318125 \n\" style=\"fill:none;stroke:#000000;stroke-linecap:square;stroke-linejoin:miter;stroke-width:0.8;\"/>\n   </g>\n   <g id=\"patch_9\">\n    <path d=\"M 135.540678 79.063888 \nL 135.540678 22.318125 \n\" style=\"fill:none;stroke:#000000;stroke-linecap:square;stroke-linejoin:miter;stroke-width:0.8;\"/>\n   </g>\n   <g id=\"patch_10\">\n    <path d=\"M 78.794915 79.063888 \nL 135.540678 79.063888 \n\" style=\"fill:none;stroke:#000000;stroke-linecap:square;stroke-linejoin:miter;stroke-width:0.8;\"/>\n   </g>\n   <g id=\"patch_11\">\n    <path d=\"M 78.794915 22.318125 \nL 135.540678 22.318125 \n\" style=\"fill:none;stroke:#000000;stroke-linecap:square;stroke-linejoin:miter;stroke-width:0.8;\"/>\n   </g>\n   <g id=\"text_2\">\n    <!-- t-shirt -->\n    <defs>\n     <path d=\"M 4.890625 31.390625 \nL 31.203125 31.390625 \nL 31.203125 23.390625 \nL 4.890625 23.390625 \nz\n\" id=\"DejaVuSans-45\"/>\n     <path d=\"M 44.28125 53.078125 \nL 44.28125 44.578125 \nQ 40.484375 46.53125 36.375 47.5 \nQ 32.28125 48.484375 27.875 48.484375 \nQ 21.1875 48.484375 17.84375 46.4375 \nQ 14.5 44.390625 14.5 40.28125 \nQ 14.5 37.15625 16.890625 35.375 \nQ 19.28125 33.59375 26.515625 31.984375 \nL 29.59375 31.296875 \nQ 39.15625 29.25 43.1875 25.515625 \nQ 47.21875 21.78125 47.21875 15.09375 \nQ 47.21875 7.46875 41.1875 3.015625 \nQ 35.15625 -1.421875 24.609375 -1.421875 \nQ 20.21875 -1.421875 15.453125 -0.5625 \nQ 10.6875 0.296875 5.421875 2 \nL 5.421875 11.28125 \nQ 10.40625 8.6875 15.234375 7.390625 \nQ 20.0625 6.109375 24.8125 6.109375 \nQ 31.15625 6.109375 34.5625 8.28125 \nQ 37.984375 10.453125 37.984375 14.40625 \nQ 37.984375 18.0625 35.515625 20.015625 \nQ 33.0625 21.96875 24.703125 23.78125 \nL 21.578125 24.515625 \nQ 13.234375 26.265625 9.515625 29.90625 \nQ 5.8125 33.546875 5.8125 39.890625 \nQ 5.8125 47.609375 11.28125 51.796875 \nQ 16.75 56 26.8125 56 \nQ 31.78125 56 36.171875 55.265625 \nQ 40.578125 54.546875 44.28125 53.078125 \nz\n\" id=\"DejaVuSans-115\"/>\n     <path d=\"M 54.890625 33.015625 \nL 54.890625 0 \nL 45.90625 0 \nL 45.90625 32.71875 \nQ 45.90625 40.484375 42.875 44.328125 \nQ 39.84375 48.1875 33.796875 48.1875 \nQ 26.515625 48.1875 22.3125 43.546875 \nQ 18.109375 38.921875 18.109375 30.90625 \nL 18.109375 0 \nL 9.078125 0 \nL 9.078125 75.984375 \nL 18.109375 75.984375 \nL 18.109375 46.1875 \nQ 21.34375 51.125 25.703125 53.5625 \nQ 30.078125 56 35.796875 56 \nQ 45.21875 56 50.046875 50.171875 \nQ 54.890625 44.34375 54.890625 33.015625 \nz\n\" id=\"DejaVuSans-104\"/>\n     <path d=\"M 9.421875 54.6875 \nL 18.40625 54.6875 \nL 18.40625 0 \nL 9.421875 0 \nz\nM 9.421875 75.984375 \nL 18.40625 75.984375 \nL 18.40625 64.59375 \nL 9.421875 64.59375 \nz\n\" id=\"DejaVuSans-105\"/>\n     <path d=\"M 41.109375 46.296875 \nQ 39.59375 47.171875 37.8125 47.578125 \nQ 36.03125 48 33.890625 48 \nQ 26.265625 48 22.1875 43.046875 \nQ 18.109375 38.09375 18.109375 28.8125 \nL 18.109375 0 \nL 9.078125 0 \nL 9.078125 54.6875 \nL 18.109375 54.6875 \nL 18.109375 46.1875 \nQ 20.953125 51.171875 25.484375 53.578125 \nQ 30.03125 56 36.53125 56 \nQ 37.453125 56 38.578125 55.875 \nQ 39.703125 55.765625 41.0625 55.515625 \nz\n\" id=\"DejaVuSans-114\"/>\n    </defs>\n    <g transform=\"translate(89.237172 16.318125)scale(0.12 -0.12)\">\n     <use xlink:href=\"#DejaVuSans-116\"/>\n     <use x=\"39.208984\" xlink:href=\"#DejaVuSans-45\"/>\n     <use x=\"75.292969\" xlink:href=\"#DejaVuSans-115\"/>\n     <use x=\"127.392578\" xlink:href=\"#DejaVuSans-104\"/>\n     <use x=\"190.771484\" xlink:href=\"#DejaVuSans-105\"/>\n     <use x=\"218.554688\" xlink:href=\"#DejaVuSans-114\"/>\n     <use x=\"259.667969\" xlink:href=\"#DejaVuSans-116\"/>\n    </g>\n   </g>\n  </g>\n  <g id=\"axes_3\">\n   <g id=\"patch_12\">\n    <path d=\"M 146.889831 79.063888 \nL 203.635593 79.063888 \nL 203.635593 22.318125 \nL 146.889831 22.318125 \nz\n\" style=\"fill:#ffffff;\"/>\n   </g>\n   <g clip-path=\"url(#p6acc9d3d55)\">\n    <image height=\"57\" id=\"image0f2e452bd0\" transform=\"scale(1 -1)translate(0 -57)\" width=\"57\" x=\"146.889831\" xlink:href=\"data:image/png;base64,\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\" y=\"-22.063888\"/>\n   </g>\n   <g id=\"patch_13\">\n    <path d=\"M 146.889831 79.063888 \nL 146.889831 22.318125 \n\" style=\"fill:none;stroke:#000000;stroke-linecap:square;stroke-linejoin:miter;stroke-width:0.8;\"/>\n   </g>\n   <g id=\"patch_14\">\n    <path d=\"M 203.635593 79.063888 \nL 203.635593 22.318125 \n\" style=\"fill:none;stroke:#000000;stroke-linecap:square;stroke-linejoin:miter;stroke-width:0.8;\"/>\n   </g>\n   <g id=\"patch_15\">\n    <path d=\"M 146.889831 79.063888 \nL 203.635593 79.063888 \n\" style=\"fill:none;stroke:#000000;stroke-linecap:square;stroke-linejoin:miter;stroke-width:0.8;\"/>\n   </g>\n   <g id=\"patch_16\">\n    <path d=\"M 146.889831 22.318125 \nL 203.635593 22.318125 \n\" style=\"fill:none;stroke:#000000;stroke-linecap:square;stroke-linejoin:miter;stroke-width:0.8;\"/>\n   </g>\n   <g id=\"text_3\">\n    <!-- t-shirt -->\n    <g transform=\"translate(157.332087 16.318125)scale(0.12 -0.12)\">\n     <use xlink:href=\"#DejaVuSans-116\"/>\n     <use x=\"39.208984\" xlink:href=\"#DejaVuSans-45\"/>\n     <use x=\"75.292969\" xlink:href=\"#DejaVuSans-115\"/>\n     <use x=\"127.392578\" xlink:href=\"#DejaVuSans-104\"/>\n     <use x=\"190.771484\" xlink:href=\"#DejaVuSans-105\"/>\n     <use x=\"218.554688\" xlink:href=\"#DejaVuSans-114\"/>\n     <use x=\"259.667969\" xlink:href=\"#DejaVuSans-116\"/>\n    </g>\n   </g>\n  </g>\n  <g id=\"axes_4\">\n   <g id=\"patch_17\">\n    <path d=\"M 214.984746 79.063888 \nL 271.730508 79.063888 \nL 271.730508 22.318125 \nL 214.984746 22.318125 \nz\n\" style=\"fill:#ffffff;\"/>\n   </g>\n   <g clip-path=\"url(#pe9443fe86c)\">\n    <image height=\"57\" id=\"image9593a584e3\" transform=\"scale(1 -1)translate(0 -57)\" width=\"57\" x=\"214.984746\" xlink:href=\"data:image/png;base64,\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\" y=\"-22.063888\"/>\n   </g>\n   <g id=\"patch_18\">\n    <path d=\"M 214.984746 79.063888 \nL 214.984746 22.318125 \n\" style=\"fill:none;stroke:#000000;stroke-linecap:square;stroke-linejoin:miter;stroke-width:0.8;\"/>\n   </g>\n   <g id=\"patch_19\">\n    <path d=\"M 271.730508 79.063888 \nL 271.730508 22.318125 \n\" style=\"fill:none;stroke:#000000;stroke-linecap:square;stroke-linejoin:miter;stroke-width:0.8;\"/>\n   </g>\n   <g id=\"patch_20\">\n    <path d=\"M 214.984746 79.063888 \nL 271.730508 79.063888 \n\" style=\"fill:none;stroke:#000000;stroke-linecap:square;stroke-linejoin:miter;stroke-width:0.8;\"/>\n   </g>\n   <g id=\"patch_21\">\n    <path d=\"M 214.984746 22.318125 \nL 271.730508 22.318125 \n\" style=\"fill:none;stroke:#000000;stroke-linecap:square;stroke-linejoin:miter;stroke-width:0.8;\"/>\n   </g>\n   <g id=\"text_4\">\n    <!-- dress -->\n    <defs>\n     <path d=\"M 45.40625 46.390625 \nL 45.40625 75.984375 \nL 54.390625 75.984375 \nL 54.390625 0 \nL 45.40625 0 \nL 45.40625 8.203125 \nQ 42.578125 3.328125 38.25 0.953125 \nQ 33.9375 -1.421875 27.875 -1.421875 \nQ 17.96875 -1.421875 11.734375 6.484375 \nQ 5.515625 14.40625 5.515625 27.296875 \nQ 5.515625 40.1875 11.734375 48.09375 \nQ 17.96875 56 27.875 56 \nQ 33.9375 56 38.25 53.625 \nQ 42.578125 51.265625 45.40625 46.390625 \nz\nM 14.796875 27.296875 \nQ 14.796875 17.390625 18.875 11.75 \nQ 22.953125 6.109375 30.078125 6.109375 \nQ 37.203125 6.109375 41.296875 11.75 \nQ 45.40625 17.390625 45.40625 27.296875 \nQ 45.40625 37.203125 41.296875 42.84375 \nQ 37.203125 48.484375 30.078125 48.484375 \nQ 22.953125 48.484375 18.875 42.84375 \nQ 14.796875 37.203125 14.796875 27.296875 \nz\n\" id=\"DejaVuSans-100\"/>\n    </defs>\n    <g transform=\"translate(227.273877 16.318125)scale(0.12 -0.12)\">\n     <use xlink:href=\"#DejaVuSans-100\"/>\n     <use x=\"63.476562\" xlink:href=\"#DejaVuSans-114\"/>\n     <use x=\"102.339844\" xlink:href=\"#DejaVuSans-101\"/>\n     <use x=\"163.863281\" xlink:href=\"#DejaVuSans-115\"/>\n     <use x=\"215.962891\" xlink:href=\"#DejaVuSans-115\"/>\n    </g>\n   </g>\n  </g>\n  <g id=\"axes_5\">\n   <g id=\"patch_22\">\n    <path d=\"M 283.079661 79.063888 \nL 339.825424 79.063888 \nL 339.825424 22.318125 \nL 283.079661 22.318125 \nz\n\" style=\"fill:#ffffff;\"/>\n   </g>\n   <g clip-path=\"url(#p92e2ea8039)\">\n    <image height=\"57\" id=\"image78caaba09f\" transform=\"scale(1 -1)translate(0 -57)\" width=\"57\" x=\"283.079661\" xlink:href=\"data:image/png;base64,\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\" y=\"-22.063888\"/>\n   </g>\n   <g id=\"patch_23\">\n    <path d=\"M 283.079661 79.063888 \nL 283.079661 22.318125 \n\" style=\"fill:none;stroke:#000000;stroke-linecap:square;stroke-linejoin:miter;stroke-width:0.8;\"/>\n   </g>\n   <g id=\"patch_24\">\n    <path d=\"M 339.825424 79.063888 \nL 339.825424 22.318125 \n\" style=\"fill:none;stroke:#000000;stroke-linecap:square;stroke-linejoin:miter;stroke-width:0.8;\"/>\n   </g>\n   <g id=\"patch_25\">\n    <path d=\"M 283.079661 79.063888 \nL 339.825424 79.063888 \n\" style=\"fill:none;stroke:#000000;stroke-linecap:square;stroke-linejoin:miter;stroke-width:0.8;\"/>\n   </g>\n   <g id=\"patch_26\">\n    <path d=\"M 283.079661 22.318125 \nL 339.825424 22.318125 \n\" style=\"fill:none;stroke:#000000;stroke-linecap:square;stroke-linejoin:miter;stroke-width:0.8;\"/>\n   </g>\n   <g id=\"text_5\">\n    <!-- t-shirt -->\n    <g transform=\"translate(293.521917 16.318125)scale(0.12 -0.12)\">\n     <use xlink:href=\"#DejaVuSans-116\"/>\n     <use x=\"39.208984\" xlink:href=\"#DejaVuSans-45\"/>\n     <use x=\"75.292969\" xlink:href=\"#DejaVuSans-115\"/>\n     <use x=\"127.392578\" xlink:href=\"#DejaVuSans-104\"/>\n     <use x=\"190.771484\" xlink:href=\"#DejaVuSans-105\"/>\n     <use x=\"218.554688\" xlink:href=\"#DejaVuSans-114\"/>\n     <use x=\"259.667969\" xlink:href=\"#DejaVuSans-116\"/>\n    </g>\n   </g>\n  </g>\n  <g id=\"axes_6\">\n   <g id=\"patch_27\">\n    <path d=\"M 351.174576 79.063888 \nL 407.920339 79.063888 \nL 407.920339 22.318125 \nL 351.174576 22.318125 \nz\n\" style=\"fill:#ffffff;\"/>\n   </g>\n   <g clip-path=\"url(#pd50928f7c0)\">\n    <image height=\"57\" id=\"imageefb28accde\" transform=\"scale(1 -1)translate(0 -57)\" width=\"57\" x=\"351.174576\" xlink:href=\"data:image/png;base64,\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\" y=\"-22.063888\"/>\n   </g>\n   <g id=\"patch_28\">\n    <path d=\"M 351.174576 79.063888 \nL 351.174576 22.318125 \n\" style=\"fill:none;stroke:#000000;stroke-linecap:square;stroke-linejoin:miter;stroke-width:0.8;\"/>\n   </g>\n   <g id=\"patch_29\">\n    <path d=\"M 407.920339 79.063888 \nL 407.920339 22.318125 \n\" style=\"fill:none;stroke:#000000;stroke-linecap:square;stroke-linejoin:miter;stroke-width:0.8;\"/>\n   </g>\n   <g id=\"patch_30\">\n    <path d=\"M 351.174576 79.063888 \nL 407.920339 79.063888 \n\" style=\"fill:none;stroke:#000000;stroke-linecap:square;stroke-linejoin:miter;stroke-width:0.8;\"/>\n   </g>\n   <g id=\"patch_31\">\n    <path d=\"M 351.174576 22.318125 \nL 407.920339 22.318125 \n\" style=\"fill:none;stroke:#000000;stroke-linecap:square;stroke-linejoin:miter;stroke-width:0.8;\"/>\n   </g>\n   <g id=\"text_6\">\n    <!-- pullover -->\n    <defs>\n     <path d=\"M 18.109375 8.203125 \nL 18.109375 -20.796875 \nL 9.078125 -20.796875 \nL 9.078125 54.6875 \nL 18.109375 54.6875 \nL 18.109375 46.390625 \nQ 20.953125 51.265625 25.265625 53.625 \nQ 29.59375 56 35.59375 56 \nQ 45.5625 56 51.78125 48.09375 \nQ 58.015625 40.1875 58.015625 27.296875 \nQ 58.015625 14.40625 51.78125 6.484375 \nQ 45.5625 -1.421875 35.59375 -1.421875 \nQ 29.59375 -1.421875 25.265625 0.953125 \nQ 20.953125 3.328125 18.109375 8.203125 \nz\nM 48.6875 27.296875 \nQ 48.6875 37.203125 44.609375 42.84375 \nQ 40.53125 48.484375 33.40625 48.484375 \nQ 26.265625 48.484375 22.1875 42.84375 \nQ 18.109375 37.203125 18.109375 27.296875 \nQ 18.109375 17.390625 22.1875 11.75 \nQ 26.265625 6.109375 33.40625 6.109375 \nQ 40.53125 6.109375 44.609375 11.75 \nQ 48.6875 17.390625 48.6875 27.296875 \nz\n\" id=\"DejaVuSans-112\"/>\n     <path d=\"M 8.5 21.578125 \nL 8.5 54.6875 \nL 17.484375 54.6875 \nL 17.484375 21.921875 \nQ 17.484375 14.15625 20.5 10.265625 \nQ 23.53125 6.390625 29.59375 6.390625 \nQ 36.859375 6.390625 41.078125 11.03125 \nQ 45.3125 15.671875 45.3125 23.6875 \nL 45.3125 54.6875 \nL 54.296875 54.6875 \nL 54.296875 0 \nL 45.3125 0 \nL 45.3125 8.40625 \nQ 42.046875 3.421875 37.71875 1 \nQ 33.40625 -1.421875 27.6875 -1.421875 \nQ 18.265625 -1.421875 13.375 4.4375 \nQ 8.5 10.296875 8.5 21.578125 \nz\nM 31.109375 56 \nz\n\" id=\"DejaVuSans-117\"/>\n     <path d=\"M 2.984375 54.6875 \nL 12.5 54.6875 \nL 29.59375 8.796875 \nL 46.6875 54.6875 \nL 56.203125 54.6875 \nL 35.6875 0 \nL 23.484375 0 \nz\n\" id=\"DejaVuSans-118\"/>\n    </defs>\n    <g transform=\"translate(355.221208 16.318125)scale(0.12 -0.12)\">\n     <use xlink:href=\"#DejaVuSans-112\"/>\n     <use x=\"63.476562\" xlink:href=\"#DejaVuSans-117\"/>\n     <use x=\"126.855469\" xlink:href=\"#DejaVuSans-108\"/>\n     <use x=\"154.638672\" xlink:href=\"#DejaVuSans-108\"/>\n     <use x=\"182.421875\" xlink:href=\"#DejaVuSans-111\"/>\n     <use x=\"243.603516\" xlink:href=\"#DejaVuSans-118\"/>\n     <use x=\"302.783203\" xlink:href=\"#DejaVuSans-101\"/>\n     <use x=\"364.306641\" xlink:href=\"#DejaVuSans-114\"/>\n    </g>\n   </g>\n  </g>\n  <g id=\"axes_7\">\n   <g id=\"patch_32\">\n    <path d=\"M 419.269492 79.063888 \nL 476.015254 79.063888 \nL 476.015254 22.318125 \nL 419.269492 22.318125 \nz\n\" style=\"fill:#ffffff;\"/>\n   </g>\n   <g clip-path=\"url(#pb37cd22a96)\">\n    <image height=\"57\" id=\"imaged78785713d\" transform=\"scale(1 -1)translate(0 -57)\" width=\"57\" x=\"419.269492\" xlink:href=\"data:image/png;base64,\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\" y=\"-22.063888\"/>\n   </g>\n   <g id=\"patch_33\">\n    <path d=\"M 419.269492 79.063888 \nL 419.269492 22.318125 \n\" style=\"fill:none;stroke:#000000;stroke-linecap:square;stroke-linejoin:miter;stroke-width:0.8;\"/>\n   </g>\n   <g id=\"patch_34\">\n    <path d=\"M 476.015254 79.063888 \nL 476.015254 22.318125 \n\" style=\"fill:none;stroke:#000000;stroke-linecap:square;stroke-linejoin:miter;stroke-width:0.8;\"/>\n   </g>\n   <g id=\"patch_35\">\n    <path d=\"M 419.269492 79.063888 \nL 476.015254 79.063888 \n\" style=\"fill:none;stroke:#000000;stroke-linecap:square;stroke-linejoin:miter;stroke-width:0.8;\"/>\n   </g>\n   <g id=\"patch_36\">\n    <path d=\"M 419.269492 22.318125 \nL 476.015254 22.318125 \n\" style=\"fill:none;stroke:#000000;stroke-linecap:square;stroke-linejoin:miter;stroke-width:0.8;\"/>\n   </g>\n   <g id=\"text_7\">\n    <!-- sneaker -->\n    <g transform=\"translate(423.930185 16.318125)scale(0.12 -0.12)\">\n     <use xlink:href=\"#DejaVuSans-115\"/>\n     <use x=\"52.099609\" xlink:href=\"#DejaVuSans-110\"/>\n     <use x=\"115.478516\" xlink:href=\"#DejaVuSans-101\"/>\n     <use x=\"177.001953\" xlink:href=\"#DejaVuSans-97\"/>\n     <use x=\"238.28125\" xlink:href=\"#DejaVuSans-107\"/>\n     <use x=\"292.566406\" xlink:href=\"#DejaVuSans-101\"/>\n     <use x=\"354.089844\" xlink:href=\"#DejaVuSans-114\"/>\n    </g>\n   </g>\n  </g>\n  <g id=\"axes_8\">\n   <g id=\"patch_37\">\n    <path d=\"M 487.364407 79.063888 \nL 544.110169 79.063888 \nL 544.110169 22.318125 \nL 487.364407 22.318125 \nz\n\" style=\"fill:#ffffff;\"/>\n   </g>\n   <g clip-path=\"url(#p012126e142)\">\n    <image height=\"57\" id=\"imagea38aa66303\" transform=\"scale(1 -1)translate(0 -57)\" width=\"57\" x=\"487.364407\" xlink:href=\"data:image/png;base64,\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\" y=\"-22.063888\"/>\n   </g>\n   <g id=\"patch_38\">\n    <path d=\"M 487.364407 79.063888 \nL 487.364407 22.318125 \n\" style=\"fill:none;stroke:#000000;stroke-linecap:square;stroke-linejoin:miter;stroke-width:0.8;\"/>\n   </g>\n   <g id=\"patch_39\">\n    <path d=\"M 544.110169 79.063888 \nL 544.110169 22.318125 \n\" style=\"fill:none;stroke:#000000;stroke-linecap:square;stroke-linejoin:miter;stroke-width:0.8;\"/>\n   </g>\n   <g id=\"patch_40\">\n    <path d=\"M 487.364407 79.063888 \nL 544.110169 79.063888 \n\" style=\"fill:none;stroke:#000000;stroke-linecap:square;stroke-linejoin:miter;stroke-width:0.8;\"/>\n   </g>\n   <g id=\"patch_41\">\n    <path d=\"M 487.364407 22.318125 \nL 544.110169 22.318125 \n\" style=\"fill:none;stroke:#000000;stroke-linecap:square;stroke-linejoin:miter;stroke-width:0.8;\"/>\n   </g>\n   <g id=\"text_8\">\n    <!-- pullover -->\n    <g transform=\"translate(491.411038 16.318125)scale(0.12 -0.12)\">\n     <use xlink:href=\"#DejaVuSans-112\"/>\n     <use x=\"63.476562\" xlink:href=\"#DejaVuSans-117\"/>\n     <use x=\"126.855469\" xlink:href=\"#DejaVuSans-108\"/>\n     <use x=\"154.638672\" xlink:href=\"#DejaVuSans-108\"/>\n     <use x=\"182.421875\" xlink:href=\"#DejaVuSans-111\"/>\n     <use x=\"243.603516\" xlink:href=\"#DejaVuSans-118\"/>\n     <use x=\"302.783203\" xlink:href=\"#DejaVuSans-101\"/>\n     <use x=\"364.306641\" xlink:href=\"#DejaVuSans-114\"/>\n    </g>\n   </g>\n  </g>\n  <g id=\"axes_9\">\n   <g id=\"patch_42\">\n    <path d=\"M 555.459322 79.063888 \nL 612.205085 79.063888 \nL 612.205085 22.318125 \nL 555.459322 22.318125 \nz\n\" style=\"fill:#ffffff;\"/>\n   </g>\n   <g clip-path=\"url(#p3a92e71ccc)\">\n    <image height=\"57\" id=\"image4631f07b8c\" transform=\"scale(1 -1)translate(0 -57)\" width=\"57\" x=\"555.459322\" xlink:href=\"data:image/png;base64,\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\" y=\"-22.063888\"/>\n   </g>\n   <g id=\"patch_43\">\n    <path d=\"M 555.459322 79.063888 \nL 555.459322 22.318125 \n\" style=\"fill:none;stroke:#000000;stroke-linecap:square;stroke-linejoin:miter;stroke-width:0.8;\"/>\n   </g>\n   <g id=\"patch_44\">\n    <path d=\"M 612.205085 79.063888 \nL 612.205085 22.318125 \n\" style=\"fill:none;stroke:#000000;stroke-linecap:square;stroke-linejoin:miter;stroke-width:0.8;\"/>\n   </g>\n   <g id=\"patch_45\">\n    <path d=\"M 555.459322 79.063888 \nL 612.205085 79.063888 \n\" style=\"fill:none;stroke:#000000;stroke-linecap:square;stroke-linejoin:miter;stroke-width:0.8;\"/>\n   </g>\n   <g id=\"patch_46\">\n    <path d=\"M 555.459322 22.318125 \nL 612.205085 22.318125 \n\" style=\"fill:none;stroke:#000000;stroke-linecap:square;stroke-linejoin:miter;stroke-width:0.8;\"/>\n   </g>\n   <g id=\"text_9\">\n    <!-- sandal -->\n    <g transform=\"translate(564.074391 16.318125)scale(0.12 -0.12)\">\n     <use xlink:href=\"#DejaVuSans-115\"/>\n     <use x=\"52.099609\" xlink:href=\"#DejaVuSans-97\"/>\n     <use x=\"113.378906\" xlink:href=\"#DejaVuSans-110\"/>\n     <use x=\"176.757812\" xlink:href=\"#DejaVuSans-100\"/>\n     <use x=\"240.234375\" xlink:href=\"#DejaVuSans-97\"/>\n     <use x=\"301.513672\" xlink:href=\"#DejaVuSans-108\"/>\n    </g>\n   </g>\n  </g>\n  <g id=\"axes_10\">\n   <g id=\"patch_47\">\n    <path d=\"M 623.554237 79.063888 \nL 680.3 79.063888 \nL 680.3 22.318125 \nL 623.554237 22.318125 \nz\n\" style=\"fill:#ffffff;\"/>\n   </g>\n   <g clip-path=\"url(#p051ecc345c)\">\n    <image height=\"57\" id=\"image02935f784c\" transform=\"scale(1 -1)translate(0 -57)\" width=\"57\" x=\"623.554237\" xlink:href=\"data:image/png;base64,\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\" y=\"-22.063888\"/>\n   </g>\n   <g id=\"patch_48\">\n    <path d=\"M 623.554237 79.063888 \nL 623.554237 22.318125 \n\" style=\"fill:none;stroke:#000000;stroke-linecap:square;stroke-linejoin:miter;stroke-width:0.8;\"/>\n   </g>\n   <g id=\"patch_49\">\n    <path d=\"M 680.3 79.063888 \nL 680.3 22.318125 \n\" style=\"fill:none;stroke:#000000;stroke-linecap:square;stroke-linejoin:miter;stroke-width:0.8;\"/>\n   </g>\n   <g id=\"patch_50\">\n    <path d=\"M 623.554237 79.063888 \nL 680.3 79.063888 \n\" style=\"fill:none;stroke:#000000;stroke-linecap:square;stroke-linejoin:miter;stroke-width:0.8;\"/>\n   </g>\n   <g id=\"patch_51\">\n    <path d=\"M 623.554237 22.318125 \nL 680.3 22.318125 \n\" style=\"fill:none;stroke:#000000;stroke-linecap:square;stroke-linejoin:miter;stroke-width:0.8;\"/>\n   </g>\n   <g id=\"text_10\">\n    <!-- sandal -->\n    <g transform=\"translate(632.169306 16.318125)scale(0.12 -0.12)\">\n     <use xlink:href=\"#DejaVuSans-115\"/>\n     <use x=\"52.099609\" xlink:href=\"#DejaVuSans-97\"/>\n     <use x=\"113.378906\" xlink:href=\"#DejaVuSans-110\"/>\n     <use x=\"176.757812\" xlink:href=\"#DejaVuSans-100\"/>\n     <use x=\"240.234375\" xlink:href=\"#DejaVuSans-97\"/>\n     <use x=\"301.513672\" xlink:href=\"#DejaVuSans-108\"/>\n    </g>\n   </g>\n  </g>\n </g>\n <defs>\n  <clipPath id=\"p51cf7078dc\">\n   <rect height=\"56.745763\" width=\"56.745763\" x=\"10.7\" y=\"22.318125\"/>\n  </clipPath>\n  <clipPath id=\"pd610fcbf61\">\n   <rect height=\"56.745763\" width=\"56.745763\" x=\"78.794915\" y=\"22.318125\"/>\n  </clipPath>\n  <clipPath id=\"p6acc9d3d55\">\n   <rect height=\"56.745763\" width=\"56.745763\" x=\"146.889831\" y=\"22.318125\"/>\n  </clipPath>\n  <clipPath id=\"pe9443fe86c\">\n   <rect height=\"56.745763\" width=\"56.745763\" x=\"214.984746\" y=\"22.318125\"/>\n  </clipPath>\n  <clipPath id=\"p92e2ea8039\">\n   <rect height=\"56.745763\" width=\"56.745763\" x=\"283.079661\" y=\"22.318125\"/>\n  </clipPath>\n  <clipPath id=\"pd50928f7c0\">\n   <rect height=\"56.745763\" width=\"56.745763\" x=\"351.174576\" y=\"22.318125\"/>\n  </clipPath>\n  <clipPath id=\"pb37cd22a96\">\n   <rect height=\"56.745763\" width=\"56.745763\" x=\"419.269492\" y=\"22.318125\"/>\n  </clipPath>\n  <clipPath id=\"p012126e142\">\n   <rect height=\"56.745763\" width=\"56.745763\" x=\"487.364407\" y=\"22.318125\"/>\n  </clipPath>\n  <clipPath id=\"p3a92e71ccc\">\n   <rect height=\"56.745763\" width=\"56.745763\" x=\"555.459322\" y=\"22.318125\"/>\n  </clipPath>\n  <clipPath id=\"p051ecc345c\">\n   <rect height=\"56.745763\" width=\"56.745763\" x=\"623.554237\" y=\"22.318125\"/>\n  </clipPath>\n </defs>\n</svg>\n"
          },
          "metadata": {
            "needs_background": "light"
          }
        }
      ]
    },
    {
      "cell_type": "code",
      "source": [
        "batch_size = 256\n",
        "if sys.platform.startswith('win'):\n",
        "    # set 0 for windows\n",
        "    # 0 means no additional processes are needed to speed up the reading of data\n",
        "    num_workers = 0\n",
        "else:\n",
        "    num_workers = 4\n",
        "\n",
        "train_iter = DataLoader(mnist_train, batch_size, shuffle=True, num_workers=num_workers)\n",
        "test_iter = DataLoader(mnist_test, batch_size, shuffle=False, num_workers=num_workers)"
      ],
      "metadata": {
        "colab": {
          "base_uri": "https://localhost:8080/",
          "height": 0
        },
        "id": "hKQfzrJ1qAFi",
        "outputId": "307d7ce1-4d78-457d-f4eb-1655f472b85c"
      },
      "execution_count": 66,
      "outputs": [
        {
          "output_type": "stream",
          "name": "stderr",
          "text": [
            "/usr/local/lib/python3.7/dist-packages/torch/utils/data/dataloader.py:566: UserWarning: This DataLoader will create 4 worker processes in total. Our suggested max number of worker in current system is 2, which is smaller than what this DataLoader is going to create. Please be aware that excessive worker creation might get DataLoader running slow or even freeze, lower the worker number to avoid potential slowness/freeze if necessary.\n",
            "  cpuset_checked))\n"
          ]
        }
      ]
    },
    {
      "cell_type": "code",
      "source": [
        "start = time.time()\n",
        "for X, y in train_iter:\n",
        "    continue\n",
        "'%.2f sec' % (time.time() - start)"
      ],
      "metadata": {
        "colab": {
          "base_uri": "https://localhost:8080/",
          "height": 35
        },
        "id": "GBKBQIWtqwHR",
        "outputId": "5d0ad4b9-6720-48b2-a938-4d750973b0a4"
      },
      "execution_count": 67,
      "outputs": [
        {
          "output_type": "execute_result",
          "data": {
            "text/plain": [
              "'4.48 sec'"
            ],
            "application/vnd.google.colaboratory.intrinsic+json": {
              "type": "string"
            }
          },
          "metadata": {},
          "execution_count": 67
        }
      ]
    },
    {
      "cell_type": "code",
      "source": [
        "batch_size = 256\n",
        "record = []\n",
        "\n",
        "for workers in [1, 2]:\n",
        "    train_iter = DataLoader(mnist_train, batch_size, shuffle=True, num_workers=num_workers)\n",
        "    \n",
        "    start = time.time()\n",
        "    for x, y in train_iter: continue\n",
        "    record.append(time.time()-start)\n",
        "\n",
        "print(f'workers: 1 time: {record[0]:.3f}\\nworkers: 2 time: {record[1]:.3f}')"
      ],
      "metadata": {
        "colab": {
          "base_uri": "https://localhost:8080/",
          "height": 0
        },
        "id": "7ldkct9EqwJt",
        "outputId": "231bbe0c-7f1a-459c-bd7b-fcb450ac95e6"
      },
      "execution_count": 68,
      "outputs": [
        {
          "output_type": "stream",
          "name": "stdout",
          "text": [
            "workers: 1 time: 4.509\n",
            "workers: 2 time: 4.426\n"
          ]
        }
      ]
    },
    {
      "cell_type": "markdown",
      "source": [
        "# 5.6 Implementation of Softmax Regression from Scratch"
      ],
      "metadata": {
        "id": "KDzbihkhM5v8"
      }
    },
    {
      "cell_type": "code",
      "source": [
        "import sys\n",
        "sys.path.insert(0, '..')\n",
        "\n",
        "%matplotlib inline\n",
        "import d2l\n",
        "import torch\n",
        "from torch.distributions import normal"
      ],
      "metadata": {
        "id": "ZPFUS4djqwMj"
      },
      "execution_count": 69,
      "outputs": []
    },
    {
      "cell_type": "code",
      "source": [
        "batch_size = 256\n",
        "train_iter, test_iter = d2l.load_data_fashion_mnist(batch_size)"
      ],
      "metadata": {
        "colab": {
          "base_uri": "https://localhost:8080/",
          "height": 423,
          "referenced_widgets": [
            "0f747da0ba9945ed9549502ab939d72b",
            "0b188be7333d4426a3051f8060f4ac4f",
            "c9f0c3777a81464f95949aa52473ace3",
            "3886c93b146b42f186621f06927a816b",
            "215715ec14004c0da5755a6ce39c657b",
            "213fcafc73504e3e86b5c2b0e7f8c1cc",
            "3a9b4e12821e43d89e595206db22d772",
            "cb16a1ace2644c8584cd4d3ddc2b20c1",
            "a0a5e9bb06fc4d3f8087ad8344fe3917",
            "9deda2bdf28444248fe0c8af3304ac7e",
            "a9f0992bad4c40dd92a48ad82aba7401",
            "bddb1a44bf4f46adae97451423956281",
            "ad02e6a8d56d400880c6453f2033b0af",
            "4a795f3753664f7cb0684502773766ba",
            "cfb2fb983b2744288ceb7665ea2a04e0",
            "a6076bec7a1c4d90b532f74b07d29534",
            "0e553f1d1f654a1ea1763aed3156a30d",
            "2a85001836fb4dc09745342a5ab62530",
            "2f04a1b2305447d3a1bc0911adb814dd",
            "38ca146ddb6a4b42b4ca057ba76fe690",
            "5abe03aafe854a15882f5f683718d73c",
            "a2695d8024bd4be0a3f6ff3875591a69",
            "ebe34d16db204caaa17a16588aadb09d",
            "66f7255c8f3048a886c311c492aa1f7b",
            "00775fa379244dbdbf8e9f4b60d6be07",
            "824e0ab411024b4badb63a9174043aa5",
            "7ae98d1789fc4090a09a0b33c9d80e31",
            "bf0d2f5fa50844d8b2ba81dc9c62fefb",
            "0e9af7167ec24148b45d9ffebbc48167",
            "dfcd0ca3bb9542e3aa20bd2ce8a2fe76",
            "2ff73b9ef97640a296c350727cd48f52",
            "3b0d2dc1a2b04825b03f6a1a6d5c0d5f",
            "26c1e25c3dbe46f8ad8fabe7d78972f6",
            "a4733370fd97420fb35311e46934e297",
            "445ee223a3704b09aaf35673ad772ec8",
            "f9c77f61389a4357be25ea8efcdfb062",
            "299d30cddc7743ec9c02f47b292a7910",
            "51e943890e1b4a7d93bcd48e953495b1",
            "ed7da82b82b3410aac46ce26377ea53a",
            "b62d4b3009464953b180180ba117bfaa",
            "e90a9dc0318a405a8775929c75cfa587",
            "a3a9d5b90ba647bcae7f155c57ed8e43",
            "08dd7a49a605413ab77399c886593db0",
            "344bd8b3c02c4011aecf1df360332c83"
          ]
        },
        "id": "PBrrLIlLqwO1",
        "outputId": "bdae9606-8ed4-44da-d6cf-90f37f61cdc9"
      },
      "execution_count": 70,
      "outputs": [
        {
          "output_type": "stream",
          "name": "stdout",
          "text": [
            "Downloading http://fashion-mnist.s3-website.eu-central-1.amazonaws.com/train-images-idx3-ubyte.gz\n",
            "Downloading http://fashion-mnist.s3-website.eu-central-1.amazonaws.com/train-images-idx3-ubyte.gz to /root/.pytorch/datasets/fashion-mnist/FashionMNIST/raw/train-images-idx3-ubyte.gz\n"
          ]
        },
        {
          "output_type": "display_data",
          "data": {
            "text/plain": [
              "  0%|          | 0/26421880 [00:00<?, ?it/s]"
            ],
            "application/vnd.jupyter.widget-view+json": {
              "version_major": 2,
              "version_minor": 0,
              "model_id": "0f747da0ba9945ed9549502ab939d72b"
            }
          },
          "metadata": {}
        },
        {
          "output_type": "stream",
          "name": "stdout",
          "text": [
            "Extracting /root/.pytorch/datasets/fashion-mnist/FashionMNIST/raw/train-images-idx3-ubyte.gz to /root/.pytorch/datasets/fashion-mnist/FashionMNIST/raw\n",
            "\n",
            "Downloading http://fashion-mnist.s3-website.eu-central-1.amazonaws.com/train-labels-idx1-ubyte.gz\n",
            "Downloading http://fashion-mnist.s3-website.eu-central-1.amazonaws.com/train-labels-idx1-ubyte.gz to /root/.pytorch/datasets/fashion-mnist/FashionMNIST/raw/train-labels-idx1-ubyte.gz\n"
          ]
        },
        {
          "output_type": "display_data",
          "data": {
            "text/plain": [
              "  0%|          | 0/29515 [00:00<?, ?it/s]"
            ],
            "application/vnd.jupyter.widget-view+json": {
              "version_major": 2,
              "version_minor": 0,
              "model_id": "bddb1a44bf4f46adae97451423956281"
            }
          },
          "metadata": {}
        },
        {
          "output_type": "stream",
          "name": "stdout",
          "text": [
            "Extracting /root/.pytorch/datasets/fashion-mnist/FashionMNIST/raw/train-labels-idx1-ubyte.gz to /root/.pytorch/datasets/fashion-mnist/FashionMNIST/raw\n",
            "\n",
            "Downloading http://fashion-mnist.s3-website.eu-central-1.amazonaws.com/t10k-images-idx3-ubyte.gz\n",
            "Downloading http://fashion-mnist.s3-website.eu-central-1.amazonaws.com/t10k-images-idx3-ubyte.gz to /root/.pytorch/datasets/fashion-mnist/FashionMNIST/raw/t10k-images-idx3-ubyte.gz\n"
          ]
        },
        {
          "output_type": "display_data",
          "data": {
            "text/plain": [
              "  0%|          | 0/4422102 [00:00<?, ?it/s]"
            ],
            "application/vnd.jupyter.widget-view+json": {
              "version_major": 2,
              "version_minor": 0,
              "model_id": "ebe34d16db204caaa17a16588aadb09d"
            }
          },
          "metadata": {}
        },
        {
          "output_type": "stream",
          "name": "stdout",
          "text": [
            "Extracting /root/.pytorch/datasets/fashion-mnist/FashionMNIST/raw/t10k-images-idx3-ubyte.gz to /root/.pytorch/datasets/fashion-mnist/FashionMNIST/raw\n",
            "\n",
            "Downloading http://fashion-mnist.s3-website.eu-central-1.amazonaws.com/t10k-labels-idx1-ubyte.gz\n",
            "Downloading http://fashion-mnist.s3-website.eu-central-1.amazonaws.com/t10k-labels-idx1-ubyte.gz to /root/.pytorch/datasets/fashion-mnist/FashionMNIST/raw/t10k-labels-idx1-ubyte.gz\n"
          ]
        },
        {
          "output_type": "display_data",
          "data": {
            "text/plain": [
              "  0%|          | 0/5148 [00:00<?, ?it/s]"
            ],
            "application/vnd.jupyter.widget-view+json": {
              "version_major": 2,
              "version_minor": 0,
              "model_id": "a4733370fd97420fb35311e46934e297"
            }
          },
          "metadata": {}
        },
        {
          "output_type": "stream",
          "name": "stdout",
          "text": [
            "Extracting /root/.pytorch/datasets/fashion-mnist/FashionMNIST/raw/t10k-labels-idx1-ubyte.gz to /root/.pytorch/datasets/fashion-mnist/FashionMNIST/raw\n",
            "\n"
          ]
        }
      ]
    },
    {
      "cell_type": "code",
      "source": [
        "num_inputs = 784\n",
        "num_outputs = 10\n",
        "\n",
        "W = normal.Normal(loc = 0, scale = 0.01).sample((num_inputs, num_outputs))\n",
        "b = torch.zeros(num_outputs)"
      ],
      "metadata": {
        "id": "Aukm4FW_qwRf"
      },
      "execution_count": 71,
      "outputs": []
    },
    {
      "cell_type": "code",
      "source": [
        "W.requires_grad_(True)\n",
        "b.requires_grad_(True)"
      ],
      "metadata": {
        "colab": {
          "base_uri": "https://localhost:8080/",
          "height": 0
        },
        "id": "1TR95yNaqwUK",
        "outputId": "327e6c8f-9065-48b1-a4b7-c0ffd3d42b91"
      },
      "execution_count": 72,
      "outputs": [
        {
          "output_type": "execute_result",
          "data": {
            "text/plain": [
              "tensor([0., 0., 0., 0., 0., 0., 0., 0., 0., 0.], requires_grad=True)"
            ]
          },
          "metadata": {},
          "execution_count": 72
        }
      ]
    },
    {
      "cell_type": "code",
      "source": [
        "X = torch.tensor([[1, 2, 3], [4, 5, 6]])\n",
        "torch.sum(X, dim=0, keepdim=True), torch.sum(X, dim=1, keepdim=True)"
      ],
      "metadata": {
        "colab": {
          "base_uri": "https://localhost:8080/",
          "height": 0
        },
        "id": "EQKk89TtqwW0",
        "outputId": "6ece90cc-6810-43d7-ee3f-b50e31e0fe40"
      },
      "execution_count": 73,
      "outputs": [
        {
          "output_type": "execute_result",
          "data": {
            "text/plain": [
              "(tensor([[5, 7, 9]]), tensor([[ 6],\n",
              "         [15]]))"
            ]
          },
          "metadata": {},
          "execution_count": 73
        }
      ]
    },
    {
      "cell_type": "code",
      "source": [
        "def softmax(X):\n",
        "    X_exp = torch.exp(X)\n",
        "    partition = torch.sum(X_exp, dim=1, keepdim=True)\n",
        "    return X_exp / partition "
      ],
      "metadata": {
        "id": "p9_qcO_EqwZO"
      },
      "execution_count": 74,
      "outputs": []
    },
    {
      "cell_type": "code",
      "source": [
        "X = normal.Normal(loc = 0, scale = 1).sample((2, 5))\n",
        "X_prob = softmax(X)\n",
        "X_prob, torch.sum(X_prob, dim=1)"
      ],
      "metadata": {
        "colab": {
          "base_uri": "https://localhost:8080/",
          "height": 0
        },
        "id": "dUb1aFs_qwb6",
        "outputId": "33f49de8-b5bb-42ee-f3a8-7746e6ac4f95"
      },
      "execution_count": 75,
      "outputs": [
        {
          "output_type": "execute_result",
          "data": {
            "text/plain": [
              "(tensor([[0.4796, 0.2814, 0.1318, 0.0443, 0.0630],\n",
              "         [0.1633, 0.0811, 0.2659, 0.4336, 0.0562]]), tensor([1., 1.]))"
            ]
          },
          "metadata": {},
          "execution_count": 75
        }
      ]
    },
    {
      "cell_type": "code",
      "source": [
        "def net(X):\n",
        "    return softmax(torch.matmul(X.reshape((-1, num_inputs)), W) + b)"
      ],
      "metadata": {
        "id": "ikeH-mrEqweU"
      },
      "execution_count": 76,
      "outputs": []
    },
    {
      "cell_type": "code",
      "source": [
        "y_hat = torch.tensor([[0.1, 0.3, 0.6], [0.3, 0.2, 0.5]])\n",
        "y = torch.tensor([0, 2])\n",
        "torch.gather(y_hat, 1, y.unsqueeze(dim=1))"
      ],
      "metadata": {
        "id": "Gd3Wja_-qwgr",
        "colab": {
          "base_uri": "https://localhost:8080/",
          "height": 0
        },
        "outputId": "dfe676ca-9f97-439d-9757-9cb0b89ae757"
      },
      "execution_count": 77,
      "outputs": [
        {
          "output_type": "execute_result",
          "data": {
            "text/plain": [
              "tensor([[0.1000],\n",
              "        [0.5000]])"
            ]
          },
          "metadata": {},
          "execution_count": 77
        }
      ]
    },
    {
      "cell_type": "code",
      "source": [
        "def cross_entropy(y_hat, y):\n",
        "    return -torch.gather(y_hat, 1, y.unsqueeze(dim=1)).log()"
      ],
      "metadata": {
        "id": "OIqsOtNaqwjo"
      },
      "execution_count": 78,
      "outputs": []
    },
    {
      "cell_type": "code",
      "source": [
        "def accuracy(y_hat, y):\n",
        "    return (y_hat.argmax(dim=1) == y).float().mean().item()"
      ],
      "metadata": {
        "id": "Otw89ew0NIQC"
      },
      "execution_count": 79,
      "outputs": []
    },
    {
      "cell_type": "code",
      "source": [
        "accuracy(y_hat, y)"
      ],
      "metadata": {
        "colab": {
          "base_uri": "https://localhost:8080/",
          "height": 0
        },
        "id": "FrS8jtGaNIXZ",
        "outputId": "7e19a753-4cce-4b2f-b65a-e93c768c6afa"
      },
      "execution_count": 80,
      "outputs": [
        {
          "output_type": "execute_result",
          "data": {
            "text/plain": [
              "0.5"
            ]
          },
          "metadata": {},
          "execution_count": 80
        }
      ]
    },
    {
      "cell_type": "code",
      "source": [
        "def evaluate_accuracy(data_iter, net):\n",
        "    acc_sum, n = 0.0, 0\n",
        "    for X, y in data_iter:\n",
        "        acc_sum += (net(X).argmax(dim=1) == y).sum().item()\n",
        "        n += y.size()[0]\n",
        "    return acc_sum / n"
      ],
      "metadata": {
        "id": "sLb4Vjo-NIae"
      },
      "execution_count": 81,
      "outputs": []
    },
    {
      "cell_type": "code",
      "source": [
        "evaluate_accuracy(test_iter, net)"
      ],
      "metadata": {
        "colab": {
          "base_uri": "https://localhost:8080/",
          "height": 0
        },
        "id": "JiETxfseNIdR",
        "outputId": "cff0e9c4-7b97-4668-8d41-b8f56671ad0a"
      },
      "execution_count": 82,
      "outputs": [
        {
          "output_type": "execute_result",
          "data": {
            "text/plain": [
              "0.0633"
            ]
          },
          "metadata": {},
          "execution_count": 82
        }
      ]
    },
    {
      "cell_type": "code",
      "source": [
        "num_epochs, lr = 5, 0.1\n",
        "\n",
        "def train_ch3(net, train_iter, test_iter, loss, num_epochs, batch_size, params=None, lr=None, trainer=None):\n",
        "    for epoch in range(num_epochs):\n",
        "        train_l_sum, train_acc_sum, n = 0.0, 0.0, 0\n",
        "        for X, y in train_iter:\n",
        "            y_hat = net(X)\n",
        "            l = loss(y_hat, y).sum()\n",
        "            l.backward()\n",
        "            if trainer is None:\n",
        "                d2l.sgd(params, lr, batch_size)\n",
        "            else:\n",
        "                trainer.step(batch_size)\n",
        "            train_l_sum += l.item()\n",
        "            train_acc_sum += (y_hat.argmax(dim=1) == y).sum().item()\n",
        "            n += y.size()[0]\n",
        "        test_acc = evaluate_accuracy(test_iter, net)\n",
        "        print('epoch %d, loss %.4f, train acc %.3f, test acc %.3f' % (epoch + 1, train_l_sum / n, train_acc_sum / n, test_acc))\n",
        "\n",
        "train_ch3(net, train_iter, test_iter, cross_entropy, num_epochs, batch_size, [W, b], lr)"
      ],
      "metadata": {
        "colab": {
          "base_uri": "https://localhost:8080/",
          "height": 0
        },
        "id": "ENoz5-1KNIgY",
        "outputId": "aff46ff4-fbc0-4e54-aa91-8cac44cda05d"
      },
      "execution_count": 83,
      "outputs": [
        {
          "output_type": "stream",
          "name": "stdout",
          "text": [
            "epoch 1, loss 0.7848, train acc 0.749, test acc 0.786\n",
            "epoch 2, loss 0.5718, train acc 0.813, test acc 0.811\n",
            "epoch 3, loss 0.5256, train acc 0.826, test acc 0.812\n",
            "epoch 4, loss 0.5008, train acc 0.832, test acc 0.822\n",
            "epoch 5, loss 0.4856, train acc 0.836, test acc 0.826\n"
          ]
        }
      ]
    },
    {
      "cell_type": "code",
      "source": [
        "for X, y in test_iter:\n",
        "    break\n",
        "\n",
        "true_labels = d2l.get_fashion_mnist_labels(y.numpy())\n",
        "pred_labels = d2l.get_fashion_mnist_labels(net(X).argmax(dim=1).numpy())\n",
        "titles = [truelabel + '\\n' + predlabel for truelabel, predlabel in zip(true_labels, pred_labels)]\n",
        "\n",
        "d2l.show_fashion_mnist(X[10:20], titles[10:20])"
      ],
      "metadata": {
        "colab": {
          "base_uri": "https://localhost:8080/",
          "height": 159
        },
        "id": "QLfd9d7qNIix",
        "outputId": "a065d324-78a9-48bc-e696-32c3176526f7"
      },
      "execution_count": 84,
      "outputs": [
        {
          "output_type": "display_data",
          "data": {
            "text/plain": [
              "<Figure size 864x864 with 10 Axes>"
            ],
            "image/svg+xml": "<?xml version=\"1.0\" encoding=\"utf-8\" standalone=\"no\"?>\n<!DOCTYPE svg PUBLIC \"-//W3C//DTD SVG 1.1//EN\"\n  \"http://www.w3.org/Graphics/SVG/1.1/DTD/svg11.dtd\">\n<!-- Created with matplotlib (https://matplotlib.org/) -->\n<svg height=\"103.201263pt\" version=\"1.1\" viewBox=\"0 0 687.5 103.201263\" width=\"687.5pt\" xmlns=\"http://www.w3.org/2000/svg\" xmlns:xlink=\"http://www.w3.org/1999/xlink\">\n <defs>\n  <style type=\"text/css\">\n*{stroke-linecap:butt;stroke-linejoin:round;}\n  </style>\n </defs>\n <g id=\"figure_1\">\n  <g id=\"patch_1\">\n   <path d=\"M 0 103.201263 \nL 687.5 103.201263 \nL 687.5 -0 \nL 0 -0 \nz\n\" style=\"fill:none;\"/>\n  </g>\n  <g id=\"axes_1\">\n   <g id=\"patch_2\">\n    <path d=\"M 10.7 92.501263 \nL 67.445763 92.501263 \nL 67.445763 35.7555 \nL 10.7 35.7555 \nz\n\" style=\"fill:#ffffff;\"/>\n   </g>\n   <g clip-path=\"url(#pf70b337dd4)\">\n    <image height=\"57\" id=\"image2e1561dc4f\" transform=\"scale(1 -1)translate(0 -57)\" width=\"57\" x=\"10.7\" xlink:href=\"data:image/png;base64,\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\" y=\"-35.501263\"/>\n   </g>\n   <g id=\"patch_3\">\n    <path d=\"M 10.7 92.501263 \nL 10.7 35.7555 \n\" style=\"fill:none;stroke:#000000;stroke-linecap:square;stroke-linejoin:miter;stroke-width:0.8;\"/>\n   </g>\n   <g id=\"patch_4\">\n    <path d=\"M 67.445763 92.501263 \nL 67.445763 35.7555 \n\" style=\"fill:none;stroke:#000000;stroke-linecap:square;stroke-linejoin:miter;stroke-width:0.8;\"/>\n   </g>\n   <g id=\"patch_5\">\n    <path d=\"M 10.7 92.501263 \nL 67.445763 92.501263 \n\" style=\"fill:none;stroke:#000000;stroke-linecap:square;stroke-linejoin:miter;stroke-width:0.8;\"/>\n   </g>\n   <g id=\"patch_6\">\n    <path d=\"M 10.7 35.7555 \nL 67.445763 35.7555 \n\" style=\"fill:none;stroke:#000000;stroke-linecap:square;stroke-linejoin:miter;stroke-width:0.8;\"/>\n   </g>\n   <g id=\"text_1\">\n    <!-- coat -->\n    <defs>\n     <path d=\"M 48.78125 52.59375 \nL 48.78125 44.1875 \nQ 44.96875 46.296875 41.140625 47.34375 \nQ 37.3125 48.390625 33.40625 48.390625 \nQ 24.65625 48.390625 19.8125 42.84375 \nQ 14.984375 37.3125 14.984375 27.296875 \nQ 14.984375 17.28125 19.8125 11.734375 \nQ 24.65625 6.203125 33.40625 6.203125 \nQ 37.3125 6.203125 41.140625 7.25 \nQ 44.96875 8.296875 48.78125 10.40625 \nL 48.78125 2.09375 \nQ 45.015625 0.34375 40.984375 -0.53125 \nQ 36.96875 -1.421875 32.421875 -1.421875 \nQ 20.0625 -1.421875 12.78125 6.34375 \nQ 5.515625 14.109375 5.515625 27.296875 \nQ 5.515625 40.671875 12.859375 48.328125 \nQ 20.21875 56 33.015625 56 \nQ 37.15625 56 41.109375 55.140625 \nQ 45.0625 54.296875 48.78125 52.59375 \nz\n\" id=\"DejaVuSans-99\"/>\n     <path d=\"M 30.609375 48.390625 \nQ 23.390625 48.390625 19.1875 42.75 \nQ 14.984375 37.109375 14.984375 27.296875 \nQ 14.984375 17.484375 19.15625 11.84375 \nQ 23.34375 6.203125 30.609375 6.203125 \nQ 37.796875 6.203125 41.984375 11.859375 \nQ 46.1875 17.53125 46.1875 27.296875 \nQ 46.1875 37.015625 41.984375 42.703125 \nQ 37.796875 48.390625 30.609375 48.390625 \nz\nM 30.609375 56 \nQ 42.328125 56 49.015625 48.375 \nQ 55.71875 40.765625 55.71875 27.296875 \nQ 55.71875 13.875 49.015625 6.21875 \nQ 42.328125 -1.421875 30.609375 -1.421875 \nQ 18.84375 -1.421875 12.171875 6.21875 \nQ 5.515625 13.875 5.515625 27.296875 \nQ 5.515625 40.765625 12.171875 48.375 \nQ 18.84375 56 30.609375 56 \nz\n\" id=\"DejaVuSans-111\"/>\n     <path d=\"M 34.28125 27.484375 \nQ 23.390625 27.484375 19.1875 25 \nQ 14.984375 22.515625 14.984375 16.5 \nQ 14.984375 11.71875 18.140625 8.90625 \nQ 21.296875 6.109375 26.703125 6.109375 \nQ 34.1875 6.109375 38.703125 11.40625 \nQ 43.21875 16.703125 43.21875 25.484375 \nL 43.21875 27.484375 \nz\nM 52.203125 31.203125 \nL 52.203125 0 \nL 43.21875 0 \nL 43.21875 8.296875 \nQ 40.140625 3.328125 35.546875 0.953125 \nQ 30.953125 -1.421875 24.3125 -1.421875 \nQ 15.921875 -1.421875 10.953125 3.296875 \nQ 6 8.015625 6 15.921875 \nQ 6 25.140625 12.171875 29.828125 \nQ 18.359375 34.515625 30.609375 34.515625 \nL 43.21875 34.515625 \nL 43.21875 35.40625 \nQ 43.21875 41.609375 39.140625 45 \nQ 35.0625 48.390625 27.6875 48.390625 \nQ 23 48.390625 18.546875 47.265625 \nQ 14.109375 46.140625 10.015625 43.890625 \nL 10.015625 52.203125 \nQ 14.9375 54.109375 19.578125 55.046875 \nQ 24.21875 56 28.609375 56 \nQ 40.484375 56 46.34375 49.84375 \nQ 52.203125 43.703125 52.203125 31.203125 \nz\n\" id=\"DejaVuSans-97\"/>\n     <path d=\"M 18.3125 70.21875 \nL 18.3125 54.6875 \nL 36.8125 54.6875 \nL 36.8125 47.703125 \nL 18.3125 47.703125 \nL 18.3125 18.015625 \nQ 18.3125 11.328125 20.140625 9.421875 \nQ 21.96875 7.515625 27.59375 7.515625 \nL 36.8125 7.515625 \nL 36.8125 0 \nL 27.59375 0 \nQ 17.1875 0 13.234375 3.875 \nQ 9.28125 7.765625 9.28125 18.015625 \nL 9.28125 47.703125 \nL 2.6875 47.703125 \nL 2.6875 54.6875 \nL 9.28125 54.6875 \nL 9.28125 70.21875 \nz\n\" id=\"DejaVuSans-116\"/>\n    </defs>\n    <g transform=\"translate(26.073506 16.318125)scale(0.12 -0.12)\">\n     <use xlink:href=\"#DejaVuSans-99\"/>\n     <use x=\"54.980469\" xlink:href=\"#DejaVuSans-111\"/>\n     <use x=\"116.162109\" xlink:href=\"#DejaVuSans-97\"/>\n     <use x=\"177.441406\" xlink:href=\"#DejaVuSans-116\"/>\n    </g>\n    <!-- coat -->\n    <g transform=\"translate(26.073506 29.7555)scale(0.12 -0.12)\">\n     <use xlink:href=\"#DejaVuSans-99\"/>\n     <use x=\"54.980469\" xlink:href=\"#DejaVuSans-111\"/>\n     <use x=\"116.162109\" xlink:href=\"#DejaVuSans-97\"/>\n     <use x=\"177.441406\" xlink:href=\"#DejaVuSans-116\"/>\n    </g>\n   </g>\n  </g>\n  <g id=\"axes_2\">\n   <g id=\"patch_7\">\n    <path d=\"M 78.794915 92.501263 \nL 135.540678 92.501263 \nL 135.540678 35.7555 \nL 78.794915 35.7555 \nz\n\" style=\"fill:#ffffff;\"/>\n   </g>\n   <g clip-path=\"url(#pf7fc205b6f)\">\n    <image height=\"57\" id=\"image4a20c6b525\" transform=\"scale(1 -1)translate(0 -57)\" width=\"57\" x=\"78.794915\" xlink:href=\"data:image/png;base64,\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\" y=\"-35.501263\"/>\n   </g>\n   <g id=\"patch_8\">\n    <path d=\"M 78.794915 92.501263 \nL 78.794915 35.7555 \n\" style=\"fill:none;stroke:#000000;stroke-linecap:square;stroke-linejoin:miter;stroke-width:0.8;\"/>\n   </g>\n   <g id=\"patch_9\">\n    <path d=\"M 135.540678 92.501263 \nL 135.540678 35.7555 \n\" style=\"fill:none;stroke:#000000;stroke-linecap:square;stroke-linejoin:miter;stroke-width:0.8;\"/>\n   </g>\n   <g id=\"patch_10\">\n    <path d=\"M 78.794915 92.501263 \nL 135.540678 92.501263 \n\" style=\"fill:none;stroke:#000000;stroke-linecap:square;stroke-linejoin:miter;stroke-width:0.8;\"/>\n   </g>\n   <g id=\"patch_11\">\n    <path d=\"M 78.794915 35.7555 \nL 135.540678 35.7555 \n\" style=\"fill:none;stroke:#000000;stroke-linecap:square;stroke-linejoin:miter;stroke-width:0.8;\"/>\n   </g>\n   <g id=\"text_2\">\n    <!-- sandal -->\n    <defs>\n     <path d=\"M 44.28125 53.078125 \nL 44.28125 44.578125 \nQ 40.484375 46.53125 36.375 47.5 \nQ 32.28125 48.484375 27.875 48.484375 \nQ 21.1875 48.484375 17.84375 46.4375 \nQ 14.5 44.390625 14.5 40.28125 \nQ 14.5 37.15625 16.890625 35.375 \nQ 19.28125 33.59375 26.515625 31.984375 \nL 29.59375 31.296875 \nQ 39.15625 29.25 43.1875 25.515625 \nQ 47.21875 21.78125 47.21875 15.09375 \nQ 47.21875 7.46875 41.1875 3.015625 \nQ 35.15625 -1.421875 24.609375 -1.421875 \nQ 20.21875 -1.421875 15.453125 -0.5625 \nQ 10.6875 0.296875 5.421875 2 \nL 5.421875 11.28125 \nQ 10.40625 8.6875 15.234375 7.390625 \nQ 20.0625 6.109375 24.8125 6.109375 \nQ 31.15625 6.109375 34.5625 8.28125 \nQ 37.984375 10.453125 37.984375 14.40625 \nQ 37.984375 18.0625 35.515625 20.015625 \nQ 33.0625 21.96875 24.703125 23.78125 \nL 21.578125 24.515625 \nQ 13.234375 26.265625 9.515625 29.90625 \nQ 5.8125 33.546875 5.8125 39.890625 \nQ 5.8125 47.609375 11.28125 51.796875 \nQ 16.75 56 26.8125 56 \nQ 31.78125 56 36.171875 55.265625 \nQ 40.578125 54.546875 44.28125 53.078125 \nz\n\" id=\"DejaVuSans-115\"/>\n     <path d=\"M 54.890625 33.015625 \nL 54.890625 0 \nL 45.90625 0 \nL 45.90625 32.71875 \nQ 45.90625 40.484375 42.875 44.328125 \nQ 39.84375 48.1875 33.796875 48.1875 \nQ 26.515625 48.1875 22.3125 43.546875 \nQ 18.109375 38.921875 18.109375 30.90625 \nL 18.109375 0 \nL 9.078125 0 \nL 9.078125 54.6875 \nL 18.109375 54.6875 \nL 18.109375 46.1875 \nQ 21.34375 51.125 25.703125 53.5625 \nQ 30.078125 56 35.796875 56 \nQ 45.21875 56 50.046875 50.171875 \nQ 54.890625 44.34375 54.890625 33.015625 \nz\n\" id=\"DejaVuSans-110\"/>\n     <path d=\"M 45.40625 46.390625 \nL 45.40625 75.984375 \nL 54.390625 75.984375 \nL 54.390625 0 \nL 45.40625 0 \nL 45.40625 8.203125 \nQ 42.578125 3.328125 38.25 0.953125 \nQ 33.9375 -1.421875 27.875 -1.421875 \nQ 17.96875 -1.421875 11.734375 6.484375 \nQ 5.515625 14.40625 5.515625 27.296875 \nQ 5.515625 40.1875 11.734375 48.09375 \nQ 17.96875 56 27.875 56 \nQ 33.9375 56 38.25 53.625 \nQ 42.578125 51.265625 45.40625 46.390625 \nz\nM 14.796875 27.296875 \nQ 14.796875 17.390625 18.875 11.75 \nQ 22.953125 6.109375 30.078125 6.109375 \nQ 37.203125 6.109375 41.296875 11.75 \nQ 45.40625 17.390625 45.40625 27.296875 \nQ 45.40625 37.203125 41.296875 42.84375 \nQ 37.203125 48.484375 30.078125 48.484375 \nQ 22.953125 48.484375 18.875 42.84375 \nQ 14.796875 37.203125 14.796875 27.296875 \nz\n\" id=\"DejaVuSans-100\"/>\n     <path d=\"M 9.421875 75.984375 \nL 18.40625 75.984375 \nL 18.40625 0 \nL 9.421875 0 \nz\n\" id=\"DejaVuSans-108\"/>\n    </defs>\n    <g transform=\"translate(87.409984 16.318125)scale(0.12 -0.12)\">\n     <use xlink:href=\"#DejaVuSans-115\"/>\n     <use x=\"52.099609\" xlink:href=\"#DejaVuSans-97\"/>\n     <use x=\"113.378906\" xlink:href=\"#DejaVuSans-110\"/>\n     <use x=\"176.757812\" xlink:href=\"#DejaVuSans-100\"/>\n     <use x=\"240.234375\" xlink:href=\"#DejaVuSans-97\"/>\n     <use x=\"301.513672\" xlink:href=\"#DejaVuSans-108\"/>\n    </g>\n    <!-- sandal -->\n    <g transform=\"translate(87.409984 29.7555)scale(0.12 -0.12)\">\n     <use xlink:href=\"#DejaVuSans-115\"/>\n     <use x=\"52.099609\" xlink:href=\"#DejaVuSans-97\"/>\n     <use x=\"113.378906\" xlink:href=\"#DejaVuSans-110\"/>\n     <use x=\"176.757812\" xlink:href=\"#DejaVuSans-100\"/>\n     <use x=\"240.234375\" xlink:href=\"#DejaVuSans-97\"/>\n     <use x=\"301.513672\" xlink:href=\"#DejaVuSans-108\"/>\n    </g>\n   </g>\n  </g>\n  <g id=\"axes_3\">\n   <g id=\"patch_12\">\n    <path d=\"M 146.889831 92.501263 \nL 203.635593 92.501263 \nL 203.635593 35.7555 \nL 146.889831 35.7555 \nz\n\" style=\"fill:#ffffff;\"/>\n   </g>\n   <g clip-path=\"url(#p6af3a233cc)\">\n    <image height=\"57\" id=\"imagee700cd3d83\" transform=\"scale(1 -1)translate(0 -57)\" width=\"57\" x=\"146.889831\" xlink:href=\"data:image/png;base64,\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\" y=\"-35.501263\"/>\n   </g>\n   <g id=\"patch_13\">\n    <path d=\"M 146.889831 92.501263 \nL 146.889831 35.7555 \n\" style=\"fill:none;stroke:#000000;stroke-linecap:square;stroke-linejoin:miter;stroke-width:0.8;\"/>\n   </g>\n   <g id=\"patch_14\">\n    <path d=\"M 203.635593 92.501263 \nL 203.635593 35.7555 \n\" style=\"fill:none;stroke:#000000;stroke-linecap:square;stroke-linejoin:miter;stroke-width:0.8;\"/>\n   </g>\n   <g id=\"patch_15\">\n    <path d=\"M 146.889831 92.501263 \nL 203.635593 92.501263 \n\" style=\"fill:none;stroke:#000000;stroke-linecap:square;stroke-linejoin:miter;stroke-width:0.8;\"/>\n   </g>\n   <g id=\"patch_16\">\n    <path d=\"M 146.889831 35.7555 \nL 203.635593 35.7555 \n\" style=\"fill:none;stroke:#000000;stroke-linecap:square;stroke-linejoin:miter;stroke-width:0.8;\"/>\n   </g>\n   <g id=\"text_3\">\n    <!-- sneaker -->\n    <defs>\n     <path d=\"M 56.203125 29.59375 \nL 56.203125 25.203125 \nL 14.890625 25.203125 \nQ 15.484375 15.921875 20.484375 11.0625 \nQ 25.484375 6.203125 34.421875 6.203125 \nQ 39.59375 6.203125 44.453125 7.46875 \nQ 49.3125 8.734375 54.109375 11.28125 \nL 54.109375 2.78125 \nQ 49.265625 0.734375 44.1875 -0.34375 \nQ 39.109375 -1.421875 33.890625 -1.421875 \nQ 20.796875 -1.421875 13.15625 6.1875 \nQ 5.515625 13.8125 5.515625 26.8125 \nQ 5.515625 40.234375 12.765625 48.109375 \nQ 20.015625 56 32.328125 56 \nQ 43.359375 56 49.78125 48.890625 \nQ 56.203125 41.796875 56.203125 29.59375 \nz\nM 47.21875 32.234375 \nQ 47.125 39.59375 43.09375 43.984375 \nQ 39.0625 48.390625 32.421875 48.390625 \nQ 24.90625 48.390625 20.390625 44.140625 \nQ 15.875 39.890625 15.1875 32.171875 \nz\n\" id=\"DejaVuSans-101\"/>\n     <path d=\"M 9.078125 75.984375 \nL 18.109375 75.984375 \nL 18.109375 31.109375 \nL 44.921875 54.6875 \nL 56.390625 54.6875 \nL 27.390625 29.109375 \nL 57.625 0 \nL 45.90625 0 \nL 18.109375 26.703125 \nL 18.109375 0 \nL 9.078125 0 \nz\n\" id=\"DejaVuSans-107\"/>\n     <path d=\"M 41.109375 46.296875 \nQ 39.59375 47.171875 37.8125 47.578125 \nQ 36.03125 48 33.890625 48 \nQ 26.265625 48 22.1875 43.046875 \nQ 18.109375 38.09375 18.109375 28.8125 \nL 18.109375 0 \nL 9.078125 0 \nL 9.078125 54.6875 \nL 18.109375 54.6875 \nL 18.109375 46.1875 \nQ 20.953125 51.171875 25.484375 53.578125 \nQ 30.03125 56 36.53125 56 \nQ 37.453125 56 38.578125 55.875 \nQ 39.703125 55.765625 41.0625 55.515625 \nz\n\" id=\"DejaVuSans-114\"/>\n    </defs>\n    <g transform=\"translate(151.550524 16.318125)scale(0.12 -0.12)\">\n     <use xlink:href=\"#DejaVuSans-115\"/>\n     <use x=\"52.099609\" xlink:href=\"#DejaVuSans-110\"/>\n     <use x=\"115.478516\" xlink:href=\"#DejaVuSans-101\"/>\n     <use x=\"177.001953\" xlink:href=\"#DejaVuSans-97\"/>\n     <use x=\"238.28125\" xlink:href=\"#DejaVuSans-107\"/>\n     <use x=\"292.566406\" xlink:href=\"#DejaVuSans-101\"/>\n     <use x=\"354.089844\" xlink:href=\"#DejaVuSans-114\"/>\n    </g>\n    <!-- sandal -->\n    <g transform=\"translate(155.504899 29.7555)scale(0.12 -0.12)\">\n     <use xlink:href=\"#DejaVuSans-115\"/>\n     <use x=\"52.099609\" xlink:href=\"#DejaVuSans-97\"/>\n     <use x=\"113.378906\" xlink:href=\"#DejaVuSans-110\"/>\n     <use x=\"176.757812\" xlink:href=\"#DejaVuSans-100\"/>\n     <use x=\"240.234375\" xlink:href=\"#DejaVuSans-97\"/>\n     <use x=\"301.513672\" xlink:href=\"#DejaVuSans-108\"/>\n    </g>\n   </g>\n  </g>\n  <g id=\"axes_4\">\n   <g id=\"patch_17\">\n    <path d=\"M 214.984746 92.501263 \nL 271.730508 92.501263 \nL 271.730508 35.7555 \nL 214.984746 35.7555 \nz\n\" style=\"fill:#ffffff;\"/>\n   </g>\n   <g clip-path=\"url(#p837eaa3f99)\">\n    <image height=\"57\" id=\"imageacd18bba98\" transform=\"scale(1 -1)translate(0 -57)\" width=\"57\" x=\"214.984746\" xlink:href=\"data:image/png;base64,\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\" y=\"-35.501263\"/>\n   </g>\n   <g id=\"patch_18\">\n    <path d=\"M 214.984746 92.501263 \nL 214.984746 35.7555 \n\" style=\"fill:none;stroke:#000000;stroke-linecap:square;stroke-linejoin:miter;stroke-width:0.8;\"/>\n   </g>\n   <g id=\"patch_19\">\n    <path d=\"M 271.730508 92.501263 \nL 271.730508 35.7555 \n\" style=\"fill:none;stroke:#000000;stroke-linecap:square;stroke-linejoin:miter;stroke-width:0.8;\"/>\n   </g>\n   <g id=\"patch_20\">\n    <path d=\"M 214.984746 92.501263 \nL 271.730508 92.501263 \n\" style=\"fill:none;stroke:#000000;stroke-linecap:square;stroke-linejoin:miter;stroke-width:0.8;\"/>\n   </g>\n   <g id=\"patch_21\">\n    <path d=\"M 214.984746 35.7555 \nL 271.730508 35.7555 \n\" style=\"fill:none;stroke:#000000;stroke-linecap:square;stroke-linejoin:miter;stroke-width:0.8;\"/>\n   </g>\n   <g id=\"text_4\">\n    <!-- dress -->\n    <g transform=\"translate(227.273877 16.318125)scale(0.12 -0.12)\">\n     <use xlink:href=\"#DejaVuSans-100\"/>\n     <use x=\"63.476562\" xlink:href=\"#DejaVuSans-114\"/>\n     <use x=\"102.339844\" xlink:href=\"#DejaVuSans-101\"/>\n     <use x=\"163.863281\" xlink:href=\"#DejaVuSans-115\"/>\n     <use x=\"215.962891\" xlink:href=\"#DejaVuSans-115\"/>\n    </g>\n    <!-- dress -->\n    <g transform=\"translate(227.273877 29.7555)scale(0.12 -0.12)\">\n     <use xlink:href=\"#DejaVuSans-100\"/>\n     <use x=\"63.476562\" xlink:href=\"#DejaVuSans-114\"/>\n     <use x=\"102.339844\" xlink:href=\"#DejaVuSans-101\"/>\n     <use x=\"163.863281\" xlink:href=\"#DejaVuSans-115\"/>\n     <use x=\"215.962891\" xlink:href=\"#DejaVuSans-115\"/>\n    </g>\n   </g>\n  </g>\n  <g id=\"axes_5\">\n   <g id=\"patch_22\">\n    <path d=\"M 283.079661 92.501263 \nL 339.825424 92.501263 \nL 339.825424 35.7555 \nL 283.079661 35.7555 \nz\n\" style=\"fill:#ffffff;\"/>\n   </g>\n   <g clip-path=\"url(#paf65006c7b)\">\n    <image height=\"57\" id=\"image6ed72125e4\" transform=\"scale(1 -1)translate(0 -57)\" width=\"57\" x=\"283.079661\" xlink:href=\"data:image/png;base64,\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\" y=\"-35.501263\"/>\n   </g>\n   <g id=\"patch_23\">\n    <path d=\"M 283.079661 92.501263 \nL 283.079661 35.7555 \n\" style=\"fill:none;stroke:#000000;stroke-linecap:square;stroke-linejoin:miter;stroke-width:0.8;\"/>\n   </g>\n   <g id=\"patch_24\">\n    <path d=\"M 339.825424 92.501263 \nL 339.825424 35.7555 \n\" style=\"fill:none;stroke:#000000;stroke-linecap:square;stroke-linejoin:miter;stroke-width:0.8;\"/>\n   </g>\n   <g id=\"patch_25\">\n    <path d=\"M 283.079661 92.501263 \nL 339.825424 92.501263 \n\" style=\"fill:none;stroke:#000000;stroke-linecap:square;stroke-linejoin:miter;stroke-width:0.8;\"/>\n   </g>\n   <g id=\"patch_26\">\n    <path d=\"M 283.079661 35.7555 \nL 339.825424 35.7555 \n\" style=\"fill:none;stroke:#000000;stroke-linecap:square;stroke-linejoin:miter;stroke-width:0.8;\"/>\n   </g>\n   <g id=\"text_5\">\n    <!-- coat -->\n    <g transform=\"translate(298.453167 16.318125)scale(0.12 -0.12)\">\n     <use xlink:href=\"#DejaVuSans-99\"/>\n     <use x=\"54.980469\" xlink:href=\"#DejaVuSans-111\"/>\n     <use x=\"116.162109\" xlink:href=\"#DejaVuSans-97\"/>\n     <use x=\"177.441406\" xlink:href=\"#DejaVuSans-116\"/>\n    </g>\n    <!-- coat -->\n    <g transform=\"translate(298.453167 29.7555)scale(0.12 -0.12)\">\n     <use xlink:href=\"#DejaVuSans-99\"/>\n     <use x=\"54.980469\" xlink:href=\"#DejaVuSans-111\"/>\n     <use x=\"116.162109\" xlink:href=\"#DejaVuSans-97\"/>\n     <use x=\"177.441406\" xlink:href=\"#DejaVuSans-116\"/>\n    </g>\n   </g>\n  </g>\n  <g id=\"axes_6\">\n   <g id=\"patch_27\">\n    <path d=\"M 351.174576 92.501263 \nL 407.920339 92.501263 \nL 407.920339 35.7555 \nL 351.174576 35.7555 \nz\n\" style=\"fill:#ffffff;\"/>\n   </g>\n   <g clip-path=\"url(#pd5afb58d9e)\">\n    <image height=\"57\" id=\"imagebdac1a92c8\" transform=\"scale(1 -1)translate(0 -57)\" width=\"57\" x=\"351.174576\" xlink:href=\"data:image/png;base64,\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\" y=\"-35.501263\"/>\n   </g>\n   <g id=\"patch_28\">\n    <path d=\"M 351.174576 92.501263 \nL 351.174576 35.7555 \n\" style=\"fill:none;stroke:#000000;stroke-linecap:square;stroke-linejoin:miter;stroke-width:0.8;\"/>\n   </g>\n   <g id=\"patch_29\">\n    <path d=\"M 407.920339 92.501263 \nL 407.920339 35.7555 \n\" style=\"fill:none;stroke:#000000;stroke-linecap:square;stroke-linejoin:miter;stroke-width:0.8;\"/>\n   </g>\n   <g id=\"patch_30\">\n    <path d=\"M 351.174576 92.501263 \nL 407.920339 92.501263 \n\" style=\"fill:none;stroke:#000000;stroke-linecap:square;stroke-linejoin:miter;stroke-width:0.8;\"/>\n   </g>\n   <g id=\"patch_31\">\n    <path d=\"M 351.174576 35.7555 \nL 407.920339 35.7555 \n\" style=\"fill:none;stroke:#000000;stroke-linecap:square;stroke-linejoin:miter;stroke-width:0.8;\"/>\n   </g>\n   <g id=\"text_6\">\n    <!-- trouser -->\n    <defs>\n     <path d=\"M 8.5 21.578125 \nL 8.5 54.6875 \nL 17.484375 54.6875 \nL 17.484375 21.921875 \nQ 17.484375 14.15625 20.5 10.265625 \nQ 23.53125 6.390625 29.59375 6.390625 \nQ 36.859375 6.390625 41.078125 11.03125 \nQ 45.3125 15.671875 45.3125 23.6875 \nL 45.3125 54.6875 \nL 54.296875 54.6875 \nL 54.296875 0 \nL 45.3125 0 \nL 45.3125 8.40625 \nQ 42.046875 3.421875 37.71875 1 \nQ 33.40625 -1.421875 27.6875 -1.421875 \nQ 18.265625 -1.421875 13.375 4.4375 \nQ 8.5 10.296875 8.5 21.578125 \nz\nM 31.109375 56 \nz\n\" id=\"DejaVuSans-117\"/>\n    </defs>\n    <g transform=\"translate(358.105895 16.318125)scale(0.12 -0.12)\">\n     <use xlink:href=\"#DejaVuSans-116\"/>\n     <use x=\"39.208984\" xlink:href=\"#DejaVuSans-114\"/>\n     <use x=\"78.072266\" xlink:href=\"#DejaVuSans-111\"/>\n     <use x=\"139.253906\" xlink:href=\"#DejaVuSans-117\"/>\n     <use x=\"202.632812\" xlink:href=\"#DejaVuSans-115\"/>\n     <use x=\"254.732422\" xlink:href=\"#DejaVuSans-101\"/>\n     <use x=\"316.255859\" xlink:href=\"#DejaVuSans-114\"/>\n    </g>\n    <!-- trouser -->\n    <g transform=\"translate(358.105895 29.7555)scale(0.12 -0.12)\">\n     <use xlink:href=\"#DejaVuSans-116\"/>\n     <use x=\"39.208984\" xlink:href=\"#DejaVuSans-114\"/>\n     <use x=\"78.072266\" xlink:href=\"#DejaVuSans-111\"/>\n     <use x=\"139.253906\" xlink:href=\"#DejaVuSans-117\"/>\n     <use x=\"202.632812\" xlink:href=\"#DejaVuSans-115\"/>\n     <use x=\"254.732422\" xlink:href=\"#DejaVuSans-101\"/>\n     <use x=\"316.255859\" xlink:href=\"#DejaVuSans-114\"/>\n    </g>\n   </g>\n  </g>\n  <g id=\"axes_7\">\n   <g id=\"patch_32\">\n    <path d=\"M 419.269492 92.501263 \nL 476.015254 92.501263 \nL 476.015254 35.7555 \nL 419.269492 35.7555 \nz\n\" style=\"fill:#ffffff;\"/>\n   </g>\n   <g clip-path=\"url(#pd2eee723d1)\">\n    <image height=\"57\" id=\"imageab04539762\" transform=\"scale(1 -1)translate(0 -57)\" width=\"57\" x=\"419.269492\" xlink:href=\"data:image/png;base64,\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\" y=\"-35.501263\"/>\n   </g>\n   <g id=\"patch_33\">\n    <path d=\"M 419.269492 92.501263 \nL 419.269492 35.7555 \n\" style=\"fill:none;stroke:#000000;stroke-linecap:square;stroke-linejoin:miter;stroke-width:0.8;\"/>\n   </g>\n   <g id=\"patch_34\">\n    <path d=\"M 476.015254 92.501263 \nL 476.015254 35.7555 \n\" style=\"fill:none;stroke:#000000;stroke-linecap:square;stroke-linejoin:miter;stroke-width:0.8;\"/>\n   </g>\n   <g id=\"patch_35\">\n    <path d=\"M 419.269492 92.501263 \nL 476.015254 92.501263 \n\" style=\"fill:none;stroke:#000000;stroke-linecap:square;stroke-linejoin:miter;stroke-width:0.8;\"/>\n   </g>\n   <g id=\"patch_36\">\n    <path d=\"M 419.269492 35.7555 \nL 476.015254 35.7555 \n\" style=\"fill:none;stroke:#000000;stroke-linecap:square;stroke-linejoin:miter;stroke-width:0.8;\"/>\n   </g>\n   <g id=\"text_7\">\n    <!-- pullover -->\n    <defs>\n     <path d=\"M 18.109375 8.203125 \nL 18.109375 -20.796875 \nL 9.078125 -20.796875 \nL 9.078125 54.6875 \nL 18.109375 54.6875 \nL 18.109375 46.390625 \nQ 20.953125 51.265625 25.265625 53.625 \nQ 29.59375 56 35.59375 56 \nQ 45.5625 56 51.78125 48.09375 \nQ 58.015625 40.1875 58.015625 27.296875 \nQ 58.015625 14.40625 51.78125 6.484375 \nQ 45.5625 -1.421875 35.59375 -1.421875 \nQ 29.59375 -1.421875 25.265625 0.953125 \nQ 20.953125 3.328125 18.109375 8.203125 \nz\nM 48.6875 27.296875 \nQ 48.6875 37.203125 44.609375 42.84375 \nQ 40.53125 48.484375 33.40625 48.484375 \nQ 26.265625 48.484375 22.1875 42.84375 \nQ 18.109375 37.203125 18.109375 27.296875 \nQ 18.109375 17.390625 22.1875 11.75 \nQ 26.265625 6.109375 33.40625 6.109375 \nQ 40.53125 6.109375 44.609375 11.75 \nQ 48.6875 17.390625 48.6875 27.296875 \nz\n\" id=\"DejaVuSans-112\"/>\n     <path d=\"M 2.984375 54.6875 \nL 12.5 54.6875 \nL 29.59375 8.796875 \nL 46.6875 54.6875 \nL 56.203125 54.6875 \nL 35.6875 0 \nL 23.484375 0 \nz\n\" id=\"DejaVuSans-118\"/>\n    </defs>\n    <g transform=\"translate(423.316123 16.318125)scale(0.12 -0.12)\">\n     <use xlink:href=\"#DejaVuSans-112\"/>\n     <use x=\"63.476562\" xlink:href=\"#DejaVuSans-117\"/>\n     <use x=\"126.855469\" xlink:href=\"#DejaVuSans-108\"/>\n     <use x=\"154.638672\" xlink:href=\"#DejaVuSans-108\"/>\n     <use x=\"182.421875\" xlink:href=\"#DejaVuSans-111\"/>\n     <use x=\"243.603516\" xlink:href=\"#DejaVuSans-118\"/>\n     <use x=\"302.783203\" xlink:href=\"#DejaVuSans-101\"/>\n     <use x=\"364.306641\" xlink:href=\"#DejaVuSans-114\"/>\n    </g>\n    <!-- pullover -->\n    <g transform=\"translate(423.316123 29.7555)scale(0.12 -0.12)\">\n     <use xlink:href=\"#DejaVuSans-112\"/>\n     <use x=\"63.476562\" xlink:href=\"#DejaVuSans-117\"/>\n     <use x=\"126.855469\" xlink:href=\"#DejaVuSans-108\"/>\n     <use x=\"154.638672\" xlink:href=\"#DejaVuSans-108\"/>\n     <use x=\"182.421875\" xlink:href=\"#DejaVuSans-111\"/>\n     <use x=\"243.603516\" xlink:href=\"#DejaVuSans-118\"/>\n     <use x=\"302.783203\" xlink:href=\"#DejaVuSans-101\"/>\n     <use x=\"364.306641\" xlink:href=\"#DejaVuSans-114\"/>\n    </g>\n   </g>\n  </g>\n  <g id=\"axes_8\">\n   <g id=\"patch_37\">\n    <path d=\"M 487.364407 92.501263 \nL 544.110169 92.501263 \nL 544.110169 35.7555 \nL 487.364407 35.7555 \nz\n\" style=\"fill:#ffffff;\"/>\n   </g>\n   <g clip-path=\"url(#p5d6995fde9)\">\n    <image height=\"57\" id=\"image33fb15daae\" transform=\"scale(1 -1)translate(0 -57)\" width=\"57\" x=\"487.364407\" xlink:href=\"data:image/png;base64,\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\" y=\"-35.501263\"/>\n   </g>\n   <g id=\"patch_38\">\n    <path d=\"M 487.364407 92.501263 \nL 487.364407 35.7555 \n\" style=\"fill:none;stroke:#000000;stroke-linecap:square;stroke-linejoin:miter;stroke-width:0.8;\"/>\n   </g>\n   <g id=\"patch_39\">\n    <path d=\"M 544.110169 92.501263 \nL 544.110169 35.7555 \n\" style=\"fill:none;stroke:#000000;stroke-linecap:square;stroke-linejoin:miter;stroke-width:0.8;\"/>\n   </g>\n   <g id=\"patch_40\">\n    <path d=\"M 487.364407 92.501263 \nL 544.110169 92.501263 \n\" style=\"fill:none;stroke:#000000;stroke-linecap:square;stroke-linejoin:miter;stroke-width:0.8;\"/>\n   </g>\n   <g id=\"patch_41\">\n    <path d=\"M 487.364407 35.7555 \nL 544.110169 35.7555 \n\" style=\"fill:none;stroke:#000000;stroke-linecap:square;stroke-linejoin:miter;stroke-width:0.8;\"/>\n   </g>\n   <g id=\"text_8\">\n    <!-- coat -->\n    <g transform=\"translate(502.737913 16.318125)scale(0.12 -0.12)\">\n     <use xlink:href=\"#DejaVuSans-99\"/>\n     <use x=\"54.980469\" xlink:href=\"#DejaVuSans-111\"/>\n     <use x=\"116.162109\" xlink:href=\"#DejaVuSans-97\"/>\n     <use x=\"177.441406\" xlink:href=\"#DejaVuSans-116\"/>\n    </g>\n    <!-- pullover -->\n    <g transform=\"translate(491.411038 29.7555)scale(0.12 -0.12)\">\n     <use xlink:href=\"#DejaVuSans-112\"/>\n     <use x=\"63.476562\" xlink:href=\"#DejaVuSans-117\"/>\n     <use x=\"126.855469\" xlink:href=\"#DejaVuSans-108\"/>\n     <use x=\"154.638672\" xlink:href=\"#DejaVuSans-108\"/>\n     <use x=\"182.421875\" xlink:href=\"#DejaVuSans-111\"/>\n     <use x=\"243.603516\" xlink:href=\"#DejaVuSans-118\"/>\n     <use x=\"302.783203\" xlink:href=\"#DejaVuSans-101\"/>\n     <use x=\"364.306641\" xlink:href=\"#DejaVuSans-114\"/>\n    </g>\n   </g>\n  </g>\n  <g id=\"axes_9\">\n   <g id=\"patch_42\">\n    <path d=\"M 555.459322 92.501263 \nL 612.205085 92.501263 \nL 612.205085 35.7555 \nL 555.459322 35.7555 \nz\n\" style=\"fill:#ffffff;\"/>\n   </g>\n   <g clip-path=\"url(#p74557c37e0)\">\n    <image height=\"57\" id=\"imagead03392320\" transform=\"scale(1 -1)translate(0 -57)\" width=\"57\" x=\"555.459322\" xlink:href=\"data:image/png;base64,\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\" y=\"-35.501263\"/>\n   </g>\n   <g id=\"patch_43\">\n    <path d=\"M 555.459322 92.501263 \nL 555.459322 35.7555 \n\" style=\"fill:none;stroke:#000000;stroke-linecap:square;stroke-linejoin:miter;stroke-width:0.8;\"/>\n   </g>\n   <g id=\"patch_44\">\n    <path d=\"M 612.205085 92.501263 \nL 612.205085 35.7555 \n\" style=\"fill:none;stroke:#000000;stroke-linecap:square;stroke-linejoin:miter;stroke-width:0.8;\"/>\n   </g>\n   <g id=\"patch_45\">\n    <path d=\"M 555.459322 92.501263 \nL 612.205085 92.501263 \n\" style=\"fill:none;stroke:#000000;stroke-linecap:square;stroke-linejoin:miter;stroke-width:0.8;\"/>\n   </g>\n   <g id=\"patch_46\">\n    <path d=\"M 555.459322 35.7555 \nL 612.205085 35.7555 \n\" style=\"fill:none;stroke:#000000;stroke-linecap:square;stroke-linejoin:miter;stroke-width:0.8;\"/>\n   </g>\n   <g id=\"text_9\">\n    <!-- bag -->\n    <defs>\n     <path d=\"M 48.6875 27.296875 \nQ 48.6875 37.203125 44.609375 42.84375 \nQ 40.53125 48.484375 33.40625 48.484375 \nQ 26.265625 48.484375 22.1875 42.84375 \nQ 18.109375 37.203125 18.109375 27.296875 \nQ 18.109375 17.390625 22.1875 11.75 \nQ 26.265625 6.109375 33.40625 6.109375 \nQ 40.53125 6.109375 44.609375 11.75 \nQ 48.6875 17.390625 48.6875 27.296875 \nz\nM 18.109375 46.390625 \nQ 20.953125 51.265625 25.265625 53.625 \nQ 29.59375 56 35.59375 56 \nQ 45.5625 56 51.78125 48.09375 \nQ 58.015625 40.1875 58.015625 27.296875 \nQ 58.015625 14.40625 51.78125 6.484375 \nQ 45.5625 -1.421875 35.59375 -1.421875 \nQ 29.59375 -1.421875 25.265625 0.953125 \nQ 20.953125 3.328125 18.109375 8.203125 \nL 18.109375 0 \nL 9.078125 0 \nL 9.078125 75.984375 \nL 18.109375 75.984375 \nz\n\" id=\"DejaVuSans-98\"/>\n     <path d=\"M 45.40625 27.984375 \nQ 45.40625 37.75 41.375 43.109375 \nQ 37.359375 48.484375 30.078125 48.484375 \nQ 22.859375 48.484375 18.828125 43.109375 \nQ 14.796875 37.75 14.796875 27.984375 \nQ 14.796875 18.265625 18.828125 12.890625 \nQ 22.859375 7.515625 30.078125 7.515625 \nQ 37.359375 7.515625 41.375 12.890625 \nQ 45.40625 18.265625 45.40625 27.984375 \nz\nM 54.390625 6.78125 \nQ 54.390625 -7.171875 48.1875 -13.984375 \nQ 42 -20.796875 29.203125 -20.796875 \nQ 24.46875 -20.796875 20.265625 -20.09375 \nQ 16.0625 -19.390625 12.109375 -17.921875 \nL 12.109375 -9.1875 \nQ 16.0625 -11.328125 19.921875 -12.34375 \nQ 23.78125 -13.375 27.78125 -13.375 \nQ 36.625 -13.375 41.015625 -8.765625 \nQ 45.40625 -4.15625 45.40625 5.171875 \nL 45.40625 9.625 \nQ 42.625 4.78125 38.28125 2.390625 \nQ 33.9375 0 27.875 0 \nQ 17.828125 0 11.671875 7.65625 \nQ 5.515625 15.328125 5.515625 27.984375 \nQ 5.515625 40.671875 11.671875 48.328125 \nQ 17.828125 56 27.875 56 \nQ 33.9375 56 38.28125 53.609375 \nQ 42.625 51.21875 45.40625 46.390625 \nL 45.40625 54.6875 \nL 54.390625 54.6875 \nz\n\" id=\"DejaVuSans-103\"/>\n    </defs>\n    <g transform=\"translate(572.537203 16.318125)scale(0.12 -0.12)\">\n     <use xlink:href=\"#DejaVuSans-98\"/>\n     <use x=\"63.476562\" xlink:href=\"#DejaVuSans-97\"/>\n     <use x=\"124.755859\" xlink:href=\"#DejaVuSans-103\"/>\n    </g>\n    <!-- bag -->\n    <g transform=\"translate(572.537203 29.7555)scale(0.12 -0.12)\">\n     <use xlink:href=\"#DejaVuSans-98\"/>\n     <use x=\"63.476562\" xlink:href=\"#DejaVuSans-97\"/>\n     <use x=\"124.755859\" xlink:href=\"#DejaVuSans-103\"/>\n    </g>\n   </g>\n  </g>\n  <g id=\"axes_10\">\n   <g id=\"patch_47\">\n    <path d=\"M 623.554237 92.501263 \nL 680.3 92.501263 \nL 680.3 35.7555 \nL 623.554237 35.7555 \nz\n\" style=\"fill:#ffffff;\"/>\n   </g>\n   <g clip-path=\"url(#pab48410d2e)\">\n    <image height=\"57\" id=\"imageff1b9059d4\" transform=\"scale(1 -1)translate(0 -57)\" width=\"57\" x=\"623.554237\" xlink:href=\"data:image/png;base64,\niVBORw0KGgoAAAANSUhEUgAAADkAAAA5CAYAAACMGIOFAAAABHNCSVQICAgIfAhkiAAADrFJREFUaIHFmlmPHFlWx393iSUjs7J2V7ltjzfs1nRjdYNALIJhEIz6hUee+A688c5nAAmJz8AbIBBICImHQcxIjYZuxmN326Zdtsvlcm25Z0TchYdYMrP2pWmOFKqKyFjO/57l/s+5V/yh+GPPaSJE8ddPbpNJwrM//4Qbv/KWSBmE8PSyiNwqPmh1WY4GzAVjImnqZ0Y2YGRDpHAANFROJA2BsATCMnQhB3mDzGkGJmRoQg7GDQZpSLfbIPmywY2/+Byfpqeqe5zoCz8hBCiFlxAoS6AsUnhibRCAlsX5SeK8RAqH86I4EDhR/K+ER+LRwhFKQyPIsV4wjgNsAEIITrfIZUEKWfz1FgAZRchmgp2z3Gnt0VAZgbBYZP2IwmGRjGxQAzZe4bwo/9c4L3FekgpH4Ip3N1VKU6X1fQCRNMzrEX/d+T2Qk298uyAPi5SgFChPQ2W1y1Vgcq8wTpaWkoA78VW5lwRADjPvkMKjcATS0lJj1nQHGdlJ6FxQzgbp3cSalTgHVjAwEUYptLAYrwCwflYRhUCWTqZlYTHnJYG09XXnJamXpOV4uPIZLS1DG9IxCW4QzOSFbxdkBfTItUKZApTC1pabFSXskWtV8jksjmKArBcgwDhVx+ulgrGUi7srFC4rqC0BRexI4QvFmLVmda4qd6Ryy0Ngy0GSwte/BcIWWfpyngpcFuQxUsWUE6JWFjgC+ESA1e8nXL+KXAmkYza5BMKCBOdFnW3dlBtXAKoE4w7F73G/516RmgBhL2/Ky4F0pTLHBEo9R3o3M61I4U6dP488X33KS3Ivv9uYdOMUEaWouZxfb/8PG+kyXdMAwCKPsY5HCotiFqTz4mjWLq8bryaZt3L3K4C8+OzqLFiL0pZV3SNRWe1mhwHOfEj4+jhLbMWErpJtpuTSMel9MfHbMt4sEuuLLKtwWCGR03y3nODtoXGtLDwdx9MiKQfmcmQHuEriOaTUtBWl8EdIhDqF+ZwlUjj8OTzgJLkwdwXw3teZzyFqS1SihAPkDImYTkgIWbiun3VfO4XDVoRdOBoqv5IlL/+oF7WrVnIc4zn142dYp6KIgbBwBUuerdVxlG5Kqnpwem6z/miWrT9YxuZh963uP26gcq/glKR2llyeu05JEYOT80rhmUTiT54nJwCPAnGnDNh55UqMpwJRW0bOXq9+q2K2yqCV0tX1vKxgYMKipHAo4XEIuiZG5JcHeoVwrl4wqQGBGsxxUgHMywL66HGUClovGNkA3P8DSO8n3PIw05kGehwLOk0qIlAo53FekjnNMRXbueUK8yQzJLxWsho3PyHbx03yp4n1Ai0mhN04eZXkehVLipI8qxPZynFyODYPk/gZ5aarle+8aC7FMptFZwnByc/V5dkxBH3yu50996Kufi4qlwYphEdxqKqAo5UGRyf9quya5rLOSxyCzGmMlxh/dOAuK5e3pIBAmBMVORybh6WaWqyfAEytJneKzCp02Zv9NuQKljyblkEJdgpoEYsSKzxaGJwTpG6iRiAtiWam+1580H+HfdcpqajZNBWTYjqWSiaDmp1HmZ5uJKlTs91zbQoicKhtcln51hpZlTg/W5VMBmB2QIybdNRbOmNBD7kWdut7xi6gbyMAdn3zSjqdo7l8/txdNIWnzstYs17UTebq3CJwThNJQ1OlfC/a5VH8itxrxj7gwCa8ypcmrnyF7Hq2kwtxbHteCE8gDEq4GXdyXpZWmn219aJoSAGBcBinGJiQSObciXdYDzosyJREpkiKd8bC0FA5rSDF6+84JoUQCOkIxaTVX4OsLFfGGExc1HmBUgYpHLmX9E1EQ+U8CLdYVgPmpQUHB4DCk8iUOTWmHYzxwf9lZ+AkmWIrUniML8BF0hBKX6xHuqC+vQJsvUCWz2lhyb1iz7ZQwpEIw8BfQKVj1k6Pk9PfeMIqkvce78XM4o71AuMULZXSUDmdvMF+mhDrHF26dJUxc4olg1BZUqfZMvNAUYAXcSxRwh0JhaP6HW3NXByk97NApUI9uEt2vU2rOcQhGbqQgYlYCgfMqTHzakQiUxKZ0YkaDExEWrIY6wXWK1SpXEPlRWsDyLxi7AKUcATCsG3meDZew3lBU6XIpZT0t79PtDXAPf66aI2eUcyfD2QFtBQRaA4+XaF7V3JvYROAgYno5DEft97wINpiQQ6JhaEXxgx8yOPxDV6NlxjZkNwFBWVzkkRntHRWWy/3mqGPiMmJRU7HNnncXWcxHHE/ec/9tR2++f1btJ+FLH+t8ak9d+Y/FaTQGvnwHmahQfdeg3RBcvAop7naYzXq8zpbIpI5K9GA7axNxyTs5k0GJuLR3GvuhdvMyTHXwl7R9ymnESUctqxgEpkBsJEt83n/DjejfT5JXhIIw3qjh8SzmzdpBin+/oDddgOvf5V4z9F+vIfoDTGbW4VlLwWy0eD9by7Tuy34rc++5I+W/ovfiDdZkJq/3PuEx/3r3El2WY86fN65zWZ/nldvllH7mve/1uLW9T2WdJ8FNSSRKbHIWVBDFmTGK9Pmm2yVsQ9IXcDPu9f52aub3F/b4fbNHWKZ83HzDW+zBZ701liN+/zpo38j94reD2L+4fXH7PzNCq03GeH7ncKyFwEpghB++QGj9YTdTx3JzT53GrsAvDAtQiwd28B5QSIzltSAsFyfDBo5uRUM8pCfDu7V9WND5SQyY06NSWTK23yBzXSh7JA7tgZtbC9gu9niq/E6i3rArWCPoQtxZQtkzxTMJ3WaxXjEi+/DeCViLf2IYG+Ie/ocb8wRPMeClO0Wr340T/+e4c9+8I/8MPmKJ9kau7bFF6NbdEyDvSwBYEn3uRXs0tYpkTJcW+xh5iXdccy/vH6IsUVBFgeGJMgR5XpIL40YjEPiMKcdp2zttQn2NQdBi/9o3eXTpdf8qPkLBi7EeEU/j/hmtAwUmXwt6XLzh1/y9OAaL5fXaG3ErL96i+12z+mu1hJ0PfpAMXQhkoLdxCI7cuuOmUOKYpPEzeYBAxuSWUUvjxnlAUMvyIzGOkHuJKGyRMqQKk2qHM0wZzke0G9H7FzTLK70+HD+HfNqxJNsjbf5Yr0eUtFC44runhOSYRYQ7QuijsPb4132WJB+nLLwIkeagJejFYZNTSxy2mpMIjPGMkAJT4bgSX+d53KVj1qbfNrcYOAiUhfw9ega2+kcr3sLZEbjvSC3irkwZSXuo6UjUJbrSZcPW++4neyxt9Lko9Ymn7V+zuP0Ov+0/6jcJuMIZTk4VjO2GuMVqdEc7Df53uOceGuIz/ILgLSOaHtI0mixnbbouZhQWCAlqNYa8TMsZiefIy/JtKOIwfW4i3GSQFkaOifRGcvRgNWwT1unHAQNrscdlvQAJRy5V+RO8yRbYzNfJC0rlePqVoknUBa8INzPUPsDzIUsmWf4L54yt/8BG91FtlbnuRPssCBHRDJHimL7iaxAecnT7hqZUyyEI5o6425jh5uNXe7ELfo2ZkX3WNJ9mjKlKTIOXMKBTUhkSlOmvDdtrJdsZW1+1r1ZuyeAlq7eHlOdgyMRDu8E+vlbzPb7E+fNk6cQZyHLGWYtdm2Ldd0pibUqO3SzFYEUDi0FmVM4E7GbF5lw6EJSp5EUrckDYYlFxtBF9FxMIBICYemYhH2TMLJhXWdq6Wbq0txNVtGGJmRvlCB6Gow5lRicSesG/Zinw3WWVTHfdUxCz8R1o6lQQJDoHMjp5jGdLGB/nNSZVMtir1w4ZY0igch6+bxWSFhCZdGi2JFl/aS51TMREk8oDZvjeTafrdLakJAfnTbODdLnOep1zL8mD2nfG/NL8Tv6NiJ3aoacT++7qRjN9G/TwKYHpr7nmKaqKwsA52Xd1DJe1vt5BllAtK2Id/2JWfVcIF1/wJ2/GzK40eJv/+QRv3uzycgGhduUSkbKIPHkZbGc6IxY57Wi9X65chvZBMSkf6OErwHVOycRjG2AFo6mzkidYpzrMlYVnW6TWz/NibcGZ24PPd1drUXv9EkCyftUz1jv8BaxmWZWZZmpXVtaWoLpDkIJrC6uBTg/WemqDlPutpweMOMlNpOEe2NkZ4BxV6gnvTG4Fy8Ju8vY/INiWbsEMc5jxjYgVpKw3ON63CYkKTyBtDRUTihNvWJVdRDcVCO52Ac7GSzjFMZLOlYRKEsrSDFO0s1iRF+jXnyD2Ts4lZwX+p4h3hj8eIx4F/HvW3d5N2rXzSVddsKLNcWpY2p7ihQOLVxdVBuvyMvashoQO1WAT7+n7rSXiaupMnpZzFcb6zQ2FX40PhMgnLP94QYj7v59Sv/zZb74rM39W9ssxwPmgzGp0xNgU0t2lVUjaWnqlIGJ2MuLrOy8ICytm7qCwUhR9FyNl2RWl1NS0czS0tLWKR9EB/x44y4P/ypDvX+PGQ7Po/75QHprCbb7tKxnf6PBM3+Ng9UeS40hzSAlVoZQFg3hkQ0wThKrnIbKaesxLZXWjWhTznftYMycHpfTUTJRSDjicETmNGMT0LWaYR5iveBzfxPzsoV6u4HbPzh30SzO3Ghf3RiEiEAjFxfwrYTNz67R/55j7sEB95d2eNja5lrY5ZvxCjtpi0/ar/gwelsznC07z65plWRCczt8z51gjy/TG/xn/zYjF9I3IdfjLg/jLR4PP+DH7+7x7t08rV9ENDcdSz/ZRvSHmHfvi9bHt9EZmBafZ8WRZYiDiNabZbxSdBrzfDEK2V1ucj3p1nPmTj4HQN/GjF3AdjrHbtqsXfp6o8vdZIf9PGEvb9Yx+2a0wJvRAs87y7x7vUi4rWm+cbTeZNjnL88Vg0cMdF5Lzj4lUPNtCEJEEuMDzfDBCqNVzfs/SPmdh8/4ycYd8q2E+aeShRc54UGK6o7LEfOYpSbpYsjeR5rRJyOazTE35js8+e9b3PpnT7SfEbzZg9zghyN8luEGgwurCpftu3qPPejMgG7EEdK22B4Vr8zHmrAjaG1ZGs93Ye8Au7c/+fDKCnp1keG1ZfpjRRZqrJOogSTZ2Efu9TCv31xKvcPyv7ucVe2+XzxEAAAAAElFTkSuQmCC\" y=\"-35.501263\"/>\n   </g>\n   <g id=\"patch_48\">\n    <path d=\"M 623.554237 92.501263 \nL 623.554237 35.7555 \n\" style=\"fill:none;stroke:#000000;stroke-linecap:square;stroke-linejoin:miter;stroke-width:0.8;\"/>\n   </g>\n   <g id=\"patch_49\">\n    <path d=\"M 680.3 92.501263 \nL 680.3 35.7555 \n\" style=\"fill:none;stroke:#000000;stroke-linecap:square;stroke-linejoin:miter;stroke-width:0.8;\"/>\n   </g>\n   <g id=\"patch_50\">\n    <path d=\"M 623.554237 92.501263 \nL 680.3 92.501263 \n\" style=\"fill:none;stroke:#000000;stroke-linecap:square;stroke-linejoin:miter;stroke-width:0.8;\"/>\n   </g>\n   <g id=\"patch_51\">\n    <path d=\"M 623.554237 35.7555 \nL 680.3 35.7555 \n\" style=\"fill:none;stroke:#000000;stroke-linecap:square;stroke-linejoin:miter;stroke-width:0.8;\"/>\n   </g>\n   <g id=\"text_10\">\n    <!-- t-shirt -->\n    <defs>\n     <path d=\"M 4.890625 31.390625 \nL 31.203125 31.390625 \nL 31.203125 23.390625 \nL 4.890625 23.390625 \nz\n\" id=\"DejaVuSans-45\"/>\n     <path d=\"M 54.890625 33.015625 \nL 54.890625 0 \nL 45.90625 0 \nL 45.90625 32.71875 \nQ 45.90625 40.484375 42.875 44.328125 \nQ 39.84375 48.1875 33.796875 48.1875 \nQ 26.515625 48.1875 22.3125 43.546875 \nQ 18.109375 38.921875 18.109375 30.90625 \nL 18.109375 0 \nL 9.078125 0 \nL 9.078125 75.984375 \nL 18.109375 75.984375 \nL 18.109375 46.1875 \nQ 21.34375 51.125 25.703125 53.5625 \nQ 30.078125 56 35.796875 56 \nQ 45.21875 56 50.046875 50.171875 \nQ 54.890625 44.34375 54.890625 33.015625 \nz\n\" id=\"DejaVuSans-104\"/>\n     <path d=\"M 9.421875 54.6875 \nL 18.40625 54.6875 \nL 18.40625 0 \nL 9.421875 0 \nz\nM 9.421875 75.984375 \nL 18.40625 75.984375 \nL 18.40625 64.59375 \nL 9.421875 64.59375 \nz\n\" id=\"DejaVuSans-105\"/>\n    </defs>\n    <g transform=\"translate(633.996494 16.318125)scale(0.12 -0.12)\">\n     <use xlink:href=\"#DejaVuSans-116\"/>\n     <use x=\"39.208984\" xlink:href=\"#DejaVuSans-45\"/>\n     <use x=\"75.292969\" xlink:href=\"#DejaVuSans-115\"/>\n     <use x=\"127.392578\" xlink:href=\"#DejaVuSans-104\"/>\n     <use x=\"190.771484\" xlink:href=\"#DejaVuSans-105\"/>\n     <use x=\"218.554688\" xlink:href=\"#DejaVuSans-114\"/>\n     <use x=\"259.667969\" xlink:href=\"#DejaVuSans-116\"/>\n    </g>\n    <!-- t-shirt -->\n    <g transform=\"translate(633.996494 29.7555)scale(0.12 -0.12)\">\n     <use xlink:href=\"#DejaVuSans-116\"/>\n     <use x=\"39.208984\" xlink:href=\"#DejaVuSans-45\"/>\n     <use x=\"75.292969\" xlink:href=\"#DejaVuSans-115\"/>\n     <use x=\"127.392578\" xlink:href=\"#DejaVuSans-104\"/>\n     <use x=\"190.771484\" xlink:href=\"#DejaVuSans-105\"/>\n     <use x=\"218.554688\" xlink:href=\"#DejaVuSans-114\"/>\n     <use x=\"259.667969\" xlink:href=\"#DejaVuSans-116\"/>\n    </g>\n   </g>\n  </g>\n </g>\n <defs>\n  <clipPath id=\"pf70b337dd4\">\n   <rect height=\"56.745763\" width=\"56.745763\" x=\"10.7\" y=\"35.7555\"/>\n  </clipPath>\n  <clipPath id=\"pf7fc205b6f\">\n   <rect height=\"56.745763\" width=\"56.745763\" x=\"78.794915\" y=\"35.7555\"/>\n  </clipPath>\n  <clipPath id=\"p6af3a233cc\">\n   <rect height=\"56.745763\" width=\"56.745763\" x=\"146.889831\" y=\"35.7555\"/>\n  </clipPath>\n  <clipPath id=\"p837eaa3f99\">\n   <rect height=\"56.745763\" width=\"56.745763\" x=\"214.984746\" y=\"35.7555\"/>\n  </clipPath>\n  <clipPath id=\"paf65006c7b\">\n   <rect height=\"56.745763\" width=\"56.745763\" x=\"283.079661\" y=\"35.7555\"/>\n  </clipPath>\n  <clipPath id=\"pd5afb58d9e\">\n   <rect height=\"56.745763\" width=\"56.745763\" x=\"351.174576\" y=\"35.7555\"/>\n  </clipPath>\n  <clipPath id=\"pd2eee723d1\">\n   <rect height=\"56.745763\" width=\"56.745763\" x=\"419.269492\" y=\"35.7555\"/>\n  </clipPath>\n  <clipPath id=\"p5d6995fde9\">\n   <rect height=\"56.745763\" width=\"56.745763\" x=\"487.364407\" y=\"35.7555\"/>\n  </clipPath>\n  <clipPath id=\"p74557c37e0\">\n   <rect height=\"56.745763\" width=\"56.745763\" x=\"555.459322\" y=\"35.7555\"/>\n  </clipPath>\n  <clipPath id=\"pab48410d2e\">\n   <rect height=\"56.745763\" width=\"56.745763\" x=\"623.554237\" y=\"35.7555\"/>\n  </clipPath>\n </defs>\n</svg>\n"
          },
          "metadata": {
            "needs_background": "light"
          }
        }
      ]
    }
  ]
}